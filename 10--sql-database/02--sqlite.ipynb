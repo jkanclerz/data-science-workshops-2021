{
 "cells": [
  {
   "cell_type": "code",
   "execution_count": 9,
   "metadata": {},
   "outputs": [],
   "source": [
    "import sqlite3\n",
    "from sqlite3 import Error\n",
    "\n",
    "def connect(db_file):\n",
    "    \"\"\" create a database connection to a SQLite database \"\"\"\n",
    "    conn = sqlite3.connect(db_file)\n",
    "    return conn\n"
   ]
  },
  {
   "cell_type": "code",
   "execution_count": 164,
   "metadata": {},
   "outputs": [],
   "source": [
    "DB_FILE = \"/tmp/company_db.db\""
   ]
  },
  {
   "cell_type": "code",
   "execution_count": 165,
   "metadata": {},
   "outputs": [
    {
     "name": "stdout",
     "output_type": "stream",
     "text": [
      "(1, '3.28.0')\n"
     ]
    }
   ],
   "source": [
    "conn = connect(DB_FILE)\n",
    "with conn:\n",
    "    c = conn.cursor()\n",
    "    c.execute(\"Select 1, SQLITE_VERSION();\")\n",
    "    res = c.fetchone()\n",
    "    print(res)"
   ]
  },
  {
   "cell_type": "code",
   "execution_count": 174,
   "metadata": {},
   "outputs": [
    {
     "name": "stdout",
     "output_type": "stream",
     "text": [
      "None\n"
     ]
    }
   ],
   "source": [
    "conn = connect(DB_FILE)\n",
    "with conn:\n",
    "    c = conn.cursor()\n",
    "    c.execute(\"DROP TABLE IF EXISTS Employee\")\n",
    "    c.execute(\"DROP TABLE IF EXISTS Task\")\n",
    "    res = c.fetchone()\n",
    "    print(res)"
   ]
  },
  {
   "cell_type": "code",
   "execution_count": 175,
   "metadata": {},
   "outputs": [],
   "source": [
    "create_table = '''\n",
    "CREATE TABLE IF NOT EXISTS Employee (\n",
    "  id INTEGER PRIMARY KEY AUTOINCREMENT,\n",
    "  name text NOT NULL,\n",
    "  sallary money NOT NULL\n",
    ")\n",
    "'''"
   ]
  },
  {
   "cell_type": "code",
   "execution_count": 176,
   "metadata": {},
   "outputs": [],
   "source": [
    "conn = connect(DB_FILE)\n",
    "with conn:\n",
    "    c = conn.cursor()\n",
    "    c.execute(create_table)"
   ]
  },
  {
   "cell_type": "code",
   "execution_count": 177,
   "metadata": {},
   "outputs": [],
   "source": [
    "insert_sql = '''\n",
    "INSERT INTO Employee (name, sallary) VALUES (?,?)\n",
    "''';"
   ]
  },
  {
   "cell_type": "code",
   "execution_count": 178,
   "metadata": {},
   "outputs": [
    {
     "name": "stdout",
     "output_type": "stream",
     "text": [
      "2\n"
     ]
    }
   ],
   "source": [
    "conn = connect(DB_FILE)\n",
    "with conn:\n",
    "    c = conn.cursor()\n",
    "    c.execute(insert_sql, (\"Jakub\", 2500.00))\n",
    "    c.execute(insert_sql, (\"Michał\", 3500.00))\n",
    "    print(c.lastrowid)"
   ]
  },
  {
   "cell_type": "code",
   "execution_count": 179,
   "metadata": {},
   "outputs": [
    {
     "name": "stdout",
     "output_type": "stream",
     "text": [
      "(1, 'Jakub', 2500)\n",
      "(2, 'Michał', 3500)\n"
     ]
    }
   ],
   "source": [
    "conn = connect(DB_FILE)\n",
    "with conn:\n",
    "    c = conn.cursor()\n",
    "    c.execute(\"Select * from Employee\")\n",
    "    rows = c.fetchall() \n",
    "    for row in rows:\n",
    "        print(row)\n"
   ]
  },
  {
   "cell_type": "code",
   "execution_count": 180,
   "metadata": {},
   "outputs": [],
   "source": [
    "create_tasks_table = \"\"\"\n",
    "    CREATE TABLE IF NOT EXISTS Task (\n",
    "        id integer PRIMARY KEY,\n",
    "        employee_id integer,\n",
    "        name text NOT NULL,\n",
    "        priority integer,\n",
    "        FOREIGN KEY (employee_id) REFERENCES Employee(id)\n",
    ");\n",
    "\"\"\"\n",
    "\n",
    "conn = connect(DB_FILE)\n",
    "with conn:\n",
    "    c = conn.cursor()\n",
    "    c.execute(\"PRAGMA foreign_keys = ON;\")\n",
    "    c.execute(create_tasks_table)"
   ]
  },
  {
   "cell_type": "code",
   "execution_count": 182,
   "metadata": {},
   "outputs": [],
   "source": [
    "conn = connect(DB_FILE)\n",
    "with conn:\n",
    "    c = conn.cursor()\n",
    "    c.execute(\"INSERT INTO Task (employee_id, name, priority) VALUES (?, ?, ?)\", (10, \"Learn DELETE FROM TABLE sql stmt\", 100))"
   ]
  },
  {
   "cell_type": "code",
   "execution_count": 184,
   "metadata": {},
   "outputs": [
    {
     "name": "stdout",
     "output_type": "stream",
     "text": [
      "(1, 10, 'Learn DELETE FROM TABLE sql stmt', 100)\n"
     ]
    }
   ],
   "source": [
    "conn = connect(DB_FILE)\n",
    "with conn:\n",
    "    c = conn.cursor()\n",
    "    c.execute(\"Select * from Task\")\n",
    "    rows = c.fetchall() \n",
    "    for row in rows:\n",
    "        print(row)"
   ]
  },
  {
   "cell_type": "markdown",
   "metadata": {},
   "source": [
    "Note that Foreign keys constraints are not enabled by default in SQLite, you have to enable them first by the running the following command:"
   ]
  },
  {
   "cell_type": "code",
   "execution_count": 185,
   "metadata": {},
   "outputs": [],
   "source": [
    "enable_fk_check = '''PRAGMA foreign_keys = ON;'''\n",
    "conn = connect(DB_FILE)\n",
    "with conn:\n",
    "    c = conn.cursor()\n",
    "    c.execute(enable_fk_check)"
   ]
  },
  {
   "cell_type": "code",
   "execution_count": 186,
   "metadata": {},
   "outputs": [
    {
     "name": "stdout",
     "output_type": "stream",
     "text": [
      "1\n"
     ]
    }
   ],
   "source": [
    "conn = connect(DB_FILE)\n",
    "with conn:\n",
    "    c = conn.cursor()\n",
    "    c.execute(\"PRAGMA foreign_keys = ON;\")\n",
    "    c.execute(\"PRAGMA foreign_keys\")\n",
    "    rows = c.fetchone() \n",
    "    for row in rows:\n",
    "        print(row)"
   ]
  },
  {
   "cell_type": "code",
   "execution_count": 188,
   "metadata": {},
   "outputs": [],
   "source": [
    "conn = connect(DB_FILE)\n",
    "with conn:\n",
    "    c = conn.cursor()\n",
    "    c.execute(\"PRAGMA foreign_keys = ON;\")\n",
    "    c.execute(\"INSERT INTO Task (employee_id, name, priority) VALUES (?, ?, ?)\", (1, \"Learn DELETE FROM TABLE sql stmt\", 100))"
   ]
  },
  {
   "cell_type": "code",
   "execution_count": 190,
   "metadata": {},
   "outputs": [
    {
     "name": "stdout",
     "output_type": "stream",
     "text": [
      "(1, 10, 'Learn DELETE FROM TABLE sql stmt', 100)\n",
      "(2, 1, 'Learn DELETE FROM TABLE sql stmt', 100)\n"
     ]
    }
   ],
   "source": [
    "conn = connect(DB_FILE)\n",
    "with conn:\n",
    "    c = conn.cursor()\n",
    "    c.execute(\"Select * from Task\")\n",
    "    rows = c.fetchall() \n",
    "    for row in rows:\n",
    "        print(row)"
   ]
  },
  {
   "cell_type": "code",
   "execution_count": 191,
   "metadata": {},
   "outputs": [
    {
     "ename": "IntegrityError",
     "evalue": "FOREIGN KEY constraint failed",
     "output_type": "error",
     "traceback": [
      "\u001b[0;31m---------------------------------------------------------------------------\u001b[0m",
      "\u001b[0;31mIntegrityError\u001b[0m                            Traceback (most recent call last)",
      "\u001b[0;32m<ipython-input-191-371e7481106a>\u001b[0m in \u001b[0;36m<module>\u001b[0;34m\u001b[0m\n\u001b[1;32m      3\u001b[0m     \u001b[0mc\u001b[0m \u001b[0;34m=\u001b[0m \u001b[0mconn\u001b[0m\u001b[0;34m.\u001b[0m\u001b[0mcursor\u001b[0m\u001b[0;34m(\u001b[0m\u001b[0;34m)\u001b[0m\u001b[0;34m\u001b[0m\u001b[0;34m\u001b[0m\u001b[0m\n\u001b[1;32m      4\u001b[0m     \u001b[0mc\u001b[0m\u001b[0;34m.\u001b[0m\u001b[0mexecute\u001b[0m\u001b[0;34m(\u001b[0m\u001b[0;34m\"PRAGMA foreign_keys = ON;\"\u001b[0m\u001b[0;34m)\u001b[0m\u001b[0;34m\u001b[0m\u001b[0;34m\u001b[0m\u001b[0m\n\u001b[0;32m----> 5\u001b[0;31m     \u001b[0mc\u001b[0m\u001b[0;34m.\u001b[0m\u001b[0mexecute\u001b[0m\u001b[0;34m(\u001b[0m\u001b[0;34m\"INSERT INTO Task (employee_id, name, priority) VALUES (?, ?, ?)\"\u001b[0m\u001b[0;34m,\u001b[0m \u001b[0;34m(\u001b[0m\u001b[0;36m100\u001b[0m\u001b[0;34m,\u001b[0m \u001b[0;34m\"Learn DELETE FROM TABLE sql stmt\"\u001b[0m\u001b[0;34m,\u001b[0m \u001b[0;36m100\u001b[0m\u001b[0;34m)\u001b[0m\u001b[0;34m)\u001b[0m\u001b[0;34m\u001b[0m\u001b[0;34m\u001b[0m\u001b[0m\n\u001b[0m",
      "\u001b[0;31mIntegrityError\u001b[0m: FOREIGN KEY constraint failed"
     ]
    }
   ],
   "source": [
    "conn = connect(DB_FILE)\n",
    "with conn:\n",
    "    c = conn.cursor()\n",
    "    c.execute(\"PRAGMA foreign_keys = ON;\")\n",
    "    c.execute(\"INSERT INTO Task (employee_id, name, priority) VALUES (?, ?, ?)\", (100, \"Learn DELETE FROM TABLE sql stmt\", 100))"
   ]
  },
  {
   "cell_type": "code",
   "execution_count": 193,
   "metadata": {},
   "outputs": [
    {
     "name": "stdout",
     "output_type": "stream",
     "text": [
      "(1, 'Jakub', 2500, 2, 1, 'Learn DELETE FROM TABLE sql stmt', 100)\n"
     ]
    }
   ],
   "source": [
    "conn = connect(DB_FILE)\n",
    "with conn:\n",
    "    c = conn.cursor()\n",
    "    c.execute(\"\"\"\n",
    "        Select * from Employee e \n",
    "        JOIN Task t on e.id = t.employee_id;\n",
    "    \"\"\")\n",
    "    rows = c.fetchall() \n",
    "    for row in rows:\n",
    "        print(row)"
   ]
  },
  {
   "cell_type": "code",
   "execution_count": null,
   "metadata": {},
   "outputs": [],
   "source": []
  }
 ],
 "metadata": {
  "kernelspec": {
   "display_name": "Python 3",
   "language": "python",
   "name": "python3"
  },
  "language_info": {
   "codemirror_mode": {
    "name": "ipython",
    "version": 3
   },
   "file_extension": ".py",
   "mimetype": "text/x-python",
   "name": "python",
   "nbconvert_exporter": "python",
   "pygments_lexer": "ipython3",
   "version": "3.7.5"
  }
 },
 "nbformat": 4,
 "nbformat_minor": 2
}
