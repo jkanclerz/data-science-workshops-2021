{
 "cells": [
  {
   "cell_type": "code",
   "execution_count": null,
   "metadata": {},
   "outputs": [],
   "source": [
    "import sqlite3\n",
    "from sqlite3 import Error\n",
    "\n",
    "def connect(db_file):\n",
    "    \"\"\" create a database connection to a SQLite database \"\"\"\n",
    "    conn = sqlite3.connect(db_file)\n",
    "    return conn\n"
   ]
  },
  {
   "cell_type": "code",
   "execution_count": null,
   "metadata": {},
   "outputs": [],
   "source": [
    "DB_FILE = \"/tmp/company_db.db\""
   ]
  },
  {
   "cell_type": "code",
   "execution_count": null,
   "metadata": {},
   "outputs": [],
   "source": [
    "conn = connect(DB_FILE)\n",
    "with conn:\n",
    "    c = conn.cursor()\n",
    "    c.execute(\"Select 1, SQLITE_VERSION();\")\n",
    "    res = c.fetchone()\n",
    "    print(res)"
   ]
  },
  {
   "cell_type": "code",
   "execution_count": null,
   "metadata": {},
   "outputs": [],
   "source": [
    "conn = connect(DB_FILE)\n",
    "with conn:\n",
    "    c = conn.cursor()\n",
    "    c.execute(\"DROP TABLE IF EXISTS Employee\")\n",
    "    c.execute(\"DROP TABLE IF EXISTS Task\")\n",
    "    res = c.fetchone()\n",
    "    print(res)"
   ]
  },
  {
   "cell_type": "code",
   "execution_count": null,
   "metadata": {},
   "outputs": [],
   "source": [
    "create_table = '''\n",
    "CREATE TABLE IF NOT EXISTS Employee (\n",
    "  id INTEGER PRIMARY KEY AUTOINCREMENT,\n",
    "  name text NOT NULL,\n",
    "  sallary money NOT NULL\n",
    ")\n",
    "'''"
   ]
  },
  {
   "cell_type": "code",
   "execution_count": null,
   "metadata": {},
   "outputs": [],
   "source": [
    "conn = connect(DB_FILE)\n",
    "with conn:\n",
    "    c = conn.cursor()\n",
    "    c.execute(create_table)"
   ]
  },
  {
   "cell_type": "code",
   "execution_count": null,
   "metadata": {},
   "outputs": [],
   "source": [
    "insert_sql = '''\n",
    "INSERT INTO Employee (name, sallary) VALUES (?,?)\n",
    "''';"
   ]
  },
  {
   "cell_type": "code",
   "execution_count": null,
   "metadata": {},
   "outputs": [],
   "source": [
    "conn = connect(DB_FILE)\n",
    "with conn:\n",
    "    c = conn.cursor()\n",
    "    c.execute(insert_sql, (\"Jakub\", 2500.00))\n",
    "    c.execute(insert_sql, (\"Michał\", 3500.00))\n",
    "    print(c.lastrowid)"
   ]
  },
  {
   "cell_type": "code",
   "execution_count": null,
   "metadata": {},
   "outputs": [],
   "source": [
    "conn = connect(DB_FILE)\n",
    "with conn:\n",
    "    c = conn.cursor()\n",
    "    c.execute(\"Select * from Employee\")\n",
    "    rows = c.fetchall() \n",
    "    for row in rows:\n",
    "        print(row)\n"
   ]
  },
  {
   "cell_type": "code",
   "execution_count": null,
   "metadata": {},
   "outputs": [],
   "source": [
    "create_tasks_table = \"\"\"\n",
    "    CREATE TABLE IF NOT EXISTS Task (\n",
    "        id integer PRIMARY KEY,\n",
    "        employee_id integer,\n",
    "        name text NOT NULL,\n",
    "        priority integer,\n",
    "        FOREIGN KEY (employee_id) REFERENCES Employee(id)\n",
    ");\n",
    "\"\"\"\n",
    "\n",
    "conn = connect(DB_FILE)\n",
    "with conn:\n",
    "    c = conn.cursor()\n",
    "    c.execute(\"PRAGMA foreign_keys = ON;\")\n",
    "    c.execute(create_tasks_table)"
   ]
  },
  {
   "cell_type": "code",
   "execution_count": null,
   "metadata": {},
   "outputs": [],
   "source": [
    "conn = connect(DB_FILE)\n",
    "with conn:\n",
    "    c = conn.cursor()\n",
    "    c.execute(\"INSERT INTO Task (employee_id, name, priority) VALUES (?, ?, ?)\", (10, \"Learn DELETE FROM TABLE sql stmt\", 100))"
   ]
  },
  {
   "cell_type": "code",
   "execution_count": null,
   "metadata": {},
   "outputs": [],
   "source": [
    "conn = connect(DB_FILE)\n",
    "with conn:\n",
    "    c = conn.cursor()\n",
    "    c.execute(\"Select * from Task\")\n",
    "    rows = c.fetchall() \n",
    "    for row in rows:\n",
    "        print(row)"
   ]
  },
  {
   "cell_type": "markdown",
   "metadata": {},
   "source": [
    "Note that Foreign keys constraints are not enabled by default in SQLite, you have to enable them first by the running the following command:"
   ]
  },
  {
   "cell_type": "code",
   "execution_count": null,
   "metadata": {},
   "outputs": [],
   "source": [
    "enable_fk_check = '''PRAGMA foreign_keys = ON;'''\n",
    "conn = connect(DB_FILE)\n",
    "with conn:\n",
    "    c = conn.cursor()\n",
    "    c.execute(enable_fk_check)"
   ]
  },
  {
   "cell_type": "code",
   "execution_count": null,
   "metadata": {},
   "outputs": [],
   "source": [
    "conn = connect(DB_FILE)\n",
    "with conn:\n",
    "    c = conn.cursor()\n",
    "    c.execute(\"PRAGMA foreign_keys = ON;\")\n",
    "    c.execute(\"PRAGMA foreign_keys\")\n",
    "    rows = c.fetchone() \n",
    "    for row in rows:\n",
    "        print(row)"
   ]
  },
  {
   "cell_type": "code",
   "execution_count": null,
   "metadata": {},
   "outputs": [],
   "source": [
    "conn = connect(DB_FILE)\n",
    "with conn:\n",
    "    c = conn.cursor()\n",
    "    c.execute(\"PRAGMA foreign_keys = ON;\")\n",
    "    c.execute(\"INSERT INTO Task (employee_id, name, priority) VALUES (?, ?, ?)\", (1, \"Learn DELETE FROM TABLE sql stmt\", 100))"
   ]
  },
  {
   "cell_type": "code",
   "execution_count": null,
   "metadata": {},
   "outputs": [],
   "source": [
    "conn = connect(DB_FILE)\n",
    "with conn:\n",
    "    c = conn.cursor()\n",
    "    c.execute(\"Select * from Task\")\n",
    "    rows = c.fetchall() \n",
    "    for row in rows:\n",
    "        print(row)"
   ]
  },
  {
   "cell_type": "code",
   "execution_count": null,
   "metadata": {},
   "outputs": [],
   "source": [
    "conn = connect(DB_FILE)\n",
    "with conn:\n",
    "    c = conn.cursor()\n",
    "    c.execute(\"PRAGMA foreign_keys = ON;\")\n",
    "    c.execute(\"INSERT INTO Task (employee_id, name, priority) VALUES (?, ?, ?)\", (100, \"Learn DELETE FROM TABLE sql stmt\", 100))"
   ]
  },
  {
   "cell_type": "code",
   "execution_count": null,
   "metadata": {},
   "outputs": [],
   "source": [
    "conn = connect(DB_FILE)\n",
    "with conn:\n",
    "    c = conn.cursor()\n",
    "    c.execute(\"\"\"\n",
    "        Select * from Employee e \n",
    "        JOIN Task t on e.id = t.employee_id;\n",
    "    \"\"\")\n",
    "    rows = c.fetchall() \n",
    "    for row in rows:\n",
    "        print(row)"
   ]
  },
  {
   "cell_type": "code",
   "execution_count": null,
   "metadata": {},
   "outputs": [],
   "source": []
  },
  {
   "cell_type": "code",
   "execution_count": null,
   "metadata": {},
   "outputs": [],
   "source": []
  }
 ],
 "metadata": {
  "kernelspec": {
   "display_name": "Python 3",
   "language": "python",
   "name": "python3"
  },
  "language_info": {
   "codemirror_mode": {
    "name": "ipython",
    "version": 3
   },
   "file_extension": ".py",
   "mimetype": "text/x-python",
   "name": "python",
   "nbconvert_exporter": "python",
   "pygments_lexer": "ipython3",
   "version": "3.8.5"
  }
 },
 "nbformat": 4,
 "nbformat_minor": 2
}
