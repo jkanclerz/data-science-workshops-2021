{
 "cells": [
  {
   "cell_type": "markdown",
   "metadata": {},
   "source": [
    "Advantages of Using SQL (Rahul, 2018)\n",
    "* **It is standardized\n",
    "    no matter which relational database you choose, it will have an SQL query interpreter built in. The sheer popularity of SQL makes it worth everyone’s time who interacts with a data system.\n",
    "\n",
    "* It has a reasonable English-like syntax.\n",
    "\n",
    "    None of the painstaking detail of programming languages like C or Java have to be specified when using SQL. It is concise, easy to understand, and easy to write database queries with. It is declarative in nature, meaning you only have to declare what you want to achieve rather than going over the steps to achieve the results.\n",
    "\n",
    "* It allows a uniform way to query and administer a relational database.\n",
    "    Many of the database administration commands are standard SQL commands making the transfer of skills much easier.\n",
    "\n",
    "* It is mature – SQL has been around for over 35 years.\n",
    "    While many new features have been added to it, the core of SQL has largely been unchanged. You can derive a lot of utility knowing a few basic SQL concepts and commands, and they will serve you well into the future.\n",
    "\n",
    "However, please keep it mind that while it is similar across DBMS, there are subtle differences. These differences result from different interpretations of the standard, different development styles, or different underlying architectures. In practice, refer to their techinical documents for details."
   ]
  },
  {
   "cell_type": "markdown",
   "metadata": {},
   "source": [
    "Advantages of Using SQL (Rahul, 2018)\n",
    "* **It is standardized\n",
    "    no matter which relational database you choose, it will have an SQL query interpreter built in. The sheer popularity of SQL makes it worth everyone’s time who interacts with a data system.\n",
    "\n",
    "* It has a reasonable English-like syntax.\n",
    "\n",
    "    None of the painstaking detail of programming languages like C or Java have to be specified when using SQL. It is concise, easy to understand, and easy to write database queries with. It is declarative in nature, meaning you only have to declare what you want to achieve rather than going over the steps to achieve the results.\n",
    "\n",
    "* It allows a uniform way to query and administer a relational database.\n",
    "    Many of the database administration commands are standard SQL commands making the transfer of skills much easier.\n",
    "\n",
    "* It is mature – SQL has been around for over 35 years.\n",
    "    While many new features have been added to it, the core of SQL has largely been unchanged. You can derive a lot of utility knowing a few basic SQL concepts and commands, and they will serve you well into the future.\n",
    "\n",
    "However, please keep it mind that while it is similar across DBMS, there are subtle differences. These differences result from different interpretations of the standard, different development styles, or different underlying architectures. In practice, refer to their techinical documents for details."
   ]
  },
  {
   "cell_type": "markdown",
   "metadata": {},
   "source": [
    "## References\n",
    "\n",
    "SQL Primer: An Accelerated Introduction to SQL Basics by Rahul Batra. Rahul Batra (2018). https://doi.org/10.1007/978-1-4842-3576-8_7\n",
    "\n",
    "https://www.sqlite.org/about.html\n",
    "\n",
    "\n",
    "https://en.wikipedia.org/wiki/SQL\n",
    "\n",
    "## tools\n",
    "\n",
    "* MS SQL\n",
    "* ORACLE \n",
    "* Postgresql\n",
    "* MySql / MariaDB\n",
    "* SQLite\n",
    "\n",
    "## ACID\n",
    "* Atomic\n",
    "* Consistency\n",
    "* Isolation\n",
    "* Durability\n",
    "\n",
    "\n",
    "## integrity\n",
    "* Null / Not null\n",
    "* [1,10]\n",
    "* Unique / Key\n",
    "* References\n",
    "* Bussiness\n",
    "\n",
    "\n",
    "\n",
    "## replication \n",
    "\n",
    "![](master_master.png)\n",
    "\n",
    "![](slaves.png)\n",
    "\n",
    "* Autoincrement?\n",
    "    * autoincrement offset\n",
    "    * autoincrement\n",
    "    * UUID"
   ]
  },
  {
   "cell_type": "code",
   "execution_count": null,
   "metadata": {},
   "outputs": [],
   "source": []
  },
  {
   "cell_type": "code",
   "execution_count": null,
   "metadata": {},
   "outputs": [],
   "source": []
  }
 ],
 "metadata": {
  "kernelspec": {
   "display_name": "Python 3",
   "language": "python",
   "name": "python3"
  },
  "language_info": {
   "codemirror_mode": {
    "name": "ipython",
    "version": 3
   },
   "file_extension": ".py",
   "mimetype": "text/x-python",
   "name": "python",
   "nbconvert_exporter": "python",
   "pygments_lexer": "ipython3",
   "version": "3.8.5"
  }
 },
 "nbformat": 4,
 "nbformat_minor": 2
}
