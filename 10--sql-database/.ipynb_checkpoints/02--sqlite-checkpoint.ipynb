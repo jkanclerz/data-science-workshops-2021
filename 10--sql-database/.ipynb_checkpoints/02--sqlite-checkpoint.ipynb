{
 "cells": [
  {
   "cell_type": "code",
   "execution_count": 9,
   "metadata": {},
   "outputs": [],
   "source": [
    "import sqlite3\n",
    "from sqlite3 import Error\n",
    "\n",
    "def connect(db_file):\n",
    "    \"\"\" create a database connection to a SQLite database \"\"\"\n",
    "    conn = sqlite3.connect(db_file)\n",
    "    return conn\n"
   ]
  },
  {
   "cell_type": "code",
   "execution_count": 126,
   "metadata": {},
   "outputs": [],
   "source": [
    "DB_FILE = \"/tmp/temporary_db.db\""
   ]
  },
  {
   "cell_type": "code",
   "execution_count": 127,
   "metadata": {},
   "outputs": [
    {
     "name": "stdout",
     "output_type": "stream",
     "text": [
      "(1, '3.28.0')\n"
     ]
    }
   ],
   "source": [
    "conn = connect(DB_FILE)\n",
    "with conn:\n",
    "    c = conn.cursor()\n",
    "    c.execute(\"Select 1, SQLITE_VERSION();\")\n",
    "    res = c.fetchone()\n",
    "    print(res)"
   ]
  },
  {
   "cell_type": "code",
   "execution_count": 128,
   "metadata": {},
   "outputs": [
    {
     "name": "stdout",
     "output_type": "stream",
     "text": [
      "None\n"
     ]
    }
   ],
   "source": [
    "conn = connect(DB_FILE)\n",
    "with conn:\n",
    "    c = conn.cursor()\n",
    "    c.execute(\"DROP TABLE IF EXISTS Employee\")\n",
    "    c.execute(\"DROP TABLE IF EXISTS Task\")\n",
    "    res = c.fetchone()\n",
    "    print(res)"
   ]
  },
  {
   "cell_type": "code",
   "execution_count": 129,
   "metadata": {},
   "outputs": [],
   "source": [
    "create_table = '''\n",
    "CREATE TABLE IF NOT EXISTS Employee (\n",
    "  id INTEGER PRIMARY KEY AUTOINCREMENT,\n",
    "  name text NOT NULL,\n",
    "  sallary money NOT NULL\n",
    ")\n",
    "'''"
   ]
  },
  {
   "cell_type": "code",
   "execution_count": 130,
   "metadata": {},
   "outputs": [],
   "source": [
    "conn = connect(DB_FILE)\n",
    "with conn:\n",
    "    c = conn.cursor()\n",
    "    c.execute(create_table)"
   ]
  },
  {
   "cell_type": "code",
   "execution_count": 154,
   "metadata": {},
   "outputs": [],
   "source": [
    "insert_sql = '''\n",
    "INSERT INTO Employee (name, sallary) VALUES (?,?)\n",
    "''';"
   ]
  },
  {
   "cell_type": "code",
   "execution_count": 155,
   "metadata": {},
   "outputs": [
    {
     "name": "stdout",
     "output_type": "stream",
     "text": [
      "2\n"
     ]
    }
   ],
   "source": [
    "conn = connect(DB_FILE)\n",
    "with conn:\n",
    "    c = conn.cursor()\n",
    "    c.execute(insert_sql, (\"Jakub\", 2500.00))\n",
    "    c.execute(insert_sql, (\"Michał\", 3500.00))\n",
    "    print(c.lastrowid)"
   ]
  },
  {
   "cell_type": "code",
   "execution_count": 156,
   "metadata": {},
   "outputs": [
    {
     "name": "stdout",
     "output_type": "stream",
     "text": [
      "(1, 'Jakub', 2500)\n",
      "(2, 'Jakub', 2500)\n"
     ]
    }
   ],
   "source": [
    "conn = connect(DB_FILE)\n",
    "with conn:\n",
    "    c = conn.cursor()\n",
    "    c.execute(\"Select * from Employee\")\n",
    "    rows = c.fetchall() \n",
    "    for row in rows:\n",
    "        print(row)\n"
   ]
  },
  {
   "cell_type": "code",
   "execution_count": null,
   "metadata": {},
   "outputs": [],
   "source": [
    "\n"
   ]
  },
  {
   "cell_type": "code",
   "execution_count": 157,
   "metadata": {},
   "outputs": [],
   "source": [
    "create_tasks_table = \"\"\"\n",
    "    CREATE TABLE IF NOT EXISTS Tasks (\n",
    "        id integer PRIMARY KEY,\n",
    "        employee_id integer,\n",
    "        name text NOT NULL,\n",
    "        priority integer,\n",
    "        FOREIGN KEY (employee_id) REFERENCES Employee (id)\n",
    ");\n",
    "\"\"\"\n",
    "\n",
    "conn = connect(DB_FILE)\n",
    "with conn:\n",
    "    c = conn.cursor()\n",
    "    c.execute(create_tasks_table)"
   ]
  },
  {
   "cell_type": "code",
   "execution_count": 158,
   "metadata": {},
   "outputs": [],
   "source": [
    "conn = connect(DB_FILE)\n",
    "with conn:\n",
    "    c = conn.cursor()\n",
    "    c.execute(\"INSERT INTO Tasks (employee_id, name, priority) VALUES (?, ?, ?)\", (10, \"Learn DELETE FROM TABLE sql stmt\", 100))"
   ]
  },
  {
   "cell_type": "code",
   "execution_count": 159,
   "metadata": {},
   "outputs": [
    {
     "name": "stdout",
     "output_type": "stream",
     "text": [
      "(1, 10, 'Learn DELETE FROM TABLE sql stmt', 100)\n",
      "(2, 10, 'Learn DELETE FROM TABLE sql stmt', 100)\n",
      "(3, 10, 'Learn DELETE FROM TABLE sql stmt', 100)\n",
      "(4, 10, 'Learn DELETE FROM TABLE sql stmt', 100)\n"
     ]
    }
   ],
   "source": [
    "conn = connect(DB_FILE)\n",
    "with conn:\n",
    "    c = conn.cursor()\n",
    "    c.execute(\"Select * from Tasks\")\n",
    "    rows = c.fetchall() \n",
    "    for row in rows:\n",
    "        print(row)"
   ]
  },
  {
   "cell_type": "markdown",
   "metadata": {},
   "source": [
    "Note that Foreign keys constraints are not enabled by default in SQLite, you have to enable them first by the running the following command:"
   ]
  },
  {
   "cell_type": "code",
   "execution_count": 160,
   "metadata": {},
   "outputs": [],
   "source": [
    "enable_fk_check = '''PRAGMA foreign_keys = ON;'''\n",
    "conn = connect(DB_FILE)\n",
    "with conn:\n",
    "    c = conn.cursor()\n",
    "    c.execute(enable_fk_check)"
   ]
  },
  {
   "cell_type": "code",
   "execution_count": 161,
   "metadata": {},
   "outputs": [
    {
     "name": "stdout",
     "output_type": "stream",
     "text": [
      "1\n"
     ]
    }
   ],
   "source": [
    "conn = connect(DB_FILE)\n",
    "with conn:\n",
    "    c = conn.cursor()\n",
    "    c.execute(\"PRAGMA foreign_keys = ON;\")\n",
    "    c.execute(\"PRAGMA foreign_keys\")\n",
    "    rows = c.fetchone() \n",
    "    for row in rows:\n",
    "        print(row)"
   ]
  },
  {
   "cell_type": "code",
   "execution_count": null,
   "metadata": {},
   "outputs": [],
   "source": []
  },
  {
   "cell_type": "code",
   "execution_count": null,
   "metadata": {},
   "outputs": [],
   "source": []
  },
  {
   "cell_type": "code",
   "execution_count": 162,
   "metadata": {},
   "outputs": [
    {
     "ename": "OperationalError",
     "evalue": "no such table: main.Employees",
     "output_type": "error",
     "traceback": [
      "\u001b[0;31m---------------------------------------------------------------------------\u001b[0m",
      "\u001b[0;31mOperationalError\u001b[0m                          Traceback (most recent call last)",
      "\u001b[0;32m<ipython-input-162-c52734593025>\u001b[0m in \u001b[0;36m<module>\u001b[0;34m\u001b[0m\n\u001b[1;32m      3\u001b[0m     \u001b[0mc\u001b[0m \u001b[0;34m=\u001b[0m \u001b[0mconn\u001b[0m\u001b[0;34m.\u001b[0m\u001b[0mcursor\u001b[0m\u001b[0;34m(\u001b[0m\u001b[0;34m)\u001b[0m\u001b[0;34m\u001b[0m\u001b[0;34m\u001b[0m\u001b[0m\n\u001b[1;32m      4\u001b[0m     \u001b[0mc\u001b[0m\u001b[0;34m.\u001b[0m\u001b[0mexecute\u001b[0m\u001b[0;34m(\u001b[0m\u001b[0;34m\"PRAGMA foreign_keys = ON;\"\u001b[0m\u001b[0;34m)\u001b[0m\u001b[0;34m\u001b[0m\u001b[0;34m\u001b[0m\u001b[0m\n\u001b[0;32m----> 5\u001b[0;31m     \u001b[0mc\u001b[0m\u001b[0;34m.\u001b[0m\u001b[0mexecute\u001b[0m\u001b[0;34m(\u001b[0m\u001b[0;34m\"INSERT INTO Tasks (employee_id, name, priority) VALUES (?, ?, ?)\"\u001b[0m\u001b[0;34m,\u001b[0m \u001b[0;34m(\u001b[0m\u001b[0;36m1\u001b[0m\u001b[0;34m,\u001b[0m \u001b[0;34m\"Learn DELETE FROM TABLE sql stmt\"\u001b[0m\u001b[0;34m,\u001b[0m \u001b[0;36m100\u001b[0m\u001b[0;34m)\u001b[0m\u001b[0;34m)\u001b[0m\u001b[0;34m\u001b[0m\u001b[0;34m\u001b[0m\u001b[0m\n\u001b[0m",
      "\u001b[0;31mOperationalError\u001b[0m: no such table: main.Employees"
     ]
    }
   ],
   "source": [
    "conn = connect(DB_FILE)\n",
    "with conn:\n",
    "    c = conn.cursor()\n",
    "    c.execute(\"PRAGMA foreign_keys = ON;\")\n",
    "    c.execute(\"INSERT INTO Tasks (employee_id, name, priority) VALUES (?, ?, ?)\", (1, \"Learn DELETE FROM TABLE sql stmt\", 100))"
   ]
  },
  {
   "cell_type": "code",
   "execution_count": 150,
   "metadata": {},
   "outputs": [
    {
     "name": "stdout",
     "output_type": "stream",
     "text": [
      "(1, 10, 'Learn DELETE FROM TABLE sql stmt', 100)\n",
      "(2, 10, 'Learn DELETE FROM TABLE sql stmt', 100)\n",
      "(3, 10, 'Learn DELETE FROM TABLE sql stmt', 100)\n"
     ]
    }
   ],
   "source": [
    "conn = connect(DB_FILE)\n",
    "with conn:\n",
    "    c = conn.cursor()\n",
    "    c.execute(\"Select * from Tasks\")\n",
    "    rows = c.fetchall() \n",
    "    for row in rows:\n",
    "        print(row)"
   ]
  },
  {
   "cell_type": "code",
   "execution_count": null,
   "metadata": {},
   "outputs": [],
   "source": []
  },
  {
   "cell_type": "code",
   "execution_count": null,
   "metadata": {},
   "outputs": [],
   "source": []
  }
 ],
 "metadata": {
  "kernelspec": {
   "display_name": "Python 3",
   "language": "python",
   "name": "python3"
  },
  "language_info": {
   "codemirror_mode": {
    "name": "ipython",
    "version": 3
   },
   "file_extension": ".py",
   "mimetype": "text/x-python",
   "name": "python",
   "nbconvert_exporter": "python",
   "pygments_lexer": "ipython3",
   "version": "3.7.5"
  }
 },
 "nbformat": 4,
 "nbformat_minor": 2
}
