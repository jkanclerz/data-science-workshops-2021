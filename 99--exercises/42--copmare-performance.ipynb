{
 "cells": [
  {
   "cell_type": "code",
   "execution_count": 35,
   "metadata": {},
   "outputs": [],
   "source": [
    "from pyspark import SparkConf, SparkContext\n",
    "from pyspark.sql import SparkSession\n",
    "import os\n",
    "\n",
    "spark = SparkSession.builder \\\n",
    "    .master(\"spark://spark-master:7077\") \\\n",
    "    .appName(\"Spark master\") \\\n",
    "    .getOrCreate()\n",
    "sc = spark.sparkContext"
   ]
  },
  {
   "cell_type": "code",
   "execution_count": 36,
   "metadata": {},
   "outputs": [],
   "source": [
    "from pyspark.sql import functions as F"
   ]
  },
  {
   "cell_type": "code",
   "execution_count": 45,
   "metadata": {},
   "outputs": [],
   "source": [
    "df_by_age = spark.read.parquet(\"employees-by-age.parquet\")"
   ]
  },
  {
   "cell_type": "code",
   "execution_count": 46,
   "metadata": {},
   "outputs": [
    {
     "name": "stdout",
     "output_type": "stream",
     "text": [
      "+-------------+----+\n",
      "|wynagrodzenie|wiek|\n",
      "+-------------+----+\n",
      "|        13300|  65|\n",
      "|        12700|  65|\n",
      "|        13500|  65|\n",
      "|        13400|  65|\n",
      "|        13100|  65|\n",
      "|        13000|  65|\n",
      "|        13200|  65|\n",
      "|        13000|  65|\n",
      "|        13000|  65|\n",
      "|        12600|  65|\n",
      "|        13500|  65|\n",
      "|        12800|  65|\n",
      "|        13400|  65|\n",
      "|        13400|  65|\n",
      "|        13200|  65|\n",
      "|        12600|  65|\n",
      "|        13200|  65|\n",
      "|        13100|  65|\n",
      "|        13000|  65|\n",
      "|        12600|  65|\n",
      "+-------------+----+\n",
      "only showing top 20 rows\n",
      "\n"
     ]
    }
   ],
   "source": [
    "df_by_age.show()"
   ]
  },
  {
   "cell_type": "code",
   "execution_count": 47,
   "metadata": {},
   "outputs": [],
   "source": [
    "df_by_age.repartition(1)\\\n",
    "    .write\\\n",
    "    .partitionBy('wiek')\\\n",
    "    .format('json')\\\n",
    "    .save('employee-by-age.json')"
   ]
  },
  {
   "cell_type": "code",
   "execution_count": 48,
   "metadata": {},
   "outputs": [],
   "source": [
    "df_by_age.repartition(30)\\\n",
    "    .write\\\n",
    "    .partitionBy('wynagrodzenie')\\\n",
    "    .format('json')\\\n",
    "    .save('employee-by-sallary.json')"
   ]
  },
  {
   "cell_type": "code",
   "execution_count": 49,
   "metadata": {},
   "outputs": [],
   "source": [
    "df = spark.read.json(\"employee-by-age.json/\")"
   ]
  },
  {
   "cell_type": "code",
   "execution_count": 50,
   "metadata": {},
   "outputs": [
    {
     "name": "stdout",
     "output_type": "stream",
     "text": [
      "+----+-----+\n",
      "|wiek|count|\n",
      "+----+-----+\n",
      "|  31|   39|\n",
      "|  65|   66|\n",
      "|  53|   41|\n",
      "|  34|   38|\n",
      "|  28|   42|\n",
      "|  27|   55|\n",
      "|  26|   46|\n",
      "|  44|   60|\n",
      "|  47|   51|\n",
      "|  52|   53|\n",
      "|  40|   59|\n",
      "|  57|   56|\n",
      "|  54|   56|\n",
      "|  48|   49|\n",
      "|  64|   50|\n",
      "|  41|   54|\n",
      "|  43|   61|\n",
      "|  37|   62|\n",
      "|  61|   45|\n",
      "|  35|   46|\n",
      "+----+-----+\n",
      "only showing top 20 rows\n",
      "\n",
      "CPU times: user 2.52 ms, sys: 1.84 ms, total: 4.36 ms\n",
      "Wall time: 1.49 s\n"
     ]
    }
   ],
   "source": [
    "%%time\n",
    "df.groupby('wiek').count().show()"
   ]
  },
  {
   "cell_type": "code",
   "execution_count": 51,
   "metadata": {},
   "outputs": [],
   "source": [
    "df = spark.read.json(\"employee-by-sallary.json/\")"
   ]
  },
  {
   "cell_type": "code",
   "execution_count": 52,
   "metadata": {},
   "outputs": [
    {
     "name": "stdout",
     "output_type": "stream",
     "text": [
      "+----+-----+\n",
      "|wiek|count|\n",
      "+----+-----+\n",
      "|  29|   38|\n",
      "|  26|   46|\n",
      "|  65|   66|\n",
      "|  54|   56|\n",
      "|  34|   38|\n",
      "|  50|   52|\n",
      "|  57|   56|\n",
      "|  43|   61|\n",
      "|  32|   48|\n",
      "|  31|   39|\n",
      "|  39|   43|\n",
      "|  25|   47|\n",
      "|  58|   40|\n",
      "|  63|   53|\n",
      "|  27|   55|\n",
      "|  51|   56|\n",
      "|  56|   42|\n",
      "|  52|   53|\n",
      "|  41|   54|\n",
      "|  33|   52|\n",
      "+----+-----+\n",
      "only showing top 20 rows\n",
      "\n",
      "CPU times: user 5.56 ms, sys: 1.02 ms, total: 6.58 ms\n",
      "Wall time: 11.9 s\n"
     ]
    }
   ],
   "source": [
    "%%time\n",
    "df.groupby('wiek').count().show()"
   ]
  },
  {
   "cell_type": "code",
   "execution_count": 53,
   "metadata": {},
   "outputs": [],
   "source": [
    "sc.stop()"
   ]
  },
  {
   "cell_type": "code",
   "execution_count": null,
   "metadata": {},
   "outputs": [],
   "source": []
  }
 ],
 "metadata": {
  "kernelspec": {
   "display_name": "Python 3",
   "language": "python",
   "name": "python3"
  },
  "language_info": {
   "codemirror_mode": {
    "name": "ipython",
    "version": 3
   },
   "file_extension": ".py",
   "mimetype": "text/x-python",
   "name": "python",
   "nbconvert_exporter": "python",
   "pygments_lexer": "ipython3",
   "version": "3.7.3"
  }
 },
 "nbformat": 4,
 "nbformat_minor": 4
}
