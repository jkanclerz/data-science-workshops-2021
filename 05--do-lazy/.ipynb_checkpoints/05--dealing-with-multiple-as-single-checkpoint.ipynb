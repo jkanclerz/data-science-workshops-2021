{
 "cells": [
  {
   "cell_type": "code",
   "execution_count": 1,
   "metadata": {},
   "outputs": [],
   "source": [
    "x = [[1,2,3,4,5], [7,8,9], [10,11,12,13]]"
   ]
  },
  {
   "cell_type": "code",
   "execution_count": 2,
   "metadata": {},
   "outputs": [],
   "source": [
    "from functools import reduce"
   ]
  },
  {
   "cell_type": "code",
   "execution_count": 3,
   "metadata": {},
   "outputs": [],
   "source": [
    "as_single = reduce(lambda acc,i: acc + i, x)"
   ]
  },
  {
   "cell_type": "code",
   "execution_count": 4,
   "metadata": {},
   "outputs": [
    {
     "name": "stdout",
     "output_type": "stream",
     "text": [
      "[1, 2, 3, 4, 5, 7, 8, 9, 10, 11, 12, 13]\n"
     ]
    }
   ],
   "source": [
    "print(as_single)"
   ]
  },
  {
   "cell_type": "code",
   "execution_count": 5,
   "metadata": {},
   "outputs": [],
   "source": [
    "from itertools import chain"
   ]
  },
  {
   "cell_type": "code",
   "execution_count": 6,
   "metadata": {},
   "outputs": [],
   "source": [
    "single = chain.from_iterable(x)"
   ]
  },
  {
   "cell_type": "code",
   "execution_count": 8,
   "metadata": {},
   "outputs": [
    {
     "name": "stdout",
     "output_type": "stream",
     "text": [
      "[1, 2, 3, 4, 5, 7, 8, 9, 10, 11, 12, 13]\n"
     ]
    }
   ],
   "source": [
    "print(list(single))"
   ]
  },
  {
   "cell_type": "markdown",
   "metadata": {},
   "source": [
    "## Usecase"
   ]
  },
  {
   "cell_type": "markdown",
   "metadata": {},
   "source": [
    "### nested data"
   ]
  },
  {
   "cell_type": "code",
   "execution_count": 10,
   "metadata": {},
   "outputs": [],
   "source": [
    "wykops = [{'title': \"konstytucja\", 'tags': ['#polska', \"#pl\"]}, {'title': \"Mirki i mireczki\", 'tags': ['#heheszki', '#takiklimat']}]"
   ]
  },
  {
   "cell_type": "code",
   "execution_count": 15,
   "metadata": {},
   "outputs": [
    {
     "name": "stdout",
     "output_type": "stream",
     "text": [
      "['#polska', '#pl', '#heheszki', '#takiklimat']\n"
     ]
    }
   ],
   "source": [
    "lists_of_tags = map(lambda w: w['tags'], wykops)\n",
    "as_iterable = chain.from_iterable(lists_of_tags)\n",
    "print(list(as_iterable))"
   ]
  },
  {
   "cell_type": "markdown",
   "metadata": {},
   "source": [
    "## multiple files\n"
   ]
  },
  {
   "cell_type": "code",
   "execution_count": 21,
   "metadata": {},
   "outputs": [
    {
     "name": "stdout",
     "output_type": "stream",
     "text": [
      "Found existing installation: twitter 1.18.0\n",
      "Uninstalling twitter-1.18.0:\n",
      "  Successfully uninstalled twitter-1.18.0\n",
      "Note: you may need to restart the kernel to use updated packages.\n"
     ]
    }
   ],
   "source": [
    "pip uninstall twitter -y"
   ]
  },
  {
   "cell_type": "code",
   "execution_count": 24,
   "metadata": {},
   "outputs": [
    {
     "name": "stdout",
     "output_type": "stream",
     "text": [
      "Requirement already satisfied: python-twitter in /Users/jkanclerz/.venv/lib/python3.8/site-packages (3.5)\n",
      "Requirement already satisfied: requests-oauthlib in /Users/jkanclerz/.venv/lib/python3.8/site-packages (from python-twitter) (1.3.0)\n",
      "Requirement already satisfied: requests in /Users/jkanclerz/.venv/lib/python3.8/site-packages (from python-twitter) (2.23.0)\n",
      "Requirement already satisfied: future in /Users/jkanclerz/.venv/lib/python3.8/site-packages (from python-twitter) (0.16.0)\n",
      "Requirement already satisfied: oauthlib>=3.0.0 in /Users/jkanclerz/.venv/lib/python3.8/site-packages (from requests-oauthlib->python-twitter) (3.1.0)\n",
      "Requirement already satisfied: chardet<4,>=3.0.2 in /Users/jkanclerz/.venv/lib/python3.8/site-packages (from requests->python-twitter) (3.0.4)\n",
      "Requirement already satisfied: urllib3!=1.25.0,!=1.25.1,<1.26,>=1.21.1 in /Users/jkanclerz/.venv/lib/python3.8/site-packages (from requests->python-twitter) (1.24.3)\n",
      "Requirement already satisfied: certifi>=2017.4.17 in /Users/jkanclerz/.venv/lib/python3.8/site-packages (from requests->python-twitter) (2020.4.5.2)\n",
      "Requirement already satisfied: idna<3,>=2.5 in /Users/jkanclerz/.venv/lib/python3.8/site-packages (from requests->python-twitter) (2.7)\n",
      "\u001b[33mWARNING: You are using pip version 20.1.1; however, version 20.2.4 is available.\n",
      "You should consider upgrading via the '/Users/jkanclerz/.venv/bin/python3 -m pip install --upgrade pip' command.\u001b[0m\n",
      "Note: you may need to restart the kernel to use updated packages.\n"
     ]
    }
   ],
   "source": [
    "pip install python-twitter"
   ]
  },
  {
   "cell_type": "code",
   "execution_count": 1,
   "metadata": {},
   "outputs": [
    {
     "name": "stdout",
     "output_type": "stream",
     "text": [
      "Requirement already satisfied: python-twitter in /Users/jkanclerz/.venv/lib/python3.8/site-packages (3.5)\n",
      "Requirement already satisfied: requests-oauthlib in /Users/jkanclerz/.venv/lib/python3.8/site-packages (from python-twitter) (1.3.0)\n",
      "Requirement already satisfied: requests in /Users/jkanclerz/.venv/lib/python3.8/site-packages (from python-twitter) (2.23.0)\n",
      "Requirement already satisfied: future in /Users/jkanclerz/.venv/lib/python3.8/site-packages (from python-twitter) (0.16.0)\n",
      "Requirement already satisfied: oauthlib>=3.0.0 in /Users/jkanclerz/.venv/lib/python3.8/site-packages (from requests-oauthlib->python-twitter) (3.1.0)\n",
      "Requirement already satisfied: chardet<4,>=3.0.2 in /Users/jkanclerz/.venv/lib/python3.8/site-packages (from requests->python-twitter) (3.0.4)\n",
      "Requirement already satisfied: certifi>=2017.4.17 in /Users/jkanclerz/.venv/lib/python3.8/site-packages (from requests->python-twitter) (2020.4.5.2)\n",
      "Requirement already satisfied: idna<3,>=2.5 in /Users/jkanclerz/.venv/lib/python3.8/site-packages (from requests->python-twitter) (2.7)\n",
      "Requirement already satisfied: urllib3!=1.25.0,!=1.25.1,<1.26,>=1.21.1 in /Users/jkanclerz/.venv/lib/python3.8/site-packages (from requests->python-twitter) (1.24.3)\n",
      "\u001b[33mWARNING: You are using pip version 20.1.1; however, version 20.2.4 is available.\n",
      "You should consider upgrading via the '/Users/jkanclerz/.venv/bin/python3 -m pip install --upgrade pip' command.\u001b[0m\n",
      "Note: you may need to restart the kernel to use updated packages.\n"
     ]
    }
   ],
   "source": [
    "pip install python-twitter"
   ]
  },
  {
   "cell_type": "code",
   "execution_count": 3,
   "metadata": {},
   "outputs": [],
   "source": [
    "import twitter\n",
    "api = twitter.Api(consumer_key='',\n",
    "                  consumer_secret='quI7M1EqekVftoIh0yQEyPgp4Ojd73vgtpWZ2bPZk37uinXdVn',\n",
    "                  access_token_key='2410773054-r2Zfu6Nh3pyfjD9nsHlAHFnVyW0cu3eUAb0GvxK',\n",
    "                  access_token_secret='MyFlXpATacDs4hwvLafyuwd5rL74vrcuHve2guwIecvxF')"
   ]
  },
  {
   "cell_type": "code",
   "execution_count": 4,
   "metadata": {},
   "outputs": [
    {
     "ename": "AttributeError",
     "evalue": "'Api' object has no attribute 'search'",
     "output_type": "error",
     "traceback": [
      "\u001b[0;31m---------------------------------------------------------------------------\u001b[0m",
      "\u001b[0;31mAttributeError\u001b[0m                            Traceback (most recent call last)",
      "\u001b[0;32m<ipython-input-4-3efaca346135>\u001b[0m in \u001b[0;36m<module>\u001b[0;34m\u001b[0m\n\u001b[0;32m----> 1\u001b[0;31m \u001b[0mresults\u001b[0m \u001b[0;34m=\u001b[0m \u001b[0mapi\u001b[0m\u001b[0;34m.\u001b[0m\u001b[0msearch\u001b[0m\u001b[0;34m(\u001b[0m\u001b[0mq\u001b[0m\u001b[0;34m=\u001b[0m\u001b[0;34m\"#gpw\"\u001b[0m\u001b[0;34m,\u001b[0m \u001b[0mlang\u001b[0m\u001b[0;34m=\u001b[0m\u001b[0;34m\"pl\"\u001b[0m\u001b[0;34m)\u001b[0m\u001b[0;34m\u001b[0m\u001b[0;34m\u001b[0m\u001b[0m\n\u001b[0m",
      "\u001b[0;31mAttributeError\u001b[0m: 'Api' object has no attribute 'search'"
     ]
    }
   ],
   "source": [
    "results = api.search(q=\"#gpw\", lang=\"pl\")"
   ]
  },
  {
   "cell_type": "code",
   "execution_count": 6,
   "metadata": {},
   "outputs": [
    {
     "name": "stdout",
     "output_type": "stream",
     "text": [
      "Collecting tweepy\n",
      "  Downloading tweepy-3.9.0-py2.py3-none-any.whl (30 kB)\n",
      "Requirement already satisfied: six>=1.10.0 in /Users/jkanclerz/.venv/lib/python3.8/site-packages (from tweepy) (1.11.0)\n",
      "Requirement already satisfied: requests[socks]>=2.11.1 in /Users/jkanclerz/.venv/lib/python3.8/site-packages (from tweepy) (2.23.0)\n",
      "Requirement already satisfied: requests-oauthlib>=0.7.0 in /Users/jkanclerz/.venv/lib/python3.8/site-packages (from tweepy) (1.3.0)\n",
      "Requirement already satisfied: chardet<4,>=3.0.2 in /Users/jkanclerz/.venv/lib/python3.8/site-packages (from requests[socks]>=2.11.1->tweepy) (3.0.4)\n",
      "Requirement already satisfied: urllib3!=1.25.0,!=1.25.1,<1.26,>=1.21.1 in /Users/jkanclerz/.venv/lib/python3.8/site-packages (from requests[socks]>=2.11.1->tweepy) (1.24.3)\n",
      "Requirement already satisfied: idna<3,>=2.5 in /Users/jkanclerz/.venv/lib/python3.8/site-packages (from requests[socks]>=2.11.1->tweepy) (2.7)\n",
      "Requirement already satisfied: certifi>=2017.4.17 in /Users/jkanclerz/.venv/lib/python3.8/site-packages (from requests[socks]>=2.11.1->tweepy) (2020.4.5.2)\n",
      "Collecting PySocks!=1.5.7,>=1.5.6; extra == \"socks\"\n",
      "  Downloading PySocks-1.7.1-py3-none-any.whl (16 kB)\n",
      "Requirement already satisfied: oauthlib>=3.0.0 in /Users/jkanclerz/.venv/lib/python3.8/site-packages (from requests-oauthlib>=0.7.0->tweepy) (3.1.0)\n",
      "Installing collected packages: tweepy, PySocks\n",
      "Successfully installed PySocks-1.7.1 tweepy-3.9.0\n",
      "\u001b[33mWARNING: You are using pip version 20.1.1; however, version 20.2.4 is available.\n",
      "You should consider upgrading via the '/Users/jkanclerz/.venv/bin/python3 -m pip install --upgrade pip' command.\u001b[0m\n",
      "Note: you may need to restart the kernel to use updated packages.\n"
     ]
    }
   ],
   "source": [
    "pip install tweepy"
   ]
  },
  {
   "cell_type": "code",
   "execution_count": 7,
   "metadata": {},
   "outputs": [],
   "source": [
    "import tweepy\n",
    "consumer_key = \"vJOHNBXaYxwuSr2W29p09qHjk\"\n",
    "consumer_secret = \"quI7M1EqekVftoIh0yQEyPgp4Ojd73vgtpWZ2bPZk37uinXdVn\"\n",
    "access_token = \"2410773054-r2Zfu6Nh3pyfjD9nsHlAHFnVyW0cu3eUAb0GvxK\"\n",
    "access_token_secret = \"MyFlXpATacDs4hwvLafyuwd5rL74vrcuHve2guwIecvxF\""
   ]
  },
  {
   "cell_type": "code",
   "execution_count": 8,
   "metadata": {},
   "outputs": [],
   "source": [
    "auth = tweepy.OAuthHandler(consumer_key, consumer_secret)\n",
    "auth.set_access_token(access_token, access_token_secret)\n",
    "api = tweepy.API(auth) "
   ]
  },
  {
   "cell_type": "code",
   "execution_count": 12,
   "metadata": {},
   "outputs": [],
   "source": [
    "?api.search"
   ]
  },
  {
   "cell_type": "code",
   "execution_count": 26,
   "metadata": {},
   "outputs": [],
   "source": [
    "!mkdir tweets"
   ]
  },
  {
   "cell_type": "code",
   "execution_count": 58,
   "metadata": {},
   "outputs": [],
   "source": [
    "import json\n",
    "def grab_some_tweets(query):\n",
    "    results = api.search(q=query, lang=\"pl\")\n",
    "    docs = [doc._json for doc in results]\n",
    "    return docs\n",
    "\n",
    "def store_in_file(items, dump_file_name):\n",
    "    with open(\"tweets/{}.list\".format(dump_file_name.lower().replace(' ', '')), 'w+') as f_dest:\n",
    "        for doc in items:\n",
    "            f_dest.write(\"{}\\n\".format(json.dumps(doc)))\n",
    "    \n"
   ]
  },
  {
   "cell_type": "code",
   "execution_count": 48,
   "metadata": {},
   "outputs": [],
   "source": [
    "wig_20 = [\n",
    "'Alior Bank SA',\n",
    "'Allegro.eu SA',\n",
    "'Bank Pekao SA',\n",
    "'CCC SA',\n",
    "'CD Projekt SA',\n",
    "'Cyfrowy Polsat SA',\n",
    "'Dino Polska SA',\n",
    "'Grupa Lotos SA',\n",
    "'Jastrzębska Spółka Węglowa SA',\n",
    "'KGHM Polska Miedź SA',\n",
    "'LPP SA',\n",
    "'Orange Polska SA',\n",
    "'PGE SA',\n",
    "'PGNiG SA',\n",
    "'PKN Orlen SA',\n",
    "'PKO BP SA',\n",
    "'PZU SA',\n",
    "'Play Communications SA',\n",
    "'Santander Bank Polska SA',\n",
    "'Tauron Polska Energia SA',\n",
    "]"
   ]
  },
  {
   "cell_type": "code",
   "execution_count": 44,
   "metadata": {},
   "outputs": [],
   "source": [
    "for name in wig_20:\n",
    "    store_in_file(grab_some_tweets(\"{}\".format(name)), name)\n",
    "    "
   ]
  },
  {
   "cell_type": "code",
   "execution_count": 57,
   "metadata": {},
   "outputs": [
    {
     "data": {
      "text/plain": [
       "[{'created_at': 'Thu Nov 19 22:44:24 +0000 2020',\n",
       "  'id': 1329556158097489920,\n",
       "  'id_str': '1329556158097489920',\n",
       "  'text': '@PSciechowski Moje główne to Alior Bank, ale mam też konto w ING i korzystam również z Citi Banku. Bardzo mocno pol… https://t.co/XbVyQ7scYR',\n",
       "  'truncated': True,\n",
       "  'entities': {'hashtags': [],\n",
       "   'symbols': [],\n",
       "   'user_mentions': [{'screen_name': 'PSciechowski',\n",
       "     'name': 'Piotr Sciechowski ®️',\n",
       "     'id': 927429701139947520,\n",
       "     'id_str': '927429701139947520',\n",
       "     'indices': [0, 13]}],\n",
       "   'urls': [{'url': 'https://t.co/XbVyQ7scYR',\n",
       "     'expanded_url': 'https://twitter.com/i/web/status/1329556158097489920',\n",
       "     'display_url': 'twitter.com/i/web/status/1…',\n",
       "     'indices': [117, 140]}]},\n",
       "  'metadata': {'iso_language_code': 'pl', 'result_type': 'recent'},\n",
       "  'source': '<a href=\"http://twitter.com/download/iphone\" rel=\"nofollow\">Twitter for iPhone</a>',\n",
       "  'in_reply_to_status_id': 1329538563235590146,\n",
       "  'in_reply_to_status_id_str': '1329538563235590146',\n",
       "  'in_reply_to_user_id': 927429701139947520,\n",
       "  'in_reply_to_user_id_str': '927429701139947520',\n",
       "  'in_reply_to_screen_name': 'PSciechowski',\n",
       "  'user': {'id': 818544711455621120,\n",
       "   'id_str': '818544711455621120',\n",
       "   'name': 'Maciej Zych',\n",
       "   'screen_name': 'maciej_zych23',\n",
       "   'location': 'Świątniki Górne gmina, Polska',\n",
       "   'description': 'Smartfon to moje drugie imię. fan Apple’a i Motoroli. Troszkę też w zegarkach siedzę.',\n",
       "   'url': None,\n",
       "   'entities': {'description': {'urls': []}},\n",
       "   'protected': False,\n",
       "   'followers_count': 33,\n",
       "   'friends_count': 169,\n",
       "   'listed_count': 0,\n",
       "   'created_at': 'Mon Jan 09 19:47:21 +0000 2017',\n",
       "   'favourites_count': 9833,\n",
       "   'utc_offset': None,\n",
       "   'time_zone': None,\n",
       "   'geo_enabled': True,\n",
       "   'verified': False,\n",
       "   'statuses_count': 970,\n",
       "   'lang': None,\n",
       "   'contributors_enabled': False,\n",
       "   'is_translator': False,\n",
       "   'is_translation_enabled': False,\n",
       "   'profile_background_color': 'F5F8FA',\n",
       "   'profile_background_image_url': None,\n",
       "   'profile_background_image_url_https': None,\n",
       "   'profile_background_tile': False,\n",
       "   'profile_image_url': 'http://pbs.twimg.com/profile_images/1314138532433321984/rY8hVtZi_normal.jpg',\n",
       "   'profile_image_url_https': 'https://pbs.twimg.com/profile_images/1314138532433321984/rY8hVtZi_normal.jpg',\n",
       "   'profile_banner_url': 'https://pbs.twimg.com/profile_banners/818544711455621120/1602150018',\n",
       "   'profile_link_color': '1DA1F2',\n",
       "   'profile_sidebar_border_color': 'C0DEED',\n",
       "   'profile_sidebar_fill_color': 'DDEEF6',\n",
       "   'profile_text_color': '333333',\n",
       "   'profile_use_background_image': True,\n",
       "   'has_extended_profile': True,\n",
       "   'default_profile': True,\n",
       "   'default_profile_image': False,\n",
       "   'following': False,\n",
       "   'follow_request_sent': False,\n",
       "   'notifications': False,\n",
       "   'translator_type': 'none'},\n",
       "  'geo': None,\n",
       "  'coordinates': None,\n",
       "  'place': {'id': '97a96f561fa6b1e2',\n",
       "   'url': 'https://api.twitter.com/1.1/geo/id/97a96f561fa6b1e2.json',\n",
       "   'place_type': 'city',\n",
       "   'name': 'Świątniki Górne gmina',\n",
       "   'full_name': 'Świątniki Górne gmina, Polska',\n",
       "   'country_code': 'PL',\n",
       "   'country': 'Poland',\n",
       "   'contained_within': [],\n",
       "   'bounding_box': {'type': 'Polygon',\n",
       "    'coordinates': [[[19.9128696, 49.905205],\n",
       "      [20.007312, 49.905205],\n",
       "      [20.007312, 49.9741247],\n",
       "      [19.9128696, 49.9741247]]]},\n",
       "   'attributes': {}},\n",
       "  'contributors': None,\n",
       "  'is_quote_status': False,\n",
       "  'retweet_count': 0,\n",
       "  'favorite_count': 0,\n",
       "  'favorited': False,\n",
       "  'retweeted': False,\n",
       "  'lang': 'pl'},\n",
       " {'created_at': 'Thu Nov 19 09:50:11 +0000 2020',\n",
       "  'id': 1329361318860754945,\n",
       "  'id_str': '1329361318860754945',\n",
       "  'text': '@RysiekzMisia @ttxyn1 Alior Bank SA – bank uniwersalny w Polsce, który rozpoczął działalność operacyjną 17 listopada 2008[1]',\n",
       "  'truncated': False,\n",
       "  'entities': {'hashtags': [],\n",
       "   'symbols': [],\n",
       "   'user_mentions': [{'screen_name': 'RysiekzMisia',\n",
       "     'name': 'Rysiek z Misia',\n",
       "     'id': 1190331709306425344,\n",
       "     'id_str': '1190331709306425344',\n",
       "     'indices': [0, 13]},\n",
       "    {'screen_name': 'ttxyn1',\n",
       "     'name': 'ttxyn',\n",
       "     'id': 734089417913171970,\n",
       "     'id_str': '734089417913171970',\n",
       "     'indices': [14, 21]}],\n",
       "   'urls': []},\n",
       "  'metadata': {'iso_language_code': 'pl', 'result_type': 'recent'},\n",
       "  'source': '<a href=\"https://mobile.twitter.com\" rel=\"nofollow\">Twitter Web App</a>',\n",
       "  'in_reply_to_status_id': 1329358723626790914,\n",
       "  'in_reply_to_status_id_str': '1329358723626790914',\n",
       "  'in_reply_to_user_id': 1190331709306425344,\n",
       "  'in_reply_to_user_id_str': '1190331709306425344',\n",
       "  'in_reply_to_screen_name': 'RysiekzMisia',\n",
       "  'user': {'id': 1265269342838669314,\n",
       "   'id_str': '1265269342838669314',\n",
       "   'name': 'Jerzy',\n",
       "   'screen_name': 'Jerzy33392868',\n",
       "   'location': '',\n",
       "   'description': '',\n",
       "   'url': None,\n",
       "   'entities': {'description': {'urls': []}},\n",
       "   'protected': False,\n",
       "   'followers_count': 42,\n",
       "   'friends_count': 692,\n",
       "   'listed_count': 1,\n",
       "   'created_at': 'Tue May 26 13:11:46 +0000 2020',\n",
       "   'favourites_count': 5965,\n",
       "   'utc_offset': None,\n",
       "   'time_zone': None,\n",
       "   'geo_enabled': False,\n",
       "   'verified': False,\n",
       "   'statuses_count': 10399,\n",
       "   'lang': None,\n",
       "   'contributors_enabled': False,\n",
       "   'is_translator': False,\n",
       "   'is_translation_enabled': False,\n",
       "   'profile_background_color': 'F5F8FA',\n",
       "   'profile_background_image_url': None,\n",
       "   'profile_background_image_url_https': None,\n",
       "   'profile_background_tile': False,\n",
       "   'profile_image_url': 'http://abs.twimg.com/sticky/default_profile_images/default_profile_normal.png',\n",
       "   'profile_image_url_https': 'https://abs.twimg.com/sticky/default_profile_images/default_profile_normal.png',\n",
       "   'profile_link_color': '1DA1F2',\n",
       "   'profile_sidebar_border_color': 'C0DEED',\n",
       "   'profile_sidebar_fill_color': 'DDEEF6',\n",
       "   'profile_text_color': '333333',\n",
       "   'profile_use_background_image': True,\n",
       "   'has_extended_profile': False,\n",
       "   'default_profile': True,\n",
       "   'default_profile_image': True,\n",
       "   'following': False,\n",
       "   'follow_request_sent': False,\n",
       "   'notifications': False,\n",
       "   'translator_type': 'none'},\n",
       "  'geo': None,\n",
       "  'coordinates': None,\n",
       "  'place': None,\n",
       "  'contributors': None,\n",
       "  'is_quote_status': False,\n",
       "  'retweet_count': 0,\n",
       "  'favorite_count': 0,\n",
       "  'favorited': False,\n",
       "  'retweeted': False,\n",
       "  'lang': 'pl'},\n",
       " {'created_at': 'Tue Nov 17 12:40:44 +0000 2020',\n",
       "  'id': 1328679463584993287,\n",
       "  'id_str': '1328679463584993287',\n",
       "  'text': '@k4czuszki alior, wiecznie sa przerwy techniczne w aplikacji ale poza tym jakos bardzo nie narzekam, inni z ktorymi… https://t.co/FEeBVtYBvU',\n",
       "  'truncated': True,\n",
       "  'entities': {'hashtags': [],\n",
       "   'symbols': [],\n",
       "   'user_mentions': [{'screen_name': 'k4czuszki',\n",
       "     'name': 'simp akali',\n",
       "     'id': 1089536196240396288,\n",
       "     'id_str': '1089536196240396288',\n",
       "     'indices': [0, 10]}],\n",
       "   'urls': [{'url': 'https://t.co/FEeBVtYBvU',\n",
       "     'expanded_url': 'https://twitter.com/i/web/status/1328679463584993287',\n",
       "     'display_url': 'twitter.com/i/web/status/1…',\n",
       "     'indices': [117, 140]}]},\n",
       "  'metadata': {'iso_language_code': 'pl', 'result_type': 'recent'},\n",
       "  'source': '<a href=\"http://twitter.com/download/android\" rel=\"nofollow\">Twitter for Android</a>',\n",
       "  'in_reply_to_status_id': 1328679013255098368,\n",
       "  'in_reply_to_status_id_str': '1328679013255098368',\n",
       "  'in_reply_to_user_id': 1089536196240396288,\n",
       "  'in_reply_to_user_id_str': '1089536196240396288',\n",
       "  'in_reply_to_screen_name': 'k4czuszki',\n",
       "  'user': {'id': 1161738213356179461,\n",
       "   'id_str': '1161738213356179461',\n",
       "   'name': '📦',\n",
       "   'screen_name': 'kuntenmarried',\n",
       "   'location': 'ot21zens do not interact ',\n",
       "   'description': \"(+143)(-1)as expected from god-doyoung. i know i shouldn't trust males but i trust kim doyoung.\\n\\nhttps://t.co/M4wuZ7Jf1E\",\n",
       "   'url': 'https://t.co/697WHAFgOX',\n",
       "   'entities': {'url': {'urls': [{'url': 'https://t.co/697WHAFgOX',\n",
       "       'expanded_url': 'http://kuntenmarried.carrd.co',\n",
       "       'display_url': 'kuntenmarried.carrd.co',\n",
       "       'indices': [0, 23]}]},\n",
       "    'description': {'urls': [{'url': 'https://t.co/M4wuZ7Jf1E',\n",
       "       'expanded_url': 'http://blacklivesmatters.carrd.co',\n",
       "       'display_url': 'blacklivesmatters.carrd.co',\n",
       "       'indices': [97, 120]}]}},\n",
       "   'protected': False,\n",
       "   'followers_count': 282,\n",
       "   'friends_count': 209,\n",
       "   'listed_count': 8,\n",
       "   'created_at': 'Wed Aug 14 20:35:48 +0000 2019',\n",
       "   'favourites_count': 9196,\n",
       "   'utc_offset': None,\n",
       "   'time_zone': None,\n",
       "   'geo_enabled': False,\n",
       "   'verified': False,\n",
       "   'statuses_count': 25664,\n",
       "   'lang': None,\n",
       "   'contributors_enabled': False,\n",
       "   'is_translator': False,\n",
       "   'is_translation_enabled': False,\n",
       "   'profile_background_color': 'F5F8FA',\n",
       "   'profile_background_image_url': None,\n",
       "   'profile_background_image_url_https': None,\n",
       "   'profile_background_tile': False,\n",
       "   'profile_image_url': 'http://pbs.twimg.com/profile_images/1321770170860396545/jn6TGlaf_normal.jpg',\n",
       "   'profile_image_url_https': 'https://pbs.twimg.com/profile_images/1321770170860396545/jn6TGlaf_normal.jpg',\n",
       "   'profile_banner_url': 'https://pbs.twimg.com/profile_banners/1161738213356179461/1601304260',\n",
       "   'profile_link_color': '1DA1F2',\n",
       "   'profile_sidebar_border_color': 'C0DEED',\n",
       "   'profile_sidebar_fill_color': 'DDEEF6',\n",
       "   'profile_text_color': '333333',\n",
       "   'profile_use_background_image': True,\n",
       "   'has_extended_profile': True,\n",
       "   'default_profile': True,\n",
       "   'default_profile_image': False,\n",
       "   'following': False,\n",
       "   'follow_request_sent': False,\n",
       "   'notifications': False,\n",
       "   'translator_type': 'none'},\n",
       "  'geo': None,\n",
       "  'coordinates': None,\n",
       "  'place': None,\n",
       "  'contributors': None,\n",
       "  'is_quote_status': False,\n",
       "  'retweet_count': 0,\n",
       "  'favorite_count': 0,\n",
       "  'favorited': False,\n",
       "  'retweeted': False,\n",
       "  'lang': 'pl'}]"
      ]
     },
     "execution_count": 57,
     "metadata": {},
     "output_type": "execute_result"
    }
   ],
   "source": [
    "grab_some_tweets('Alior Bank SA', 'alior')"
   ]
  },
  {
   "cell_type": "code",
   "execution_count": null,
   "metadata": {},
   "outputs": [],
   "source": []
  }
 ],
 "metadata": {
  "kernelspec": {
   "display_name": "Python 3",
   "language": "python",
   "name": "python3"
  },
  "language_info": {
   "codemirror_mode": {
    "name": "ipython",
    "version": 3
   },
   "file_extension": ".py",
   "mimetype": "text/x-python",
   "name": "python",
   "nbconvert_exporter": "python",
   "pygments_lexer": "ipython3",
   "version": "3.8.5"
  }
 },
 "nbformat": 4,
 "nbformat_minor": 4
}
