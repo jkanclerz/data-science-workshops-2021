{
 "cells": [
  {
   "cell_type": "code",
   "execution_count": 1,
   "metadata": {},
   "outputs": [
    {
     "name": "stdout",
     "output_type": "stream",
     "text": [
      "--2020-11-20 10:18:12--  https://s3.eu-central-1.amazonaws.com/jkan.pl/data-science/uek/wykop.txt\n",
      "Resolving s3.eu-central-1.amazonaws.com (s3.eu-central-1.amazonaws.com)... 52.219.75.171\n",
      "Connecting to s3.eu-central-1.amazonaws.com (s3.eu-central-1.amazonaws.com)|52.219.75.171|:443... connected.\n",
      "HTTP request sent, awaiting response... 200 OK\n",
      "Length: 9179766 (8.8M) [text/plain]\n",
      "Saving to: ‘wykop.txt.2’\n",
      "\n",
      "wykop.txt.2         100%[===================>]   8.75M  6.21MB/s    in 1.4s    \n",
      "\n",
      "2020-11-20 10:18:14 (6.21 MB/s) - ‘wykop.txt.2’ saved [9179766/9179766]\n",
      "\n"
     ]
    }
   ],
   "source": [
    "!wget https://s3.eu-central-1.amazonaws.com/jkan.pl/data-science/uek/wykop.txt"
   ]
  },
  {
   "cell_type": "code",
   "execution_count": 2,
   "metadata": {},
   "outputs": [
    {
     "name": "stdout",
     "output_type": "stream",
     "text": [
      "Requirement already satisfied: ipython-memory-usage in /Users/jkanclerz/.venv/lib/python3.8/site-packages (1.2)\n",
      "Requirement already satisfied: memory-profiler in /Users/jkanclerz/.venv/lib/python3.8/site-packages (from ipython-memory-usage) (0.57.0)\n",
      "Requirement already satisfied: IPython>=2.1 in /Users/jkanclerz/.venv/lib/python3.8/site-packages (from ipython-memory-usage) (7.18.1)\n",
      "Requirement already satisfied: psutil in /Users/jkanclerz/.venv/lib/python3.8/site-packages (from memory-profiler->ipython-memory-usage) (5.7.2)\n",
      "Requirement already satisfied: backcall in /Users/jkanclerz/.venv/lib/python3.8/site-packages (from IPython>=2.1->ipython-memory-usage) (0.2.0)\n",
      "Requirement already satisfied: jedi>=0.10 in /Users/jkanclerz/.venv/lib/python3.8/site-packages (from IPython>=2.1->ipython-memory-usage) (0.17.2)\n",
      "Requirement already satisfied: pexpect>4.3; sys_platform != \"win32\" in /Users/jkanclerz/.venv/lib/python3.8/site-packages (from IPython>=2.1->ipython-memory-usage) (4.8.0)\n",
      "Requirement already satisfied: setuptools>=18.5 in /Users/jkanclerz/.venv/lib/python3.8/site-packages (from IPython>=2.1->ipython-memory-usage) (47.1.0)\n",
      "Requirement already satisfied: traitlets>=4.2 in /Users/jkanclerz/.venv/lib/python3.8/site-packages (from IPython>=2.1->ipython-memory-usage) (5.0.5)\n",
      "Requirement already satisfied: appnope; sys_platform == \"darwin\" in /Users/jkanclerz/.venv/lib/python3.8/site-packages (from IPython>=2.1->ipython-memory-usage) (0.1.0)\n",
      "Requirement already satisfied: pygments in /Users/jkanclerz/.venv/lib/python3.8/site-packages (from IPython>=2.1->ipython-memory-usage) (2.7.1)\n",
      "Requirement already satisfied: prompt-toolkit!=3.0.0,!=3.0.1,<3.1.0,>=2.0.0 in /Users/jkanclerz/.venv/lib/python3.8/site-packages (from IPython>=2.1->ipython-memory-usage) (3.0.8)\n",
      "Requirement already satisfied: decorator in /Users/jkanclerz/.venv/lib/python3.8/site-packages (from IPython>=2.1->ipython-memory-usage) (4.4.2)\n",
      "Requirement already satisfied: pickleshare in /Users/jkanclerz/.venv/lib/python3.8/site-packages (from IPython>=2.1->ipython-memory-usage) (0.7.5)\n",
      "Requirement already satisfied: parso<0.8.0,>=0.7.0 in /Users/jkanclerz/.venv/lib/python3.8/site-packages (from jedi>=0.10->IPython>=2.1->ipython-memory-usage) (0.7.1)\n",
      "Requirement already satisfied: ptyprocess>=0.5 in /Users/jkanclerz/.venv/lib/python3.8/site-packages (from pexpect>4.3; sys_platform != \"win32\"->IPython>=2.1->ipython-memory-usage) (0.6.0)\n",
      "Requirement already satisfied: ipython-genutils in /Users/jkanclerz/.venv/lib/python3.8/site-packages (from traitlets>=4.2->IPython>=2.1->ipython-memory-usage) (0.2.0)\n",
      "Requirement already satisfied: wcwidth in /Users/jkanclerz/.venv/lib/python3.8/site-packages (from prompt-toolkit!=3.0.0,!=3.0.1,<3.1.0,>=2.0.0->IPython>=2.1->ipython-memory-usage) (0.1.9)\n",
      "\u001b[33mWARNING: You are using pip version 20.1.1; however, version 20.2.4 is available.\n",
      "You should consider upgrading via the '/Users/jkanclerz/.venv/bin/python3 -m pip install --upgrade pip' command.\u001b[0m\n",
      "Note: you may need to restart the kernel to use updated packages.\n"
     ]
    }
   ],
   "source": [
    "pip install ipython-memory-usage"
   ]
  },
  {
   "cell_type": "code",
   "execution_count": 3,
   "metadata": {},
   "outputs": [
    {
     "data": {
      "text/plain": [
       "'memory profile enabled'"
      ]
     },
     "execution_count": 3,
     "metadata": {},
     "output_type": "execute_result"
    },
    {
     "name": "stdout",
     "output_type": "stream",
     "text": [
      "In [3] used 0.0469 MiB RAM in 0.11s, peaked 0.00 MiB above current, total RAM usage 44.40 MiB\n"
     ]
    }
   ],
   "source": [
    "import ipython_memory_usage \n",
    "%ipython_memory_usage_start "
   ]
  },
  {
   "cell_type": "code",
   "execution_count": 22,
   "metadata": {},
   "outputs": [
    {
     "name": "stdout",
     "output_type": "stream",
     "text": [
      "64081\n",
      "In [22] used 14.5391 MiB RAM in 0.18s, peaked 0.00 MiB above current, total RAM usage 87.15 MiB\n"
     ]
    }
   ],
   "source": [
    "with open('wykop.txt', 'r') as f:\n",
    "    lines = [line for line in f.readlines()]\n",
    "    print(len(lines))"
   ]
  },
  {
   "cell_type": "code",
   "execution_count": 28,
   "metadata": {},
   "outputs": [
    {
     "name": "stdout",
     "output_type": "stream",
     "text": [
      "64081\n",
      "In [28] used -0.2227 MiB RAM in 0.19s, peaked 0.23 MiB above current, total RAM usage 70.11 MiB\n"
     ]
    }
   ],
   "source": [
    "from functools import reduce\n",
    "\n",
    "with open('wykop.txt', 'r') as f:\n",
    "    lines = (line for line in f)\n",
    "    count = reduce(lambda acc, i: acc + 1, lines, 0)\n",
    "    print(count)"
   ]
  },
  {
   "cell_type": "code",
   "execution_count": 29,
   "metadata": {},
   "outputs": [
    {
     "data": {
      "text/plain": [
       "'memory profile disabled'"
      ]
     },
     "execution_count": 29,
     "metadata": {},
     "output_type": "execute_result"
    }
   ],
   "source": [
    "%ipython_memory_usage_stop"
   ]
  },
  {
   "cell_type": "code",
   "execution_count": null,
   "metadata": {},
   "outputs": [],
   "source": []
  }
 ],
 "metadata": {
  "kernelspec": {
   "display_name": "Python 3",
   "language": "python",
   "name": "python3"
  },
  "language_info": {
   "codemirror_mode": {
    "name": "ipython",
    "version": 3
   },
   "file_extension": ".py",
   "mimetype": "text/x-python",
   "name": "python",
   "nbconvert_exporter": "python",
   "pygments_lexer": "ipython3",
   "version": "3.8.5"
  }
 },
 "nbformat": 4,
 "nbformat_minor": 4
}
