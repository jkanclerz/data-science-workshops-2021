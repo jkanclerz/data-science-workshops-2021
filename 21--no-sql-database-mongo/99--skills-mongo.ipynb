{
 "cells": [
  {
   "cell_type": "code",
   "execution_count": 1,
   "metadata": {},
   "outputs": [
    {
     "name": "stdout",
     "output_type": "stream",
     "text": [
      "Connecting to s3.eu-central-1.amazonaws.com (52.219.72.72:443)\n",
      "skils.pkl            100% |********************************| 10.0M  0:00:00 ETA\n"
     ]
    }
   ],
   "source": [
    "!wget https://s3.eu-central-1.amazonaws.com/jkan.pl/data-science/uek/skils.pkl"
   ]
  },
  {
   "cell_type": "code",
   "execution_count": 2,
   "metadata": {},
   "outputs": [],
   "source": [
    "import pickle"
   ]
  },
  {
   "cell_type": "code",
   "execution_count": 3,
   "metadata": {},
   "outputs": [],
   "source": [
    "infile = open('skils.pkl','rb')\n",
    "new_dict = pickle.load(infile)"
   ]
  },
  {
   "cell_type": "code",
   "execution_count": 5,
   "metadata": {},
   "outputs": [
    {
     "data": {
      "text/plain": [
       "{'company': {'name': 'Syncron Sp. z o.o.',\n",
       "  'size': '350+',\n",
       "  'url': '',\n",
       "  'additionalContactEmails': [],\n",
       "  'logo': '/upload/posting/Syncron_Sp_z_o_o_20190415_144425.png',\n",
       "  'consentsInfo': {'termsAndConditions': True, 'marketingInfo': False}},\n",
       " 'apply': {'url': 'https://app.jobvite.com/j?cj=oTWv9fwd&s=NoFluffJobs'},\n",
       " 'consents': {'infoClause': 'The Controller of your personal data is Syncron Sp. z o.o., with registered office at Twarda 4, Warsaw. Your data is processed for the purpose of the current recruitment process. Providing data is voluntary but necessary for this purpose. Processing your data is lawful because it is necessary in order to take steps at the request of the data subject prior to entering into a contract (article 6 point 1b of Regulation EU 2016/679 - GDPR). Your personal data will be deleted when the current recruitment process is finished, unless a separate consent is provided below. You have the right to access, correct, modify, update, rectify, request for the transfer or deletion of data, withdrawal of consent or objection.',\n",
       "  'personalDataRequestLink': ''},\n",
       " 'id': 'YZP8ZTRJ',\n",
       " 'basics': {'category': 'fullstack',\n",
       "  'technology': 'java',\n",
       "  'seniority': ['Mid']},\n",
       " 'requirements': {'musts': [{'value': 'Java', 'type': 'main'},\n",
       "   {'value': 'English', 'type': 'other'},\n",
       "   {'value': 'Team player', 'type': 'other'},\n",
       "   {'value': 'Communication skills', 'type': 'other'},\n",
       "   {'value': 'Critical thinking', 'type': 'other'},\n",
       "   {'value': 'Problem solving', 'type': 'other'},\n",
       "   {'value': 'Creativity', 'type': 'other'}],\n",
       "  'nices': [{'value': 'Spring', 'type': 'main'},\n",
       "   {'value': 'Hibernate', 'type': 'main'},\n",
       "   {'value': 'Git', 'type': 'main'},\n",
       "   {'value': 'Maven', 'type': 'main'},\n",
       "   {'value': 'Jenkins', 'type': 'main'},\n",
       "   {'value': 'JavaScript', 'type': 'main'},\n",
       "   {'value': 'Angular', 'type': 'main'},\n",
       "   {'value': 'HTML', 'type': 'main'},\n",
       "   {'value': 'CSS', 'type': 'main'},\n",
       "   {'value': 'Node', 'type': 'main'},\n",
       "   {'value': 'TypeScript', 'type': 'main'},\n",
       "   {'value': 'SpringBoot', 'type': 'main'},\n",
       "   {'value': 'AWS', 'type': 'main'},\n",
       "   {'value': 'Proactivity', 'type': 'other'}]},\n",
       " 'methodology': [{'values': [], 'name': 'Integration tests'},\n",
       "  {'values': ['75% coverage', 'TestNG'], 'name': 'Unit tests'},\n",
       "  {'values': [''], 'name': 'Tester(s)'},\n",
       "  {'values': ['Agile', 'Retrospectives', 'Iterative work'],\n",
       "   'name': 'Agile management'},\n",
       "  {'values': ['Jira'], 'name': 'Issue tracking tool'},\n",
       "  {'values': ['Confluence', 'Sphinx'], 'name': 'Knowledge repository'},\n",
       "  {'values': ['Gerrit'], 'name': 'Code reviews'},\n",
       "  {'values': ['true'], 'name': 'Pair programming'},\n",
       "  {'values': ['Sonar'], 'name': 'Static code analysis'},\n",
       "  {'values': ['GIT'], 'name': 'Version control system'},\n",
       "  {'values': ['Jenkins'], 'name': 'Build server'}],\n",
       " 'specs': {'dailyTasks': [],\n",
       "  'details': {'relocation': {'amount': 0, 'currency': 'PLN'},\n",
       "   'custom': [{'key': 'Remote work', 'value': 'occasionally', 'active': True}],\n",
       "   'flexibleHours': True,\n",
       "   'chooseTools': True},\n",
       "  'travelling': 'none',\n",
       "  'workProfile': {'type': 'custom',\n",
       "   'graph': {'features': '60',\n",
       "    'maintenance': '15',\n",
       "    'support': '5',\n",
       "    'documentation': '7',\n",
       "    'meetings': '13'}},\n",
       "  'referral': {'allowed': False}},\n",
       " 'essentials': {'contract': {'start': 'ASAP', 'duration': {}},\n",
       "  'salary': {'types': {'permanent': {'period': 'Month',\n",
       "     'range': [8800, 13200],\n",
       "     'paidHoliday': True}},\n",
       "   'currency': 'PLN',\n",
       "   'bonus': None}},\n",
       " 'location': {'places': [{'country': {'code': 'POL', 'name': 'Poland'},\n",
       "    'city': 'Warsaw',\n",
       "    'street': 'Twarda 4',\n",
       "    'postalCode': '00-105',\n",
       "    'geoLocation': {'latitude': 52.235372, 'longitude': 21.001665}}],\n",
       "  'remote': 0,\n",
       "  'multicityCount': 5},\n",
       " 'benefits': {'benefits': ['Sport subscription',\n",
       "   'Training budget',\n",
       "   'Private healthcare',\n",
       "   'Small teams',\n",
       "   'International projects',\n",
       "   'Life insurance',\n",
       "   'Free language courses (English, Swedish)',\n",
       "   'Professional library',\n",
       "   'Udemy for business',\n",
       "   'Healthcare and insurance for spouse / family',\n",
       "   'Employee Referral Bonus',\n",
       "   'iPhone 8',\n",
       "   'Quarterly integration events'],\n",
       "  'officePerks': ['Free coffee',\n",
       "   'Bike parking',\n",
       "   'Shower',\n",
       "   'Free snacks',\n",
       "   'Free beverages',\n",
       "   'Mobile phone',\n",
       "   'Free parking',\n",
       "   'In-house trainings',\n",
       "   'Modern office',\n",
       "   'No dress code',\n",
       "   'Free breakfast',\n",
       "   'Pool table',\n",
       "   'Fresh fruits',\n",
       "   'Fresh orange juice',\n",
       "   'Friday cakes (Fika)',\n",
       "   'Board games',\n",
       "   'Juggling set'],\n",
       "  'equipment': {'operatingSystems': {'lin': True, 'mac': True, 'win': True},\n",
       "   'computer': 'Notebook',\n",
       "   'monitors': 'Two'}},\n",
       " 'title': 'Software Developer',\n",
       " 'details': {'description': '',\n",
       "  'quote': '',\n",
       "  'quoteAuthor': '',\n",
       "  'avatarPhoto': None,\n",
       "  'coverPhoto': None},\n",
       " 'posted': 1576172127153,\n",
       " 'status': 'PUBLISHED',\n",
       " 'postingUrl': 'software-developer-syncron-warsaw-yzp8ztrj',\n",
       " 'regions': ['pl'],\n",
       " 'meta': {'videosInCompanyProfileVisible': True},\n",
       " 'likes': 0,\n",
       " 'companyUrl': '/company/syncron-poland-icr3r56u',\n",
       " 'seo': {'title': 'Software Developer @ Syncron Sp. z o.o.',\n",
       "  'description': 'Software Developer @ Syncron Sp. z o.o. Warsaw POL 8.8k-13.2k (UoP) PLN / month',\n",
       "  'image': '/upload/facebook/Syncron_Sp_z_o_o_20190415_144425.png'}}"
      ]
     },
     "execution_count": 5,
     "metadata": {},
     "output_type": "execute_result"
    }
   ],
   "source": [
    "new_dict[0]"
   ]
  },
  {
   "cell_type": "markdown",
   "metadata": {},
   "source": [
    "## Pytania?\n",
    "1. które umiejętnosci cieszą sie najwieksza popularnoscia?\n",
    "2. Jaki kompetencje mięki są istotne?\n",
    "3. Jakie benefity są najpopularniejsze?\n"
   ]
  },
  {
   "cell_type": "code",
   "execution_count": null,
   "metadata": {},
   "outputs": [],
   "source": []
  }
 ],
 "metadata": {
  "kernelspec": {
   "display_name": "Python 3",
   "language": "python",
   "name": "python3"
  },
  "language_info": {
   "codemirror_mode": {
    "name": "ipython",
    "version": 3
   },
   "file_extension": ".py",
   "mimetype": "text/x-python",
   "name": "python",
   "nbconvert_exporter": "python",
   "pygments_lexer": "ipython3",
   "version": "3.7.5"
  }
 },
 "nbformat": 4,
 "nbformat_minor": 2
}
