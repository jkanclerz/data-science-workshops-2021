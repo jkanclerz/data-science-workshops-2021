{
 "cells": [
  {
   "cell_type": "markdown",
   "metadata": {},
   "source": [
    "Document Database"
   ]
  },
  {
   "cell_type": "markdown",
   "metadata": {},
   "source": [
    "SQL vs noSql databases\n",
    "\n",
    "![](../images/sqlvsmongo.png)\n",
    "\n",
    "| field   |      1974      |  2014 |\n",
    "|----------|:-------------:|------:|\n",
    "| Business Data Goals |  daily transactions, nightly raports | continues, realtime |\n",
    "| Release Schedule |    Semi-Annually   |   continues |\n",
    "\n",
    "    \n",
    "    \n",
    "\n",
    "Document databases\n",
    "------------------\n",
    "\n",
    "* What is document\n",
    "    * What is not\n",
    "        Not pdf, or .doc or docx or excel\n",
    "    * More like\n",
    "        * associative array\n",
    "        * Document == Json Object\n",
    "        * Document == Python Dict\n",
    "        * Document == Java Map\n",
    "        * Document == Ruby Hash\n",
    "\n",
    "props\n",
    "------\n",
    "* TIME TO MARKET\n",
    "* Flexible SCHAMA\n",
    "* No Schema manipulation when data changes\n",
    "* Oriented toward programmers\n",
    "* Flexible deployment\n",
    "    * Laptop\n",
    "    * server\n",
    "    * multiple servers\n",
    "    * SAAS\n",
    "* Aggregation framework\n",
    "\n",
    "\n"
   ]
  },
  {
   "cell_type": "code",
   "execution_count": 4,
   "metadata": {},
   "outputs": [
    {
     "name": "stdout",
     "output_type": "stream",
     "text": [
      "Requirement already satisfied: pymongo in /Users/jkanclerz/myplace/dydaktyka/przetwarzanie-dokumnetow/data-science-workshops-2021/.venv/lib/python3.8/site-packages (3.11.1)\n",
      "\u001b[33mWARNING: You are using pip version 20.1.1; however, version 20.2.4 is available.\n",
      "You should consider upgrading via the '/Users/jkanclerz/myplace/dydaktyka/przetwarzanie-dokumnetow/data-science-workshops-2021/.venv/bin/python3 -m pip install --upgrade pip' command.\u001b[0m\n"
     ]
    }
   ],
   "source": [
    "#Connect to database\n",
    "!pip install pymongo"
   ]
  },
  {
   "cell_type": "code",
   "execution_count": 5,
   "metadata": {},
   "outputs": [
    {
     "ename": "ModuleNotFoundError",
     "evalue": "No module named 'pymongo'",
     "output_type": "error",
     "traceback": [
      "\u001b[0;31m---------------------------------------------------------------------------\u001b[0m",
      "\u001b[0;31mModuleNotFoundError\u001b[0m                       Traceback (most recent call last)",
      "\u001b[0;32m<ipython-input-5-d037140837c5>\u001b[0m in \u001b[0;36m<module>\u001b[0;34m\u001b[0m\n\u001b[0;32m----> 1\u001b[0;31m \u001b[0;32mfrom\u001b[0m \u001b[0mpymongo\u001b[0m \u001b[0;32mimport\u001b[0m \u001b[0mMongoClient\u001b[0m\u001b[0;34m\u001b[0m\u001b[0;34m\u001b[0m\u001b[0m\n\u001b[0m\u001b[1;32m      2\u001b[0m \u001b[0;32mfrom\u001b[0m \u001b[0mpprint\u001b[0m \u001b[0;32mimport\u001b[0m \u001b[0mpprint\u001b[0m \u001b[0;32mas\u001b[0m \u001b[0mpp\u001b[0m\u001b[0;34m\u001b[0m\u001b[0;34m\u001b[0m\u001b[0m\n\u001b[1;32m      3\u001b[0m \u001b[0mclient\u001b[0m \u001b[0;34m=\u001b[0m \u001b[0mMongoClient\u001b[0m\u001b[0;34m(\u001b[0m\u001b[0;34m'mongodb://192.168.56.4:27017'\u001b[0m\u001b[0;34m)\u001b[0m\u001b[0;34m\u001b[0m\u001b[0;34m\u001b[0m\u001b[0m\n",
      "\u001b[0;31mModuleNotFoundError\u001b[0m: No module named 'pymongo'"
     ]
    }
   ],
   "source": [
    "from pymongo import MongoClient\n",
    "from pprint import pprint as pp\n",
    "client = MongoClient('mongodb://localhost:27017')"
   ]
  },
  {
   "cell_type": "code",
   "execution_count": 3,
   "metadata": {},
   "outputs": [],
   "source": [
    "tesla_s = {\n",
    "    \"identiffier\": \"tesla-s\",\n",
    "    \"manufacturer\": \"Tesla Motors NEW\"\n",
    "}"
   ]
  },
  {
   "cell_type": "code",
   "execution_count": 4,
   "metadata": {},
   "outputs": [
    {
     "name": "stdout",
     "output_type": "stream",
     "text": [
      "{'identiffier': 'tesla-s', 'manufacturer': 'Tesla Motors NEW'}\n"
     ]
    }
   ],
   "source": [
    "pp(tesla_s)"
   ]
  },
  {
   "cell_type": "markdown",
   "metadata": {},
   "source": [
    "S vs NS store and load\n",
    "------------------------"
   ]
  },
  {
   "cell_type": "code",
   "execution_count": 5,
   "metadata": {},
   "outputs": [
    {
     "data": {
      "text/plain": [
       "<pymongo.results.DeleteResult at 0x7f3cb71e7f00>"
      ]
     },
     "execution_count": 5,
     "metadata": {},
     "output_type": "execute_result"
    }
   ],
   "source": [
    "db = client.jkanclerz\n",
    "db.autos.delete_many({})"
   ]
  },
  {
   "cell_type": "code",
   "execution_count": 6,
   "metadata": {},
   "outputs": [
    {
     "data": {
      "text/plain": [
       "<pymongo.results.InsertOneResult at 0x7f3cb71e7eb0>"
      ]
     },
     "execution_count": 6,
     "metadata": {},
     "output_type": "execute_result"
    }
   ],
   "source": [
    "db.autos.insert_one(tesla_s)"
   ]
  },
  {
   "cell_type": "code",
   "execution_count": 7,
   "metadata": {},
   "outputs": [],
   "source": [
    "cars = db.autos.find()"
   ]
  },
  {
   "cell_type": "code",
   "execution_count": 8,
   "metadata": {},
   "outputs": [
    {
     "name": "stdout",
     "output_type": "stream",
     "text": [
      "[{'_id': ObjectId('5e45bdaf18482dd77aefac09'),\n",
      "  'identiffier': 'tesla-s',\n",
      "  'manufacturer': 'Tesla Motors NEW'}]\n"
     ]
    }
   ],
   "source": [
    "pp(list(cars))"
   ]
  },
  {
   "cell_type": "code",
   "execution_count": 9,
   "metadata": {},
   "outputs": [],
   "source": [
    "car = db.autos.find_one({\"identiffier\": \"tesla-s\"})"
   ]
  },
  {
   "cell_type": "code",
   "execution_count": 10,
   "metadata": {},
   "outputs": [
    {
     "name": "stdout",
     "output_type": "stream",
     "text": [
      "{'_id': ObjectId('5e45bdaf18482dd77aefac09'),\n",
      " 'identiffier': 'tesla-s',\n",
      " 'manufacturer': 'Tesla Motors NEW'}\n"
     ]
    }
   ],
   "source": [
    "pp(car)"
   ]
  },
  {
   "cell_type": "markdown",
   "metadata": {},
   "source": [
    "S vs NS add simple field\n",
    "-----------------"
   ]
  },
  {
   "cell_type": "code",
   "execution_count": 11,
   "metadata": {},
   "outputs": [
    {
     "data": {
      "text/plain": [
       "<pymongo.results.InsertOneResult at 0x7f3cb6f81dc0>"
      ]
     },
     "execution_count": 11,
     "metadata": {},
     "output_type": "execute_result"
    }
   ],
   "source": [
    "volvo_xc_60 = {\n",
    "    \"identiffier\": \"volvo-xc60\",\n",
    "    \"manufacturer\": \"Volvo Cars\",\n",
    "    \"class\": \"SUV\",\n",
    "    \"body style\": \"5-door CUV\",\n",
    "    \"production\": 2008\n",
    "}\n",
    "\n",
    "db.autos.insert_one(volvo_xc_60)"
   ]
  },
  {
   "cell_type": "code",
   "execution_count": 12,
   "metadata": {},
   "outputs": [
    {
     "name": "stdout",
     "output_type": "stream",
     "text": [
      "[{'_id': ObjectId('5e45bdaf18482dd77aefac09'),\n",
      "  'identiffier': 'tesla-s',\n",
      "  'manufacturer': 'Tesla Motors NEW'},\n",
      " {'_id': ObjectId('5e45bdb018482dd77aefac0a'),\n",
      "  'body style': '5-door CUV',\n",
      "  'class': 'SUV',\n",
      "  'identiffier': 'volvo-xc60',\n",
      "  'manufacturer': 'Volvo Cars',\n",
      "  'production': 2008}]\n"
     ]
    }
   ],
   "source": [
    "pp(list(db.autos.find()))"
   ]
  },
  {
   "cell_type": "markdown",
   "metadata": {},
   "source": [
    "S vs NS add nested field\n",
    "-----------------"
   ]
  },
  {
   "cell_type": "code",
   "execution_count": 13,
   "metadata": {},
   "outputs": [],
   "source": [
    "subaru = {\n",
    "    \"identiffier\": \"subaru-forester\",\n",
    "    \"manufacturer\": \"Subaru Corporation\",\n",
    "    \"class\": \"SUV\",\n",
    "    \"body style\": \"5-door Small SUV\",\n",
    "    \"production\": [2008, 2009, 2010, 2011, 2012],\n",
    "    \"assembley\": [\n",
    "        {\n",
    "            \"country\": \"Japan\",\n",
    "            \"city\": \"Gunma\"\n",
    "        },\n",
    "        {\n",
    "            \"country\": \"Malaysia\",\n",
    "            \"city\": \"Kuala Lumpur\",\n",
    "        }\n",
    "    ],\n",
    "    \"related\": [\n",
    "        {\n",
    "            \"identiffier\": \"subaru-impreza\"\n",
    "        }\n",
    "    ]\n",
    "}"
   ]
  },
  {
   "cell_type": "code",
   "execution_count": 14,
   "metadata": {},
   "outputs": [
    {
     "data": {
      "text/plain": [
       "<pymongo.results.InsertOneResult at 0x7f3cb6f8f2d0>"
      ]
     },
     "execution_count": 14,
     "metadata": {},
     "output_type": "execute_result"
    }
   ],
   "source": [
    "db.autos.insert_one(subaru)"
   ]
  },
  {
   "cell_type": "code",
   "execution_count": 15,
   "metadata": {},
   "outputs": [
    {
     "name": "stdout",
     "output_type": "stream",
     "text": [
      "[{'_id': ObjectId('5e45bdaf18482dd77aefac09'),\n",
      "  'identiffier': 'tesla-s',\n",
      "  'manufacturer': 'Tesla Motors NEW'},\n",
      " {'_id': ObjectId('5e45bdb018482dd77aefac0a'),\n",
      "  'body style': '5-door CUV',\n",
      "  'class': 'SUV',\n",
      "  'identiffier': 'volvo-xc60',\n",
      "  'manufacturer': 'Volvo Cars',\n",
      "  'production': 2008},\n",
      " {'_id': ObjectId('5e45bdb218482dd77aefac0b'),\n",
      "  'assembley': [{'city': 'Gunma', 'country': 'Japan'},\n",
      "                {'city': 'Kuala Lumpur', 'country': 'Malaysia'}],\n",
      "  'body style': '5-door Small SUV',\n",
      "  'class': 'SUV',\n",
      "  'identiffier': 'subaru-forester',\n",
      "  'manufacturer': 'Subaru Corporation',\n",
      "  'production': [2008, 2009, 2010, 2011, 2012],\n",
      "  'related': [{'identiffier': 'subaru-impreza'}]}]\n"
     ]
    }
   ],
   "source": [
    "pp(list(db.autos.find()))"
   ]
  },
  {
   "cell_type": "code",
   "execution_count": 16,
   "metadata": {},
   "outputs": [
    {
     "name": "stdout",
     "output_type": "stream",
     "text": [
      "{'_id': ObjectId('5e45bdb018482dd77aefac0a'),\n",
      " 'body style': '5-door CUV',\n",
      " 'class': 'SUV',\n",
      " 'identiffier': 'volvo-xc60',\n",
      " 'manufacturer': 'Volvo Cars',\n",
      " 'production': 2008}\n",
      "{'_id': ObjectId('5e45bdb218482dd77aefac0b'),\n",
      " 'assembley': [{'city': 'Gunma', 'country': 'Japan'},\n",
      "               {'city': 'Kuala Lumpur', 'country': 'Malaysia'}],\n",
      " 'body style': '5-door Small SUV',\n",
      " 'class': 'SUV',\n",
      " 'identiffier': 'subaru-forester',\n",
      " 'manufacturer': 'Subaru Corporation',\n",
      " 'production': [2008, 2009, 2010, 2011, 2012],\n",
      " 'related': [{'identiffier': 'subaru-impreza'}]}\n"
     ]
    }
   ],
   "source": [
    "for b in db.autos.find({\"production\": 2008}):\n",
    "    pp(b)"
   ]
  },
  {
   "cell_type": "markdown",
   "metadata": {},
   "source": [
    "projection\n",
    "-------------\n",
    "only identiffier and manufacturer"
   ]
  },
  {
   "cell_type": "code",
   "execution_count": 17,
   "metadata": {},
   "outputs": [
    {
     "name": "stdout",
     "output_type": "stream",
     "text": [
      "{'identiffier': 'volvo-xc60', 'manufacturer': 'Volvo Cars'}\n",
      "{'identiffier': 'subaru-forester', 'manufacturer': 'Subaru Corporation'}\n"
     ]
    }
   ],
   "source": [
    "for b in db.autos.find({\"production\": 2008}, {\"_id\": 0, \"identiffier\": 1, \"manufacturer\": 1}):\n",
    "    pp(b)"
   ]
  },
  {
   "cell_type": "markdown",
   "metadata": {},
   "source": [
    "multiple fields\n",
    "---------------"
   ]
  },
  {
   "cell_type": "code",
   "execution_count": 18,
   "metadata": {},
   "outputs": [
    {
     "name": "stdout",
     "output_type": "stream",
     "text": [
      "{'identiffier': 'volvo-xc60', 'manufacturer': 'Volvo Cars'}\n"
     ]
    }
   ],
   "source": [
    "for b in db.autos.find(\n",
    "    {\"production\": 2008, \"manufacturer\": \"Volvo Cars\"},\n",
    "    {\"_id\": 0, \"identiffier\": 1, \"manufacturer\": 1}\n",
    "):\n",
    "    pp(b)"
   ]
  },
  {
   "cell_type": "code",
   "execution_count": 19,
   "metadata": {},
   "outputs": [
    {
     "name": "stdout",
     "output_type": "stream",
     "text": [
      "{'_id': ObjectId('5e45bdb218482dd77aefac0b'),\n",
      " 'assembley': [{'city': 'Gunma', 'country': 'Japan'},\n",
      "               {'city': 'Kuala Lumpur', 'country': 'Malaysia'}],\n",
      " 'body style': '5-door Small SUV',\n",
      " 'class': 'SUV',\n",
      " 'identiffier': 'subaru-forester',\n",
      " 'manufacturer': 'Subaru Corporation',\n",
      " 'production': [2008, 2009, 2010, 2011, 2012],\n",
      " 'related': [{'identiffier': 'subaru-impreza'}]}\n"
     ]
    }
   ],
   "source": [
    "for b in db.autos.find({\"assembley.city\": \"Kuala Lumpur\"}):\n",
    "    pp(b)"
   ]
  },
  {
   "cell_type": "markdown",
   "metadata": {},
   "source": [
    "noSql \n",
    "-----\n",
    "\n",
    "no changes at all"
   ]
  },
  {
   "cell_type": "markdown",
   "metadata": {},
   "source": [
    "# Zadanie\n",
    "\n",
    "Odtwórz cwiczenie z wykorzystaniem bazy sql"
   ]
  },
  {
   "cell_type": "code",
   "execution_count": null,
   "metadata": {},
   "outputs": [],
   "source": []
  }
 ],
 "metadata": {
  "kernelspec": {
   "display_name": "Python 3",
   "language": "python",
   "name": "python3"
  },
  "language_info": {
   "codemirror_mode": {
    "name": "ipython",
    "version": 3
   },
   "file_extension": ".py",
   "mimetype": "text/x-python",
   "name": "python",
   "nbconvert_exporter": "python",
   "pygments_lexer": "ipython3",
   "version": "3.8.5"
  }
 },
 "nbformat": 4,
 "nbformat_minor": 2
}
