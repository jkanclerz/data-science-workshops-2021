{
 "cells": [
  {
   "cell_type": "markdown",
   "metadata": {},
   "source": [
    "EXCEL\n",
    "======\n",
    "\n",
    "- https://dane.gov.pl/dataset/1076\n",
    "\n",
    "Excel jaki jest kazdy widzi\n",
    "\n",
    "- https://dane.gov.pl/dataset/1076/resource/21226\n",
    "- https://uek-krakow.s3-eu-west-1.amazonaws.com/data-science/datasets/covid-rogalski.xlsx"
   ]
  },
  {
   "cell_type": "code",
   "execution_count": null,
   "metadata": {},
   "outputs": [],
   "source": [
    "!wget https://uek-krakow.s3-eu-west-1.amazonaws.com/data-science/datasets/covid-rogalski.xlsx"
   ]
  },
  {
   "cell_type": "code",
   "execution_count": null,
   "metadata": {},
   "outputs": [],
   "source": [
    "pip install xlrd"
   ]
  },
  {
   "cell_type": "code",
   "execution_count": null,
   "metadata": {},
   "outputs": [],
   "source": [
    "import xlrd\n",
    "from pprint import pprint as pp\n",
    "\n",
    "filepath = 'covid-rogalski.xlsx'\n",
    "\n",
    "def parse_file(datafile):\n",
    "    workbook = xlrd.open_workbook(datafile)\n",
    "    return workbook\n",
    "\n",
    "excel = parse_file(filepath)"
   ]
  },
  {
   "cell_type": "code",
   "execution_count": null,
   "metadata": {},
   "outputs": [],
   "source": [
    "pp(excel.sheet_names())"
   ]
  },
  {
   "cell_type": "code",
   "execution_count": null,
   "metadata": {},
   "outputs": [],
   "source": [
    "sheet = excel.sheet_by_name('Aktualna sytuacja w Polsce')\n",
    "print(\"Columns count {}\".format(sheet.ncols))\n",
    "print(\"Row count {}\".format(sheet.nrows))"
   ]
  },
  {
   "cell_type": "code",
   "execution_count": null,
   "metadata": {},
   "outputs": [],
   "source": [
    "pp(\"Polska {}\".format(sheet.cell_value(18, 2)))"
   ]
  },
  {
   "cell_type": "code",
   "execution_count": null,
   "metadata": {},
   "outputs": [],
   "source": [
    "districts = [sheet.cell_value(i, 1) for i in range(2,18)]"
   ]
  },
  {
   "cell_type": "code",
   "execution_count": null,
   "metadata": {},
   "outputs": [],
   "source": [
    "confirmed = [sheet.cell_value(i, 2) for i in range(2,18)]\n",
    "active = [sheet.cell_value(i, 6) for i in range(2,18)]\n",
    "deaths = [sheet.cell_value(i, 3) for i in range(2,18)]"
   ]
  },
  {
   "cell_type": "code",
   "execution_count": null,
   "metadata": {},
   "outputs": [],
   "source": [
    "data = zip(districts, confirmed, active, deaths)"
   ]
  },
  {
   "cell_type": "code",
   "execution_count": null,
   "metadata": {},
   "outputs": [],
   "source": [
    "list(data)"
   ]
  },
  {
   "cell_type": "code",
   "execution_count": null,
   "metadata": {},
   "outputs": [],
   "source": []
  }
 ],
 "metadata": {
  "kernelspec": {
   "display_name": "Python 3",
   "language": "python",
   "name": "python3"
  },
  "language_info": {
   "codemirror_mode": {
    "name": "ipython",
    "version": 3
   },
   "file_extension": ".py",
   "mimetype": "text/x-python",
   "name": "python",
   "nbconvert_exporter": "python",
   "pygments_lexer": "ipython3",
   "version": "3.8.5"
  }
 },
 "nbformat": 4,
 "nbformat_minor": 2
}
