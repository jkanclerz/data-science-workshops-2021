{
 "cells": [
  {
   "cell_type": "code",
   "execution_count": 1,
   "metadata": {},
   "outputs": [],
   "source": [
    "urls = [\n",
    "    'http://data.githubarchive.org/2017-06-{:02d}-{}.json.gz'.format(day, hour)\n",
    "    for day in range(5, 12)\n",
    "    for hour in range(0, 24)\n",
    "]"
   ]
  },
  {
   "cell_type": "code",
   "execution_count": 2,
   "metadata": {},
   "outputs": [
    {
     "data": {
      "text/plain": [
       "'http://data.githubarchive.org/2017-06-05-0.json.gz'"
      ]
     },
     "execution_count": 2,
     "metadata": {},
     "output_type": "execute_result"
    }
   ],
   "source": [
    "urls[0]"
   ]
  },
  {
   "cell_type": "code",
   "execution_count": 3,
   "metadata": {},
   "outputs": [],
   "source": [
    "import requests\n",
    "import gzip\n",
    "import json\n",
    "import itertools\n",
    "\n",
    "data = (requests.get(url) for url in urls)\n",
    "decompressed = (gzip.decompress(r.content).decode('utf-8') for r in data)"
   ]
  },
  {
   "cell_type": "code",
   "execution_count": 4,
   "metadata": {},
   "outputs": [],
   "source": [
    "with open('github.json', 'w+') as f:\n",
    "    f.write(next(decompressed))"
   ]
  },
  {
   "cell_type": "code",
   "execution_count": 5,
   "metadata": {},
   "outputs": [
    {
     "name": "stdout",
     "output_type": "stream",
     "text": [
      " 65M\tgithub.json\r\n"
     ]
    }
   ],
   "source": [
    "!du -h github.json"
   ]
  },
  {
   "cell_type": "code",
   "execution_count": 6,
   "metadata": {},
   "outputs": [],
   "source": [
    "import requests\n",
    "import gzip\n",
    "import json\n",
    "import itertools\n",
    "\n",
    "data = (requests.get(url) for url in urls)\n",
    "decompressed = (gzip.decompress(r.content).decode('utf-8') for r in data)\n",
    "objects = (content.split(\"\\n\") for content in decompressed)\n",
    "objects = itertools.chain.from_iterable(objects)"
   ]
  },
  {
   "cell_type": "code",
   "execution_count": 7,
   "metadata": {},
   "outputs": [],
   "source": [
    "sample_cotnent = next(objects)\n",
    "sample_object = json.loads(sample_cotnent)"
   ]
  },
  {
   "cell_type": "code",
   "execution_count": 8,
   "metadata": {},
   "outputs": [
    {
     "name": "stdout",
     "output_type": "stream",
     "text": [
      "{'actor': {'avatar_url': 'https://avatars.githubusercontent.com/u/20188899?',\n",
      "           'display_login': 'jviriato',\n",
      "           'gravatar_id': '',\n",
      "           'id': 20188899,\n",
      "           'login': 'jviriato',\n",
      "           'url': 'https://api.github.com/users/jviriato'},\n",
      " 'created_at': '2017-06-05T00:00:00Z',\n",
      " 'id': '5999726536',\n",
      " 'payload': {'before': 'ae90a356c5eea74763e3d8b749910cc5b7ee2e08',\n",
      "             'commits': [{'author': {'email': '2d773a7c58a84cdc5f6f61665ae9d292fb2e0870@inf.ufsm.br',\n",
      "                                     'name': 'José Victor Viriato'},\n",
      "                          'distinct': True,\n",
      "                          'message': 't7',\n",
      "                          'sha': 'd3210f4a7d00439e0034320d901bfe1b258c61e2',\n",
      "                          'url': 'https://api.github.com/repos/jviriato/elc117/commits/d3210f4a7d00439e0034320d901bfe1b258c61e2'},\n",
      "                         {'author': {'email': '2d773a7c58a84cdc5f6f61665ae9d292fb2e0870@inf.ufsm.br',\n",
      "                                     'name': 'José Victor Viriato'},\n",
      "                          'distinct': True,\n",
      "                          'message': \"Merge branch 'master' of \"\n",
      "                                     'https://github.com/jviriato/elc117',\n",
      "                          'sha': 'd0e376abf0e3744f5d9fb2e61cb635da9f3143e4',\n",
      "                          'url': 'https://api.github.com/repos/jviriato/elc117/commits/d0e376abf0e3744f5d9fb2e61cb635da9f3143e4'}],\n",
      "             'distinct_size': 2,\n",
      "             'head': 'd0e376abf0e3744f5d9fb2e61cb635da9f3143e4',\n",
      "             'push_id': 1779765709,\n",
      "             'ref': 'refs/heads/master',\n",
      "             'size': 2},\n",
      " 'public': True,\n",
      " 'repo': {'id': 84136609,\n",
      "          'name': 'jviriato/elc117',\n",
      "          'url': 'https://api.github.com/repos/jviriato/elc117'},\n",
      " 'type': 'PushEvent'}\n"
     ]
    }
   ],
   "source": [
    "from pprint import pprint as pp\n",
    "pp(sample_object)"
   ]
  },
  {
   "cell_type": "markdown",
   "metadata": {},
   "source": [
    "# Pytania\n",
    "1. Jakiego rodzaju zdarzenia występowały najczęściej\n",
    "2. Najczęściej wydawane projekty\n",
    "3. Najaktywniejsze repozytorium"
   ]
  },
  {
   "cell_type": "code",
   "execution_count": 9,
   "metadata": {},
   "outputs": [],
   "source": [
    "import requests\n",
    "import gzip\n",
    "import json\n",
    "import itertools\n",
    "\n",
    "data = (requests.get(url) for url in urls)\n",
    "decompressed = (gzip.decompress(r.content).decode('utf-8') for r in data)\n",
    "json_str_batches = (content.split(\"\\n\") for content in decompressed)\n",
    "json_str = itertools.chain.from_iterable(json_str_batches)\n",
    "dicts = (json.loads(content) for content in json_str)"
   ]
  },
  {
   "cell_type": "code",
   "execution_count": 10,
   "metadata": {},
   "outputs": [],
   "source": [
    "limited_amount = (next(dicts) for x in range(1, 1000))"
   ]
  },
  {
   "cell_type": "code",
   "execution_count": 11,
   "metadata": {},
   "outputs": [],
   "source": [
    "lited_amount = list(limited_amount)"
   ]
  },
  {
   "cell_type": "code",
   "execution_count": 12,
   "metadata": {},
   "outputs": [],
   "source": [
    "events = [item['type'] for item in lited_amount]"
   ]
  },
  {
   "cell_type": "code",
   "execution_count": 13,
   "metadata": {},
   "outputs": [],
   "source": [
    "import collections"
   ]
  },
  {
   "cell_type": "code",
   "execution_count": 14,
   "metadata": {},
   "outputs": [],
   "source": [
    "cnt = collections.Counter(events)"
   ]
  },
  {
   "cell_type": "code",
   "execution_count": 15,
   "metadata": {},
   "outputs": [
    {
     "data": {
      "text/plain": [
       "Counter({'PushEvent': 656,\n",
       "         'IssueCommentEvent': 43,\n",
       "         'IssuesEvent': 32,\n",
       "         'PullRequestEvent': 40,\n",
       "         'WatchEvent': 56,\n",
       "         'PullRequestReviewCommentEvent': 3,\n",
       "         'CreateEvent': 116,\n",
       "         'ForkEvent': 19,\n",
       "         'MemberEvent': 2,\n",
       "         'DeleteEvent': 24,\n",
       "         'ReleaseEvent': 1,\n",
       "         'GollumEvent': 5,\n",
       "         'PublicEvent': 2})"
      ]
     },
     "execution_count": 15,
     "metadata": {},
     "output_type": "execute_result"
    }
   ],
   "source": [
    "cnt"
   ]
  },
  {
   "cell_type": "code",
   "execution_count": 16,
   "metadata": {},
   "outputs": [],
   "source": [
    "import functools"
   ]
  },
  {
   "cell_type": "code",
   "execution_count": 17,
   "metadata": {},
   "outputs": [],
   "source": [
    "just_push = filter(lambda x: x['type'] == 'PushEvent', lited_amount) "
   ]
  },
  {
   "cell_type": "code",
   "execution_count": 18,
   "metadata": {},
   "outputs": [],
   "source": [
    "names = [item['repo']['url'] for item in just_push]"
   ]
  },
  {
   "cell_type": "code",
   "execution_count": 19,
   "metadata": {},
   "outputs": [],
   "source": [
    "most_active_repos = collections.Counter(names)"
   ]
  },
  {
   "cell_type": "code",
   "execution_count": 20,
   "metadata": {},
   "outputs": [
    {
     "data": {
      "text/plain": [
       "[('https://api.github.com/repos/Lombiq/Orchard-External-Pages', 12),\n",
       " ('https://api.github.com/repos/everypolitician-scrapers/macedonia-sobranie',\n",
       "  11),\n",
       " ('https://api.github.com/repos/Lombiq/Orchard-Token-Title', 11),\n",
       " ('https://api.github.com/repos/ssbattousai/Cuda38', 8),\n",
       " ('https://api.github.com/repos/kfcampbell/GithubBotRepo', 6),\n",
       " ('https://api.github.com/repos/multicharts/scanner-check', 6),\n",
       " ('https://api.github.com/repos/everypolitician-scrapers/philippines-house-of-representatives',\n",
       "  5),\n",
       " ('https://api.github.com/repos/abodiab/OOS', 4),\n",
       " ('https://api.github.com/repos/Kieves/kieves.github.io', 4),\n",
       " ('https://api.github.com/repos/Lombiq/Om.Orchard.SocialMetaTags', 4)]"
      ]
     },
     "execution_count": 20,
     "metadata": {},
     "output_type": "execute_result"
    }
   ],
   "source": [
    "most_active_repos.most_common(10)"
   ]
  },
  {
   "cell_type": "markdown",
   "metadata": {},
   "source": [
    "## Jakie są najpopularniejsze języki programowania w github?\n",
    "\n",
    "```\n",
    "\"{}/languages\".format(repoUrl)\n",
    "```"
   ]
  },
  {
   "cell_type": "code",
   "execution_count": null,
   "metadata": {},
   "outputs": [],
   "source": []
  }
 ],
 "metadata": {
  "kernelspec": {
   "display_name": "Python 3",
   "language": "python",
   "name": "python3"
  },
  "language_info": {
   "codemirror_mode": {
    "name": "ipython",
    "version": 3
   },
   "file_extension": ".py",
   "mimetype": "text/x-python",
   "name": "python",
   "nbconvert_exporter": "python",
   "pygments_lexer": "ipython3",
   "version": "3.8.5"
  }
 },
 "nbformat": 4,
 "nbformat_minor": 2
}
