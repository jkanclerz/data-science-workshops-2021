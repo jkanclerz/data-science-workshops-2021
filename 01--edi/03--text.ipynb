{
 "cells": [
  {
   "cell_type": "code",
   "execution_count": null,
   "metadata": {},
   "outputs": [],
   "source": [
    "!pip install ipython_memory_usage pytz"
   ]
  },
  {
   "cell_type": "code",
   "execution_count": null,
   "metadata": {},
   "outputs": [],
   "source": [
    "!wget https://s3.eu-central-1.amazonaws.com/jkan.pl/data-science/uek/wykop--sample.txt\n",
    "        "
   ]
  },
  {
   "cell_type": "code",
   "execution_count": 1,
   "metadata": {},
   "outputs": [
    {
     "name": "stdout",
     "output_type": "stream",
     "text": [
      "--2020-11-20 10:17:32--  https://s3.eu-central-1.amazonaws.com/jkan.pl/data-science/uek/wykop.txt\n",
      "Resolving s3.eu-central-1.amazonaws.com (s3.eu-central-1.amazonaws.com)... 52.219.74.84\n",
      "Connecting to s3.eu-central-1.amazonaws.com (s3.eu-central-1.amazonaws.com)|52.219.74.84|:443... connected.\n",
      "HTTP request sent, awaiting response... 200 OK\n",
      "Length: 9179766 (8.8M) [text/plain]\n",
      "Saving to: ‘wykop.txt.1’\n",
      "\n",
      "wykop.txt.1         100%[===================>]   8.75M  8.09MB/s    in 1.1s    \n",
      "\n",
      "2020-11-20 10:17:33 (8.09 MB/s) - ‘wykop.txt.1’ saved [9179766/9179766]\n",
      "\n"
     ]
    }
   ],
   "source": [
    "!wget https://s3.eu-central-1.amazonaws.com/jkan.pl/data-science/uek/wykop.txt"
   ]
  },
  {
   "cell_type": "code",
   "execution_count": null,
   "metadata": {},
   "outputs": [],
   "source": [
    "import ipython_memory_usage \n",
    "%ipython_memory_usage_start "
   ]
  },
  {
   "cell_type": "code",
   "execution_count": null,
   "metadata": {},
   "outputs": [],
   "source": [
    "from datetime import datetime\n",
    "\n",
    "date_obj = datetime.fromisoformat('2019-11-16T09:03:01+01:00')\n",
    "assert str(date_obj.date()) == '2019-11-16'\n",
    "date_obj"
   ]
  },
  {
   "cell_type": "code",
   "execution_count": null,
   "metadata": {},
   "outputs": [],
   "source": [
    "from collections import namedtuple\n",
    "Wykop = namedtuple('Wykop', ['date', 'title', 'tags'])\n",
    "def parse_wykop_row(row):\n",
    "    try:\n",
    "        return Wykop(datetime.fromisoformat(row[0]), row[2], row[1].split('||'))\n",
    "    except ValueError:\n",
    "        return None"
   ]
  },
  {
   "cell_type": "code",
   "execution_count": null,
   "metadata": {},
   "outputs": [],
   "source": [
    "import functools\n",
    "import pytz\n",
    "import itertools\n",
    "from collections import Counter\n",
    "from pprint import pprint as pp\n",
    "\n",
    "with open('wykop--sample.txt', 'r') as f:\n",
    "    wykops = (row.split(\"\\t\") for row in f.readlines())\n",
    "    wykop_objects = (parse_wykop_row(row) for row in wykops)\n",
    "    wykop_objects = (wykop for wykop in wykop_objects if wykop is not None)\n",
    "    just_november = (wykop for wykop in wykop_objects if (wykop.date >= datetime(2019, 11, 1, tzinfo=pytz.timezone('UTC'))))\n",
    "    just_november = (wykop for wykop in wykop_objects if (wykop.date <= datetime(2019, 11, 30, tzinfo=pytz.timezone('UTC'))))\n",
    "    topics = map(lambda x: x.tags, just_november)\n",
    "    all_together = itertools.chain.from_iterable(topics)\n",
    "\n",
    "    cnt = Counter()\n",
    "    for topic in all_together:\n",
    "        cnt[topic] += 1"
   ]
  },
  {
   "cell_type": "code",
   "execution_count": null,
   "metadata": {},
   "outputs": [],
   "source": [
    "sorted(cnt.items(), key=lambda pair: pair[1], reverse=True)\n",
    "cnt.most_common(10)"
   ]
  },
  {
   "cell_type": "code",
   "execution_count": null,
   "metadata": {},
   "outputs": [],
   "source": [
    "%ipython_memory_usage_stop"
   ]
  },
  {
   "cell_type": "code",
   "execution_count": null,
   "metadata": {},
   "outputs": [],
   "source": [
    "import functools\n",
    "import pytz\n",
    "import itertools\n",
    "from collections import Counter\n",
    "\n",
    "with open('wykop.txt', 'r') as f:\n",
    "    wykops = [row.split(\"\\t\") for row in f.readlines()]\n",
    "    wykop_objects = [parse_wykop_row(row) for row in wykops]\n",
    "    wykop_objects = [wykop for wykop in wykop_objects if wykop is not None]\n",
    "    topics = list(map(lambda x: x.tags, wykop_objects))\n",
    "    all_together = list(itertools.chain.from_iterable(topics))\n",
    "\n",
    "    cnt = Counter()\n",
    "    for topic in all_together:\n",
    "        cnt[topic] += 1"
   ]
  },
  {
   "cell_type": "code",
   "execution_count": null,
   "metadata": {},
   "outputs": [],
   "source": [
    "cnt.most_common()"
   ]
  },
  {
   "cell_type": "code",
   "execution_count": null,
   "metadata": {},
   "outputs": [],
   "source": []
  },
  {
   "cell_type": "markdown",
   "metadata": {},
   "source": [
    "### LOGS"
   ]
  },
  {
   "cell_type": "code",
   "execution_count": null,
   "metadata": {},
   "outputs": [],
   "source": [
    "!wget https://uek-krakow.s3-eu-west-1.amazonaws.com/data-science/logs/cdn-access.log"
   ]
  },
  {
   "cell_type": "code",
   "execution_count": null,
   "metadata": {},
   "outputs": [],
   "source": [
    "with open('cdn-access.log', 'r') as f:\n",
    "    lines = (line for line in f)\n",
    "    print(next(lines))\n",
    "    "
   ]
  },
  {
   "cell_type": "code",
   "execution_count": null,
   "metadata": {},
   "outputs": [],
   "source": [
    "example_line = '''sg-cdn.uek.krakow.pl 10.20.2.31 - - [08/Oct/2020:08:35:58 +0200] \"GET //xmlrpc.php?rsd HTTP/1.1\" 404 27 \"-\" \"Mozilla/5.0 (Windows NT 10.0; Win64; x64) AppleWebKit/537.36 (KHTML, like Gecko) Chrome/80.0.3987.149 Safari/537.36\" \"0.000\"'''"
   ]
  },
  {
   "cell_type": "code",
   "execution_count": null,
   "metadata": {},
   "outputs": [],
   "source": [
    "extract_code(example_line)"
   ]
  },
  {
   "cell_type": "code",
   "execution_count": null,
   "metadata": {},
   "outputs": [],
   "source": [
    "import re\n",
    "lineformat = re.compile(r\"\"\"(?P<ipaddress>\\d{1,3}\\.\\d{1,3}\\.\\d{1,3}\\.\\d{1,3}) - - \\[(?P<dateandtime>\\d{2}\\/[a-z]{3}\\/\\d{4}:\\d{2}:\\d{2}:\\d{2} (\\+|\\-)\\d{4})\\] ((\\\"(GET|POST) )(?P<url>.+)(http\\/1\\.1\")) (?P<statuscode>\\d{3}) (?P<bytessent>\\d+) ([\"](?P<refferer>(\\-)|(.+))[\"]) ([\"](?P<useragent>.+)[\"])\"\"\", re.IGNORECASE)"
   ]
  },
  {
   "cell_type": "code",
   "execution_count": null,
   "metadata": {},
   "outputs": [],
   "source": [
    "def extract_code(line):\n",
    "    data = re.search(lineformat, line)\n",
    "    datadict = data.groupdict()\n",
    "    return datadict['statuscode'] if 'statuscode' in datadict else None"
   ]
  },
  {
   "cell_type": "code",
   "execution_count": null,
   "metadata": {},
   "outputs": [],
   "source": [
    "extract_code(example_line)"
   ]
  },
  {
   "cell_type": "code",
   "execution_count": null,
   "metadata": {},
   "outputs": [],
   "source": [
    "from collections import Counter\n",
    "with open('cdn-access.log', 'r') as f:\n",
    "    lines = (line for line in f)\n",
    "    codes = (extract_code(line) for line in lines)\n",
    "    codes_as_list = list(codes)"
   ]
  },
  {
   "cell_type": "code",
   "execution_count": null,
   "metadata": {},
   "outputs": [],
   "source": [
    "cnt = Counter(codes_as_list)"
   ]
  },
  {
   "cell_type": "code",
   "execution_count": null,
   "metadata": {},
   "outputs": [],
   "source": [
    "cnt"
   ]
  },
  {
   "cell_type": "code",
   "execution_count": null,
   "metadata": {},
   "outputs": [],
   "source": []
  }
 ],
 "metadata": {
  "kernelspec": {
   "display_name": "Python 3",
   "language": "python",
   "name": "python3"
  },
  "language_info": {
   "codemirror_mode": {
    "name": "ipython",
    "version": 3
   },
   "file_extension": ".py",
   "mimetype": "text/x-python",
   "name": "python",
   "nbconvert_exporter": "python",
   "pygments_lexer": "ipython3",
   "version": "3.8.5"
  }
 },
 "nbformat": 4,
 "nbformat_minor": 2
}
