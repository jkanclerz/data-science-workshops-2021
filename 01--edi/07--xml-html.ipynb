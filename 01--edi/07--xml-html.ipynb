{
 "cells": [
  {
   "cell_type": "markdown",
   "metadata": {},
   "source": [
    "More complex format\n",
    "===================\n",
    "\n",
    "* xml\n",
    "* html\n",
    "\n",
    "XML\n",
    "===\n",
    "    * data transfer\n",
    "    * nested elements\n",
    "    * document validation\n",
    "    * parsers in most languages\n",
    "    * focus on bussines\n",
    "    * \n",
    "\n",
    "```xml\n",
    "<article>\n",
    "    <info>\n",
    "        <title>Some title</title>\n",
    "        <authors>\n",
    "            <author>\n",
    "                <firstname>Jakub</firstname>\n",
    "                <lastname>Kanclerz</lastname>\n",
    "            </author>\n",
    "        </authors>\n",
    "    </info>\n",
    "    <content>\n",
    "        <section type=\"header\">\n",
    "            <paragraph>\n",
    "                some title\n",
    "            </paragraph>\n",
    "        </section>\n",
    "        <section type=\"main\">\n",
    "            <paragraph>\n",
    "                some content\n",
    "            </paragraph>\n",
    "            <image src=\"image/src.jpeg\"/>\n",
    "        </section>\n",
    "    </content>\n",
    "</article>\n",
    "```\n",
    "\n",
    "Html\n",
    "====\n",
    "\n",
    "```html\n",
    "<li class=\"link\">\n",
    "    <div class=\"article\" data-id=\"4789115\">\n",
    "        <a href=\"#4789115\">\n",
    "            <span>85</span>\n",
    "            <span class=\"button button submit\">wykop</span>\n",
    "        </a>\n",
    "    </div>\n",
    "\n",
    "    <div class=\"media-content m-reset-float \">\n",
    "        <a href=\"https://www.wykop.pl/link/4789115/w-jaki-sposob-facebook-stal-sie-lewicowa-sekta-opowiesc-pracownika-firmy/\">\n",
    "            <img src=\"https://www.wykop.pl/cdn/c3397993/link_MwUxfsmJdpfvuiy0ICl1l0Yw35VeWgBc,w207h139.jpg\" alt=\"W jaki sposób Facebook stał się lewicową sektą? Opowieść pracownika firmy.\">\n",
    "        </a>\n",
    "    </div>\n",
    "    <div class=\"lcontrast m-reset-margin\">\n",
    "        <h2>\n",
    "            <a href=\"https://www.wykop.pl/link/4789115/w-jaki-sposob-facebook-stal-sie-lewicowa-sekta-opowiesc-pracownika-firmy/\"\n",
    "                rel=\"nofollow noopener noreferrer\" title=\"W jaki sposób Facebook stał się lewicową sektą? Opowieść pracownika firmy.\">W\n",
    "                jaki sposób Facebook stał się lewicową sektą? Opowieść pracownika firmy.</a>\n",
    "        </h2>\n",
    "\n",
    "\n",
    "        <div class=\"description\">\n",
    "            <p class=\"text\">\n",
    "                <a href=\"https://www.wykop.pl/link/4789115/w-jaki-sposob-facebook-stal-sie-lewicowa-sekta-opowiesc-pracownika-firmy/\"\n",
    "                    title=\"\">\n",
    "                    Tragiczna relacja pracownika, który przez lata obserwował jak serwis promujący wolność słowa\n",
    "                    zamienił się w ideologiczny rynsztok prześladujący pracowników o zróżnicowanym światopoglądzie.\n",
    "                </a>\n",
    "            </p>\n",
    "        </div>\n",
    "    </div>\n",
    "</li>\n",
    "```"
   ]
  },
  {
   "cell_type": "code",
   "execution_count": 23,
   "metadata": {},
   "outputs": [
    {
     "name": "stdout",
     "output_type": "stream",
     "text": [
      "Requirement already satisfied: bs4 in /Users/jkanclerz/myplace/dydaktyka/przetwarzanie-dokumnetow/data-science-workshops-2021/.venv/lib/python3.8/site-packages (0.0.1)\n",
      "Requirement already satisfied: beautifulsoup4 in /Users/jkanclerz/myplace/dydaktyka/przetwarzanie-dokumnetow/data-science-workshops-2021/.venv/lib/python3.8/site-packages (from bs4) (4.9.3)\n",
      "Requirement already satisfied: soupsieve>1.2; python_version >= \"3.0\" in /Users/jkanclerz/myplace/dydaktyka/przetwarzanie-dokumnetow/data-science-workshops-2021/.venv/lib/python3.8/site-packages (from beautifulsoup4->bs4) (2.0.1)\n",
      "\u001b[33mWARNING: You are using pip version 20.1.1; however, version 20.2.4 is available.\n",
      "You should consider upgrading via the '/Users/jkanclerz/myplace/dydaktyka/przetwarzanie-dokumnetow/data-science-workshops-2021/.venv/bin/python3 -m pip install --upgrade pip' command.\u001b[0m\n"
     ]
    }
   ],
   "source": [
    "!pip install bs4"
   ]
  },
  {
   "cell_type": "code",
   "execution_count": 24,
   "metadata": {},
   "outputs": [],
   "source": [
    "sample_xml = '''\n",
    "<article>\n",
    "    <info>\n",
    "        <title>Some title</title>\n",
    "        <authors>\n",
    "            <author>\n",
    "                <firstname>Jakub</firstname>\n",
    "                <lastname>Kanclerz</lastname>\n",
    "            </author>\n",
    "        </authors>\n",
    "    </info>\n",
    "    <content>\n",
    "        <section type=\"header\">\n",
    "            <paragraph>\n",
    "                some title\n",
    "            </paragraph>\n",
    "        </section>\n",
    "        <section type=\"main\">\n",
    "            <paragraph>\n",
    "                some content\n",
    "            </paragraph>\n",
    "            <image src=\"image/src.jpeg\"/>\n",
    "        </section>\n",
    "    </content>\n",
    "</article>\n",
    "'''"
   ]
  },
  {
   "cell_type": "code",
   "execution_count": 25,
   "metadata": {},
   "outputs": [],
   "source": [
    "import requests\n",
    "from bs4 import BeautifulSoup as bs\n",
    "from itertools import chain"
   ]
  },
  {
   "cell_type": "code",
   "execution_count": 26,
   "metadata": {},
   "outputs": [
    {
     "name": "stdout",
     "output_type": "stream",
     "text": [
      "Requirement already satisfied: lxml in /Users/jkanclerz/myplace/dydaktyka/przetwarzanie-dokumnetow/data-science-workshops-2021/.venv/lib/python3.8/site-packages (4.6.1)\n",
      "\u001b[33mWARNING: You are using pip version 20.1.1; however, version 20.2.4 is available.\n",
      "You should consider upgrading via the '/Users/jkanclerz/myplace/dydaktyka/przetwarzanie-dokumnetow/data-science-workshops-2021/.venv/bin/python3 -m pip install --upgrade pip' command.\u001b[0m\n"
     ]
    }
   ],
   "source": [
    "!pip install lxml"
   ]
  },
  {
   "cell_type": "code",
   "execution_count": 27,
   "metadata": {},
   "outputs": [],
   "source": [
    "loaded = bs(sample_xml)"
   ]
  },
  {
   "cell_type": "code",
   "execution_count": 28,
   "metadata": {},
   "outputs": [],
   "source": [
    "soups = loaded.select('author firstname')"
   ]
  },
  {
   "cell_type": "code",
   "execution_count": 29,
   "metadata": {},
   "outputs": [
    {
     "name": "stdout",
     "output_type": "stream",
     "text": [
      "Jakub\n"
     ]
    }
   ],
   "source": [
    "print(soups[0].text)"
   ]
  },
  {
   "cell_type": "code",
   "execution_count": 30,
   "metadata": {},
   "outputs": [],
   "source": [
    "urls = [\n",
    "    \"https://www.wykop.pl/strona/{}\".format(page)\n",
    "    for page in range(1, 10, 1)\n",
    "]"
   ]
  },
  {
   "cell_type": "code",
   "execution_count": 31,
   "metadata": {},
   "outputs": [],
   "source": [
    "import collections\n",
    "from pprint import pprint as pp\n",
    "\n",
    "Wykop = collections.namedtuple('Wykop', ['count', 'title', 'description', 'tags'])\n",
    "\n",
    "def clear_text(text):\n",
    "    return text.rstrip().replace(\"\\n\", '').replace(\"\\t\", '')\n",
    "\n",
    "def grab_wykop_item_data(element):\n",
    "    try:\n",
    "        tags = map(lambda x: x.text, element.select('.article>div a.tag'))\n",
    "        tags = filter(lambda x: x.startswith('#'), tags)\n",
    "        \n",
    "        return Wykop(\n",
    "            int(element.select('.article>div a>span:first-child')[0].text),\n",
    "            element.select('.article>div h2 a')[0]['title'],\n",
    "            clear_text(element.select('.article>div .description')[0].text),\n",
    "            list(tags))\n",
    "    except Exception as e:\n",
    "        return None"
   ]
  },
  {
   "cell_type": "code",
   "execution_count": 32,
   "metadata": {},
   "outputs": [],
   "source": [
    "pages = (requests.get(url) for url in urls)\n",
    "contents = (page.content for page in pages)\n",
    "soups = (bs(content, 'html.parser') for content in contents)\n",
    "lists_of_items = (soup.select('#itemsStream li.iC') for soup in soups)\n",
    "all_items_together = chain.from_iterable(lists_of_items)\n",
    "extracted = (grab_wykop_item_data(item) for item in all_items_together)\n",
    "valid = (wykop for wykop in extracted if wykop is not None)"
   ]
  },
  {
   "cell_type": "code",
   "execution_count": null,
   "metadata": {},
   "outputs": [],
   "source": []
  },
  {
   "cell_type": "code",
   "execution_count": 33,
   "metadata": {},
   "outputs": [],
   "source": [
    "import itertools\n",
    "first5 = [next(valid) for x in range(4)]"
   ]
  },
  {
   "cell_type": "code",
   "execution_count": 34,
   "metadata": {},
   "outputs": [
    {
     "data": {
      "text/plain": [
       "[Wykop(count=263, title='Polityk PiS lata jeździł bez prawka. Prokuratura nie widziała problemu', description='I po to potrzebne są sądy niezależne od rządu. Prokuratura broniła polityka, gdzie powinna oskarżać.', tags=['#polska', '#sady', '#pis', '#prokuratura', '#polityka']),\n",
       " Wykop(count=179, title='Adam Małysz ma pomysł na sceptyków. \"Powinni dostać przepustkę do szpitala\"', description='- Ja się zetknąłem z opinią, że rząd mi zapłacił za ujawnienie swojego zakażenia. Absurd. Zrobiłem to sam z własnej woli. Przeszedłem tę chorobę. Oczywiście nie tak tragicznie, jak niektórzy, ale ja do dziś tego nie lekceważę - mówi Adam Małysz.', tags=['#polska', '#koronawirus', '#covid19', '#zdrowie', '#sport', '#skoki']),\n",
       " Wykop(count=375, title='Janusze z Allegro nacinają ludzi na chińskie koncentratory tlenu w cenie 2.5x', description='Janusze biznesu żerują na Allegro na zdesperowanych ludziach sprzedając po kilkukrotnie zawyżonej cenie domowe koncentratory tlenu z chin przydatne w przechodzeniu korony.', tags=['#polska', '#koronawirus', '#januszebiznesu']),\n",
       " Wykop(count=2699, title='To nie jest śmieszne. Rządzący nie chcą opublikować ustawy, którą przyjęli.', description='Pośpiech, niedokładność, nocne wrzutki niezwiązane z procedowaną ustawą, wymiany kadrowe pod płaszczykiem walki z COVID-19 – to już codzienność. Rządzący nie chcą nawet opublikować ustawy, którą sami przez pomyłkę przyjęli', tags=['#polska', '#prawo', '#praworzadnosc', '#bekazpisu', '#neuropa', '#bekazprawakow'])]"
      ]
     },
     "execution_count": 34,
     "metadata": {},
     "output_type": "execute_result"
    }
   ],
   "source": [
    "list(first5)"
   ]
  },
  {
   "cell_type": "code",
   "execution_count": 35,
   "metadata": {},
   "outputs": [],
   "source": [
    "tags = (wykop.tags for wykop in first5)"
   ]
  },
  {
   "cell_type": "code",
   "execution_count": 36,
   "metadata": {},
   "outputs": [],
   "source": [
    "all_tags = list(chain.from_iterable(tags))"
   ]
  },
  {
   "cell_type": "code",
   "execution_count": 37,
   "metadata": {},
   "outputs": [],
   "source": [
    "counter = {}\n",
    "\n",
    "for tag in all_tags:\n",
    "    if tag not in counter.keys():\n",
    "        counter[tag] = 1\n",
    "    else:\n",
    "        counter[tag] = counter[tag] + 1"
   ]
  },
  {
   "cell_type": "code",
   "execution_count": 38,
   "metadata": {},
   "outputs": [
    {
     "data": {
      "text/plain": [
       "{'#polska': 4,\n",
       " '#sady': 1,\n",
       " '#pis': 1,\n",
       " '#prokuratura': 1,\n",
       " '#polityka': 1,\n",
       " '#koronawirus': 2,\n",
       " '#covid19': 1,\n",
       " '#zdrowie': 1,\n",
       " '#sport': 1,\n",
       " '#skoki': 1,\n",
       " '#januszebiznesu': 1,\n",
       " '#prawo': 1,\n",
       " '#praworzadnosc': 1,\n",
       " '#bekazpisu': 1,\n",
       " '#neuropa': 1,\n",
       " '#bekazprawakow': 1}"
      ]
     },
     "execution_count": 38,
     "metadata": {},
     "output_type": "execute_result"
    }
   ],
   "source": [
    "counter"
   ]
  },
  {
   "cell_type": "code",
   "execution_count": 39,
   "metadata": {},
   "outputs": [
    {
     "data": {
      "text/plain": [
       "[('#polska', 4),\n",
       " ('#koronawirus', 2),\n",
       " ('#bekazprawakow', 1),\n",
       " ('#neuropa', 1),\n",
       " ('#bekazpisu', 1),\n",
       " ('#praworzadnosc', 1),\n",
       " ('#prawo', 1),\n",
       " ('#januszebiznesu', 1),\n",
       " ('#skoki', 1),\n",
       " ('#sport', 1),\n",
       " ('#zdrowie', 1),\n",
       " ('#covid19', 1),\n",
       " ('#polityka', 1),\n",
       " ('#prokuratura', 1),\n",
       " ('#pis', 1),\n",
       " ('#sady', 1)]"
      ]
     },
     "execution_count": 39,
     "metadata": {},
     "output_type": "execute_result"
    }
   ],
   "source": [
    "import operator\n",
    "list(reversed(sorted(counter.items(), key=lambda item: item[1])))"
   ]
  },
  {
   "cell_type": "code",
   "execution_count": 40,
   "metadata": {},
   "outputs": [
    {
     "data": {
      "text/plain": [
       "[('#polska', 4),\n",
       " ('#koronawirus', 2),\n",
       " ('#sady', 1),\n",
       " ('#pis', 1),\n",
       " ('#prokuratura', 1),\n",
       " ('#polityka', 1),\n",
       " ('#covid19', 1),\n",
       " ('#zdrowie', 1),\n",
       " ('#sport', 1),\n",
       " ('#skoki', 1),\n",
       " ('#januszebiznesu', 1),\n",
       " ('#prawo', 1),\n",
       " ('#praworzadnosc', 1),\n",
       " ('#bekazpisu', 1),\n",
       " ('#neuropa', 1),\n",
       " ('#bekazprawakow', 1)]"
      ]
     },
     "execution_count": 40,
     "metadata": {},
     "output_type": "execute_result"
    }
   ],
   "source": [
    "from collections import Counter\n",
    "c = Counter(all_tags)\n",
    "c.most_common()"
   ]
  },
  {
   "cell_type": "markdown",
   "metadata": {},
   "source": [
    "persistance\n",
    "-------------"
   ]
  },
  {
   "cell_type": "code",
   "execution_count": 41,
   "metadata": {},
   "outputs": [],
   "source": [
    "import csv\n",
    "with open('wykop.csv', 'w') as destination_file:\n",
    "    writer = csv.writer(destination_file, delimiter=';', quotechar='\"')\n",
    "    for row in first5:\n",
    "        writer.writerow(row)"
   ]
  },
  {
   "cell_type": "code",
   "execution_count": 42,
   "metadata": {},
   "outputs": [],
   "source": [
    "import json\n",
    "with open('wykop.data', 'w') as destination_file:\n",
    "    for row in first5:\n",
    "        destination_file.write(json.dumps(row._asdict()) + \"\\n\")"
   ]
  },
  {
   "cell_type": "code",
   "execution_count": null,
   "metadata": {},
   "outputs": [],
   "source": []
  },
  {
   "cell_type": "code",
   "execution_count": null,
   "metadata": {},
   "outputs": [],
   "source": []
  }
 ],
 "metadata": {
  "kernelspec": {
   "display_name": "Python 3",
   "language": "python",
   "name": "python3"
  },
  "language_info": {
   "codemirror_mode": {
    "name": "ipython",
    "version": 3
   },
   "file_extension": ".py",
   "mimetype": "text/x-python",
   "name": "python",
   "nbconvert_exporter": "python",
   "pygments_lexer": "ipython3",
   "version": "3.8.5"
  }
 },
 "nbformat": 4,
 "nbformat_minor": 2
}
