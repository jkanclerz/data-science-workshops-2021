{
 "cells": [
  {
   "cell_type": "markdown",
   "metadata": {},
   "source": [
    "CSV\n",
    "===\n",
    "- excel\n",
    "- google spreadsheet\n",
    "- open office\n",
    "\n",
    "1. jak wyglada\n",
    "2. jak się otwiera\n",
    "\n",
    "CSV\n",
    "\n",
    "- kazda linia jest atomowa\n",
    "- pola sa oddzielone separatore\n",
    "- tylko dane, zadnych smieci protokołów, instrukcji, bloków (!;\\t,)\n",
    "- nie potrzebuje zadnego edytora\n",
    "- nie potrzebuje excela\n",
    "\n"
   ]
  },
  {
   "cell_type": "code",
   "execution_count": null,
   "metadata": {},
   "outputs": [],
   "source": [
    "!wget https://s3.eu-central-1.amazonaws.com/jkan.pl/data-science/uek/otomoto.csv"
   ]
  },
  {
   "cell_type": "code",
   "execution_count": null,
   "metadata": {},
   "outputs": [],
   "source": [
    "import os\n",
    "from time import time\n",
    "\n",
    "def parse_csv_file(datafile):\n",
    "    data = []\n",
    "    with open(datafile) as f:\n",
    "        for line in f:\n",
    "            data.append(line)\n",
    "    return data\n",
    "\n",
    "start = time()\n",
    "data = parse_csv_file('otomoto.csv')\n",
    "end = time()\n",
    "\n",
    "time_taken = end - start\n",
    "\n",
    "print(\"it tooks {} secconds\", time_taken)\n",
    "data[0].split(';')"
   ]
  },
  {
   "cell_type": "code",
   "execution_count": null,
   "metadata": {},
   "outputs": [],
   "source": [
    "import os\n",
    "import pprint\n",
    "import csv\n",
    "\n",
    "def parse_csv(datafile):\n",
    "    data = []\n",
    "    with open(datafile, 'r') as f:\n",
    "        r = csv.DictReader(f, delimiter=\";\")\n",
    "        for line in r:\n",
    "            data.append(line)\n",
    "    return data\n",
    "\n",
    "data = parse_csv('otomoto.csv')\n",
    "pprint.pprint(data[1])"
   ]
  },
  {
   "cell_type": "markdown",
   "metadata": {},
   "source": [
    "Najpopularniejsza marka?"
   ]
  },
  {
   "cell_type": "code",
   "execution_count": null,
   "metadata": {},
   "outputs": [],
   "source": [
    "from collections import Counter"
   ]
  },
  {
   "cell_type": "code",
   "execution_count": null,
   "metadata": {},
   "outputs": [],
   "source": [
    "type(data[0])"
   ]
  },
  {
   "cell_type": "code",
   "execution_count": null,
   "metadata": {},
   "outputs": [],
   "source": [
    "brands = (row.get('Marka pojazdu') for row in data)"
   ]
  },
  {
   "cell_type": "code",
   "execution_count": null,
   "metadata": {},
   "outputs": [],
   "source": [
    "cnt = Counter(brands)\n",
    "cnt.most_common(10)"
   ]
  },
  {
   "cell_type": "code",
   "execution_count": null,
   "metadata": {},
   "outputs": [],
   "source": [
    "pip install pandas matplotlib"
   ]
  },
  {
   "cell_type": "code",
   "execution_count": null,
   "metadata": {},
   "outputs": [],
   "source": [
    "import pandas as pd"
   ]
  },
  {
   "cell_type": "code",
   "execution_count": null,
   "metadata": {},
   "outputs": [],
   "source": [
    "X = pd.read_csv('otomoto.csv', delimiter=\";\")"
   ]
  },
  {
   "cell_type": "code",
   "execution_count": null,
   "metadata": {},
   "outputs": [],
   "source": [
    "X"
   ]
  },
  {
   "cell_type": "code",
   "execution_count": null,
   "metadata": {},
   "outputs": [],
   "source": [
    "X.describe()"
   ]
  },
  {
   "cell_type": "code",
   "execution_count": null,
   "metadata": {},
   "outputs": [],
   "source": [
    "X.count()"
   ]
  },
  {
   "cell_type": "code",
   "execution_count": null,
   "metadata": {},
   "outputs": [],
   "source": [
    "by_brand = X.groupby(['Marka pojazdu']).count()"
   ]
  },
  {
   "cell_type": "code",
   "execution_count": null,
   "metadata": {},
   "outputs": [],
   "source": []
  },
  {
   "cell_type": "code",
   "execution_count": null,
   "metadata": {},
   "outputs": [],
   "source": [
    "by_brand = X[['id', 'Marka pojazdu']].groupby(['Marka pojazdu']).agg('count').rename(columns={'id': 'adv_count'})"
   ]
  },
  {
   "cell_type": "code",
   "execution_count": null,
   "metadata": {},
   "outputs": [],
   "source": [
    "by_brand.sort_values(by='adv_count', ascending=False)[:20].plot.bar()"
   ]
  },
  {
   "cell_type": "code",
   "execution_count": null,
   "metadata": {},
   "outputs": [],
   "source": []
  }
 ],
 "metadata": {
  "kernelspec": {
   "display_name": "Python 3",
   "language": "python",
   "name": "python3"
  },
  "language_info": {
   "codemirror_mode": {
    "name": "ipython",
    "version": 3
   },
   "file_extension": ".py",
   "mimetype": "text/x-python",
   "name": "python",
   "nbconvert_exporter": "python",
   "pygments_lexer": "ipython3",
   "version": "3.8.5"
  }
 },
 "nbformat": 4,
 "nbformat_minor": 2
}
