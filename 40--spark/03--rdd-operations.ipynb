{
 "cells": [
  {
   "cell_type": "code",
   "execution_count": 1,
   "metadata": {},
   "outputs": [
    {
     "name": "stdout",
     "output_type": "stream",
     "text": [
      "Requirement already satisfied: pyspark in /usr/lib/python3.7/site-packages (2.4.5)\n",
      "Requirement already satisfied: py4j==0.10.7 in /usr/lib/python3.7/site-packages (from pyspark) (0.10.7)\n",
      "\u001b[33mWARNING: You are using pip version 19.2.3, however version 20.0.2 is available.\n",
      "You should consider upgrading via the 'pip install --upgrade pip' command.\u001b[0m\n"
     ]
    }
   ],
   "source": [
    "!pip3 install pyspark"
   ]
  },
  {
   "cell_type": "code",
   "execution_count": 2,
   "metadata": {},
   "outputs": [],
   "source": [
    "from pyspark import SparkContext"
   ]
  },
  {
   "cell_type": "code",
   "execution_count": 3,
   "metadata": {},
   "outputs": [],
   "source": [
    "from pyspark import SparkConf, SparkContext\n",
    "from pyspark.sql import SparkSession\n",
    "import os\n",
    "\n",
    "spark = SparkSession.builder \\\n",
    "    .master(\"local\") \\\n",
    "    .appName(\"Test it 2\") \\\n",
    "    .getOrCreate()\n",
    "sc = spark.sparkContext\n"
   ]
  },
  {
   "cell_type": "code",
   "execution_count": 4,
   "metadata": {},
   "outputs": [
    {
     "data": {
      "text/html": [
       "\n",
       "            <div>\n",
       "                <p><b>SparkSession - in-memory</b></p>\n",
       "                \n",
       "        <div>\n",
       "            <p><b>SparkContext</b></p>\n",
       "\n",
       "            <p><a href=\"http://10.0.2.15:4040\">Spark UI</a></p>\n",
       "\n",
       "            <dl>\n",
       "              <dt>Version</dt>\n",
       "                <dd><code>v2.4.5</code></dd>\n",
       "              <dt>Master</dt>\n",
       "                <dd><code>local</code></dd>\n",
       "              <dt>AppName</dt>\n",
       "                <dd><code>Test it 2</code></dd>\n",
       "            </dl>\n",
       "        </div>\n",
       "        \n",
       "            </div>\n",
       "        "
      ],
      "text/plain": [
       "<pyspark.sql.session.SparkSession at 0x7f12a6887a90>"
      ]
     },
     "execution_count": 4,
     "metadata": {},
     "output_type": "execute_result"
    }
   ],
   "source": [
    "spark"
   ]
  },
  {
   "cell_type": "markdown",
   "metadata": {},
   "source": [
    "### The filter transformation"
   ]
  },
  {
   "cell_type": "code",
   "execution_count": 5,
   "metadata": {},
   "outputs": [],
   "source": [
    "raw_data = sc.textFile(\"konstytucja.txt\")"
   ]
  },
  {
   "cell_type": "code",
   "execution_count": 6,
   "metadata": {},
   "outputs": [
    {
     "data": {
      "text/plain": [
       "808"
      ]
     },
     "execution_count": 6,
     "metadata": {},
     "output_type": "execute_result"
    }
   ],
   "source": [
    "raw_data.count()"
   ]
  },
  {
   "cell_type": "code",
   "execution_count": 7,
   "metadata": {},
   "outputs": [],
   "source": [
    "sentences = raw_data.filter(lambda x: \"\" != x)"
   ]
  },
  {
   "cell_type": "code",
   "execution_count": 8,
   "metadata": {},
   "outputs": [
    {
     "data": {
      "text/plain": [
       "236"
      ]
     },
     "execution_count": 8,
     "metadata": {},
     "output_type": "execute_result"
    }
   ],
   "source": [
    "sentences.count()"
   ]
  },
  {
   "cell_type": "markdown",
   "metadata": {},
   "source": [
    "### Map transformation"
   ]
  },
  {
   "cell_type": "code",
   "execution_count": 10,
   "metadata": {},
   "outputs": [],
   "source": [
    "words_batch = sentences.map(lambda x: x.split(\" \"))"
   ]
  },
  {
   "cell_type": "code",
   "execution_count": 11,
   "metadata": {},
   "outputs": [
    {
     "data": {
      "text/plain": [
       "[['Konstytucja', 'Rzeczypospolitej', 'Polskiej/Rozdział', '1'],\n",
       " ['Pobrano', 'z', 'Wikiźródeł', 'dnia', '02/14/20'],\n",
       " ['Konstytucja', 'Rzeczypospolitej', 'Polskiej'],\n",
       " ['Rozdział', '1'],\n",
       " ['Konstytucja', 'Rzeczypospolitej', 'Polskiej'],\n",
       " ['Rozdział',\n",
       "  '1',\n",
       "  'Rzeczpospolita',\n",
       "  '—',\n",
       "  'Rozdział',\n",
       "  '2',\n",
       "  'Wolności,',\n",
       "  'prawa',\n",
       "  'i',\n",
       "  'obowiązki',\n",
       "  'człowieka',\n",
       "  'i',\n",
       "  'obywatela,',\n",
       "  'zasady',\n",
       "  'ogólne',\n",
       "  'wolności,',\n",
       "  'prawa',\n",
       "  'osobiste,',\n",
       "  'wolności',\n",
       "  'i',\n",
       "  'prawa',\n",
       "  'polityczne,',\n",
       "  'wolności',\n",
       "  'i',\n",
       "  'prawa',\n",
       "  'ekonomiczne,',\n",
       "  'socjalne',\n",
       "  'i',\n",
       "  'kulturalne,',\n",
       "  'środki',\n",
       "  'ochrony',\n",
       "  'wolności',\n",
       "  'i',\n",
       "  'praw,',\n",
       "  'obowiązki',\n",
       "  '—',\n",
       "  'Rozdział',\n",
       "  '3',\n",
       "  'Źródła',\n",
       "  'prawa',\n",
       "  '—',\n",
       "  'Rozdział',\n",
       "  '4',\n",
       "  'Sejm',\n",
       "  'i',\n",
       "  'Senat,',\n",
       "  'wybory',\n",
       "  'i',\n",
       "  'kadencja,',\n",
       "  'posłowie',\n",
       "  'i',\n",
       "  'senatorowie,',\n",
       "  'organizacja',\n",
       "  'i',\n",
       "  'działanie,',\n",
       "  'referendum',\n",
       "  '—',\n",
       "  'Rozdział',\n",
       "  '5',\n",
       "  'Prezydent',\n",
       "  'Rzeczypospolitej',\n",
       "  'Polskiej',\n",
       "  '—',\n",
       "  'Rozdział',\n",
       "  '6',\n",
       "  'Rada',\n",
       "  'Ministrów',\n",
       "  'i',\n",
       "  'administracja',\n",
       "  'rządowa',\n",
       "  '—',\n",
       "  'Rozdział',\n",
       "  '7',\n",
       "  'Samorząd',\n",
       "  'terytorialny',\n",
       "  '—',\n",
       "  'Rozdział',\n",
       "  '8',\n",
       "  'Sądy',\n",
       "  'i',\n",
       "  'Trybunały,',\n",
       "  'Trybunał',\n",
       "  'Konstytucyjny,',\n",
       "  'Trybunał',\n",
       "  'Stanu',\n",
       "  '—',\n",
       "  'Rozdział',\n",
       "  '9',\n",
       "  'Organy',\n",
       "  'kontroli',\n",
       "  'państwowej',\n",
       "  'i',\n",
       "  'ochrony',\n",
       "  'prawa,',\n",
       "  'Najwyższa',\n",
       "  'Izba',\n",
       "  'Kontroli,',\n",
       "  'Rzecznik',\n",
       "  'Praw',\n",
       "  'Obywatelskich,',\n",
       "  'Krajowa',\n",
       "  'Rada',\n",
       "  'Radiofonii',\n",
       "  'i',\n",
       "  'Telewizji',\n",
       "  '—',\n",
       "  'Rozdział',\n",
       "  '10',\n",
       "  'Finanse',\n",
       "  'publiczne',\n",
       "  '—',\n",
       "  'Rozdział',\n",
       "  '11',\n",
       "  'Stany',\n",
       "  'nadzwyczajne',\n",
       "  '—',\n",
       "  'Rozdział',\n",
       "  '12',\n",
       "  'Zmiana',\n",
       "  'Konstytucji',\n",
       "  '—',\n",
       "  'Rozdział',\n",
       "  '13',\n",
       "  'Przepisy',\n",
       "  'przejściowe',\n",
       "  'i',\n",
       "  'końcowe'],\n",
       " ['Rozdział', 'I'],\n",
       " ['Rzeczpospolita'],\n",
       " ['Art.', '1.'],\n",
       " ['Rzeczpospolita',\n",
       "  'Polska',\n",
       "  'jest',\n",
       "  'dobrem',\n",
       "  'wspólnym',\n",
       "  'wszystkich',\n",
       "  'obywateli.']]"
      ]
     },
     "execution_count": 11,
     "metadata": {},
     "output_type": "execute_result"
    }
   ],
   "source": [
    "words_batch.take(10)"
   ]
  },
  {
   "cell_type": "markdown",
   "metadata": {},
   "source": [
    "### flatMap transformation"
   ]
  },
  {
   "cell_type": "code",
   "execution_count": 14,
   "metadata": {},
   "outputs": [],
   "source": [
    "words = sentences.flatMap(lambda x: x.split(\" \"))\n",
    "words = words.map(lambda x: x.lower())"
   ]
  },
  {
   "cell_type": "code",
   "execution_count": 15,
   "metadata": {},
   "outputs": [],
   "source": [
    "words_occurence = words.map(lambda word: (word, 1))"
   ]
  },
  {
   "cell_type": "code",
   "execution_count": 16,
   "metadata": {},
   "outputs": [],
   "source": [
    "wordCounts = words_occurence.reduceByKey(lambda a,b: a + b)"
   ]
  },
  {
   "cell_type": "code",
   "execution_count": 17,
   "metadata": {},
   "outputs": [
    {
     "data": {
      "text/plain": [
       "[(174, 'i'), (151, 'w'), (92, 'art.'), (75, 'rozdział'), (60, '—')]"
      ]
     },
     "execution_count": 17,
     "metadata": {},
     "output_type": "execute_result"
    }
   ],
   "source": [
    "wordCounts.map(lambda x: (x[1], x[0])) \\\n",
    "    .sortByKey(ascending=False) \\\n",
    "    .take(5)"
   ]
  },
  {
   "cell_type": "code",
   "execution_count": null,
   "metadata": {},
   "outputs": [],
   "source": []
  },
  {
   "cell_type": "code",
   "execution_count": 18,
   "metadata": {},
   "outputs": [
    {
     "name": "stdout",
     "output_type": "stream",
     "text": [
      "--2020-02-14 18:34:02--  https://raw.githubusercontent.com/bieli/stopwords/master/polish.stopwords.txt\n",
      "Resolving raw.githubusercontent.com... 151.101.0.133, 151.101.64.133, 151.101.128.133, ...\n",
      "Connecting to raw.githubusercontent.com|151.101.0.133|:443... connected.\n",
      "HTTP request sent, awaiting response... 200 OK\n",
      "Length: 2016 (2.0K) [text/plain]\n",
      "Saving to: 'polish.stopwords.txt'\n",
      "\n",
      "polish.stopwords.tx 100%[===================>]   1.97K  --.-KB/s    in 0s      \n",
      "\n",
      "2020-02-14 18:34:03 (26.2 MB/s) - 'polish.stopwords.txt' saved [2016/2016]\n",
      "\n"
     ]
    }
   ],
   "source": [
    "!wget https://raw.githubusercontent.com/bieli/stopwords/master/polish.stopwords.txt"
   ]
  },
  {
   "cell_type": "code",
   "execution_count": 19,
   "metadata": {},
   "outputs": [],
   "source": [
    "stop_words = sc.textFile(\"polish.stopwords.txt\").collect()"
   ]
  },
  {
   "cell_type": "code",
   "execution_count": 20,
   "metadata": {},
   "outputs": [
    {
     "data": {
      "text/plain": [
       "['a',\n",
       " 'aby',\n",
       " 'ach',\n",
       " 'acz',\n",
       " 'aczkolwiek',\n",
       " 'aj',\n",
       " 'albo',\n",
       " 'ale',\n",
       " 'alez',\n",
       " 'ależ',\n",
       " 'ani',\n",
       " 'az',\n",
       " 'aż',\n",
       " 'bardziej',\n",
       " 'bardzo',\n",
       " 'beda',\n",
       " 'bedzie',\n",
       " 'bez',\n",
       " 'deda',\n",
       " 'będą',\n",
       " 'bede',\n",
       " 'będę',\n",
       " 'będzie',\n",
       " 'bo',\n",
       " 'bowiem',\n",
       " 'by',\n",
       " 'byc',\n",
       " 'być',\n",
       " 'byl',\n",
       " 'byla',\n",
       " 'byli',\n",
       " 'bylo',\n",
       " 'byly',\n",
       " 'był',\n",
       " 'była',\n",
       " 'było',\n",
       " 'były',\n",
       " 'bynajmniej',\n",
       " 'cala',\n",
       " 'cali',\n",
       " 'caly',\n",
       " 'cała',\n",
       " 'cały',\n",
       " 'ci',\n",
       " 'cie',\n",
       " 'ciebie',\n",
       " 'cię',\n",
       " 'co',\n",
       " 'cokolwiek',\n",
       " 'cos',\n",
       " 'coś',\n",
       " 'czasami',\n",
       " 'czasem',\n",
       " 'czemu',\n",
       " 'czy',\n",
       " 'czyli',\n",
       " 'daleko',\n",
       " 'dla',\n",
       " 'dlaczego',\n",
       " 'dlatego',\n",
       " 'do',\n",
       " 'dobrze',\n",
       " 'dokad',\n",
       " 'dokąd',\n",
       " 'dosc',\n",
       " 'dość',\n",
       " 'duzo',\n",
       " 'dużo',\n",
       " 'dwa',\n",
       " 'dwaj',\n",
       " 'dwie',\n",
       " 'dwoje',\n",
       " 'dzis',\n",
       " 'dzisiaj',\n",
       " 'dziś',\n",
       " 'gdy',\n",
       " 'gdyby',\n",
       " 'gdyz',\n",
       " 'gdyż',\n",
       " 'gdzie',\n",
       " 'gdziekolwiek',\n",
       " 'gdzies',\n",
       " 'gdzieś',\n",
       " 'go',\n",
       " 'i',\n",
       " 'ich',\n",
       " 'ile',\n",
       " 'im',\n",
       " 'inna',\n",
       " 'inne',\n",
       " 'inny',\n",
       " 'innych',\n",
       " 'iz',\n",
       " 'iż',\n",
       " 'ja',\n",
       " 'jak',\n",
       " 'jakas',\n",
       " 'jakaś',\n",
       " 'jakby',\n",
       " 'jaki',\n",
       " 'jakichs',\n",
       " 'jakichś',\n",
       " 'jakie',\n",
       " 'jakis',\n",
       " 'jakiś',\n",
       " 'jakiz',\n",
       " 'jakiż',\n",
       " 'jakkolwiek',\n",
       " 'jako',\n",
       " 'jakos',\n",
       " 'jakoś',\n",
       " 'ją',\n",
       " 'je',\n",
       " 'jeden',\n",
       " 'jedna',\n",
       " 'jednak',\n",
       " 'jednakze',\n",
       " 'jednakże',\n",
       " 'jedno',\n",
       " 'jego',\n",
       " 'jej',\n",
       " 'jemu',\n",
       " 'jesli',\n",
       " 'jest',\n",
       " 'jestem',\n",
       " 'jeszcze',\n",
       " 'jeśli',\n",
       " 'jezeli',\n",
       " 'jeżeli',\n",
       " 'juz',\n",
       " 'już',\n",
       " 'kazdy',\n",
       " 'każdy',\n",
       " 'kiedy',\n",
       " 'kilka',\n",
       " 'kims',\n",
       " 'kimś',\n",
       " 'kto',\n",
       " 'ktokolwiek',\n",
       " 'ktora',\n",
       " 'ktore',\n",
       " 'ktorego',\n",
       " 'ktorej',\n",
       " 'ktory',\n",
       " 'ktorych',\n",
       " 'ktorym',\n",
       " 'ktorzy',\n",
       " 'ktos',\n",
       " 'ktoś',\n",
       " 'która',\n",
       " 'które',\n",
       " 'którego',\n",
       " 'której',\n",
       " 'który',\n",
       " 'których',\n",
       " 'którym',\n",
       " 'którzy',\n",
       " 'ku',\n",
       " 'lat',\n",
       " 'lecz',\n",
       " 'lub',\n",
       " 'ma',\n",
       " 'mają',\n",
       " 'mało',\n",
       " 'mam',\n",
       " 'mi',\n",
       " 'miedzy',\n",
       " 'między',\n",
       " 'mimo',\n",
       " 'mna',\n",
       " 'mną',\n",
       " 'mnie',\n",
       " 'moga',\n",
       " 'mogą',\n",
       " 'moi',\n",
       " 'moim',\n",
       " 'moj',\n",
       " 'moja',\n",
       " 'moje',\n",
       " 'moze',\n",
       " 'mozliwe',\n",
       " 'mozna',\n",
       " 'może',\n",
       " 'możliwe',\n",
       " 'można',\n",
       " 'mój',\n",
       " 'mu',\n",
       " 'musi',\n",
       " 'my',\n",
       " 'na',\n",
       " 'nad',\n",
       " 'nam',\n",
       " 'nami',\n",
       " 'nas',\n",
       " 'nasi',\n",
       " 'nasz',\n",
       " 'nasza',\n",
       " 'nasze',\n",
       " 'naszego',\n",
       " 'naszych',\n",
       " 'natomiast',\n",
       " 'natychmiast',\n",
       " 'nawet',\n",
       " 'nia',\n",
       " 'nią',\n",
       " 'nic',\n",
       " 'nich',\n",
       " 'nie',\n",
       " 'niech',\n",
       " 'niego',\n",
       " 'niej',\n",
       " 'niemu',\n",
       " 'nigdy',\n",
       " 'nim',\n",
       " 'nimi',\n",
       " 'niz',\n",
       " 'niż',\n",
       " 'no',\n",
       " 'o',\n",
       " 'obok',\n",
       " 'od',\n",
       " 'około',\n",
       " 'on',\n",
       " 'ona',\n",
       " 'one',\n",
       " 'oni',\n",
       " 'ono',\n",
       " 'oraz',\n",
       " 'oto',\n",
       " 'owszem',\n",
       " 'pan',\n",
       " 'pana',\n",
       " 'pani',\n",
       " 'po',\n",
       " 'pod',\n",
       " 'podczas',\n",
       " 'pomimo',\n",
       " 'ponad',\n",
       " 'poniewaz',\n",
       " 'ponieważ',\n",
       " 'powinien',\n",
       " 'powinna',\n",
       " 'powinni',\n",
       " 'powinno',\n",
       " 'poza',\n",
       " 'prawie',\n",
       " 'przeciez',\n",
       " 'przecież',\n",
       " 'przed',\n",
       " 'przede',\n",
       " 'przedtem',\n",
       " 'przez',\n",
       " 'przy',\n",
       " 'roku',\n",
       " 'rowniez',\n",
       " 'również',\n",
       " 'sam',\n",
       " 'sama',\n",
       " 'są',\n",
       " 'sie',\n",
       " 'się',\n",
       " 'skad',\n",
       " 'skąd',\n",
       " 'soba',\n",
       " 'sobą',\n",
       " 'sobie',\n",
       " 'sposob',\n",
       " 'sposób',\n",
       " 'swoje',\n",
       " 'ta',\n",
       " 'tak',\n",
       " 'taka',\n",
       " 'taki',\n",
       " 'takie',\n",
       " 'takze',\n",
       " 'także',\n",
       " 'tam',\n",
       " 'te',\n",
       " 'tego',\n",
       " 'tej',\n",
       " 'ten',\n",
       " 'teraz',\n",
       " 'też',\n",
       " 'to',\n",
       " 'toba',\n",
       " 'tobą',\n",
       " 'tobie',\n",
       " 'totez',\n",
       " 'toteż',\n",
       " 'totobą',\n",
       " 'trzeba',\n",
       " 'tu',\n",
       " 'tutaj',\n",
       " 'twoi',\n",
       " 'twoim',\n",
       " 'twoj',\n",
       " 'twoja',\n",
       " 'twoje',\n",
       " 'twój',\n",
       " 'twym',\n",
       " 'ty',\n",
       " 'tych',\n",
       " 'tylko',\n",
       " 'tym',\n",
       " 'u',\n",
       " 'w',\n",
       " 'wam',\n",
       " 'wami',\n",
       " 'was',\n",
       " 'wasz',\n",
       " 'wasza',\n",
       " 'wasze',\n",
       " 'we',\n",
       " 'według',\n",
       " 'wiele',\n",
       " 'wielu',\n",
       " 'więc',\n",
       " 'więcej',\n",
       " 'wlasnie',\n",
       " 'właśnie',\n",
       " 'wszyscy',\n",
       " 'wszystkich',\n",
       " 'wszystkie',\n",
       " 'wszystkim',\n",
       " 'wszystko',\n",
       " 'wtedy',\n",
       " 'wy',\n",
       " 'z',\n",
       " 'za',\n",
       " 'zaden',\n",
       " 'zadna',\n",
       " 'zadne',\n",
       " 'zadnych',\n",
       " 'zapewne',\n",
       " 'zawsze',\n",
       " 'ze',\n",
       " 'zeby',\n",
       " 'zeznowu',\n",
       " 'zł',\n",
       " 'znow',\n",
       " 'znowu',\n",
       " 'znów',\n",
       " 'zostal',\n",
       " 'został',\n",
       " 'żaden',\n",
       " 'żadna',\n",
       " 'żadne',\n",
       " 'żadnych',\n",
       " 'że',\n",
       " 'żeby']"
      ]
     },
     "execution_count": 20,
     "metadata": {},
     "output_type": "execute_result"
    }
   ],
   "source": [
    "stop_words"
   ]
  },
  {
   "cell_type": "code",
   "execution_count": 49,
   "metadata": {},
   "outputs": [],
   "source": [
    "counter = wordCounts.map(lambda x: (x[1], x[0])) \\\n",
    "    .filter(lambda x: x[1] not in stop_words) \\\n",
    "    .sortByKey(ascending=False)"
   ]
  },
  {
   "cell_type": "markdown",
   "metadata": {},
   "source": [
    "#### Creating a RDD from a file\n",
    "The most common way of creating an RDD is to load it from a file. Notice that Spark's textFile can handle compressed files directly."
   ]
  },
  {
   "cell_type": "code",
   "execution_count": 50,
   "metadata": {},
   "outputs": [
    {
     "data": {
      "text/plain": [
       "[(92, 'art.'),\n",
       " (75, 'rozdział'),\n",
       " (60, '—'),\n",
       " (50, 'rzeczypospolitej'),\n",
       " (33, 'prawa'),\n",
       " (33, 'ustawy'),\n",
       " (31, 'polskiej'),\n",
       " (30, 'konstytucji'),\n",
       " (27, 'wolności'),\n",
       " (25, 'życie'),\n",
       " (24, 'dnia'),\n",
       " (23, 'rada'),\n",
       " (23, 'ministrów'),\n",
       " (19, 'wejścia'),\n",
       " (18, 'rzeczpospolita')]"
      ]
     },
     "execution_count": 50,
     "metadata": {},
     "output_type": "execute_result"
    }
   ],
   "source": [
    "counter.take(15)"
   ]
  },
  {
   "cell_type": "markdown",
   "metadata": {},
   "source": [
    "### The collect action\n",
    "\n",
    "Basically it will get all the elements in the RDD into memory for us to work with them. For this reason it has to be used with care, specially when working with large RDDs."
   ]
  },
  {
   "cell_type": "code",
   "execution_count": 51,
   "metadata": {},
   "outputs": [],
   "source": [
    "counted_words = counter.collect()"
   ]
  },
  {
   "cell_type": "code",
   "execution_count": 53,
   "metadata": {},
   "outputs": [
    {
     "data": {
      "text/plain": [
       "[(92, 'art.'),\n",
       " (75, 'rozdział'),\n",
       " (60, '—'),\n",
       " (50, 'rzeczypospolitej'),\n",
       " (33, 'prawa'),\n",
       " (33, 'ustawy'),\n",
       " (31, 'polskiej'),\n",
       " (30, 'konstytucji'),\n",
       " (27, 'wolności'),\n",
       " (25, 'życie'),\n",
       " (24, 'dnia'),\n",
       " (23, 'rada'),\n",
       " (23, 'ministrów'),\n",
       " (19, 'wejścia'),\n",
       " (18, 'rzeczpospolita'),\n",
       " (18, 'sejm'),\n",
       " (16, 'ust.'),\n",
       " (15, 'konstytucja'),\n",
       " (15, '1'),\n",
       " (14, 'prezydent')]"
      ]
     },
     "execution_count": 53,
     "metadata": {},
     "output_type": "execute_result"
    }
   ],
   "source": [
    "counted_words[:20]"
   ]
  }
 ],
 "metadata": {
  "kernelspec": {
   "display_name": "Python 3",
   "language": "python",
   "name": "python3"
  },
  "language_info": {
   "codemirror_mode": {
    "name": "ipython",
    "version": 3
   },
   "file_extension": ".py",
   "mimetype": "text/x-python",
   "name": "python",
   "nbconvert_exporter": "python",
   "pygments_lexer": "ipython3",
   "version": "3.7.5"
  }
 },
 "nbformat": 4,
 "nbformat_minor": 4
}
