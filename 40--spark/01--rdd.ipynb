{
 "cells": [
  {
   "cell_type": "code",
   "execution_count": 1,
   "metadata": {},
   "outputs": [
    {
     "name": "stdout",
     "output_type": "stream",
     "text": [
      "Requirement already satisfied: pyspark in /usr/lib/python3.7/site-packages (2.4.5)\n",
      "Requirement already satisfied: py4j==0.10.7 in /usr/lib/python3.7/site-packages (from pyspark) (0.10.7)\n",
      "\u001b[33mWARNING: You are using pip version 19.2.3, however version 20.0.2 is available.\n",
      "You should consider upgrading via the 'pip install --upgrade pip' command.\u001b[0m\n"
     ]
    }
   ],
   "source": [
    "!pip3 install pyspark"
   ]
  },
  {
   "cell_type": "code",
   "execution_count": 2,
   "metadata": {},
   "outputs": [],
   "source": [
    "from pyspark import SparkContext"
   ]
  },
  {
   "cell_type": "code",
   "execution_count": 3,
   "metadata": {},
   "outputs": [],
   "source": [
    "from pyspark import SparkConf, SparkContext\n",
    "from pyspark.sql import SparkSession\n",
    "import os\n",
    "\n",
    "spark = SparkSession.builder \\\n",
    "    .master(\"local\") \\\n",
    "    .appName(\"Test it 2\") \\\n",
    "    .getOrCreate()\n",
    "sc = spark.sparkContext\n"
   ]
  },
  {
   "cell_type": "code",
   "execution_count": 4,
   "metadata": {},
   "outputs": [
    {
     "data": {
      "text/html": [
       "\n",
       "            <div>\n",
       "                <p><b>SparkSession - in-memory</b></p>\n",
       "                \n",
       "        <div>\n",
       "            <p><b>SparkContext</b></p>\n",
       "\n",
       "            <p><a href=\"http://10.0.2.15:4040\">Spark UI</a></p>\n",
       "\n",
       "            <dl>\n",
       "              <dt>Version</dt>\n",
       "                <dd><code>v2.4.5</code></dd>\n",
       "              <dt>Master</dt>\n",
       "                <dd><code>local</code></dd>\n",
       "              <dt>AppName</dt>\n",
       "                <dd><code>Test it 2</code></dd>\n",
       "            </dl>\n",
       "        </div>\n",
       "        \n",
       "            </div>\n",
       "        "
      ],
      "text/plain": [
       "<pyspark.sql.session.SparkSession at 0x7ff1a9692ad0>"
      ]
     },
     "execution_count": 4,
     "metadata": {},
     "output_type": "execute_result"
    }
   ],
   "source": [
    "spark"
   ]
  },
  {
   "cell_type": "markdown",
   "metadata": {},
   "source": [
    "### Resilient Distributed Dataset or RDD\n",
    "\n",
    "An RDD is a distributed collection of elements. All work in Spark is expressed as either creating new RDDs, transforming existing RDDs, or calling actions on RDDs to compute a result. Spark automatically distributes the data contained in RDDs across your cluster and parallelizes the operations you perform on them."
   ]
  },
  {
   "cell_type": "code",
   "execution_count": 1,
   "metadata": {},
   "outputs": [
    {
     "name": "stdout",
     "output_type": "stream",
     "text": [
      "--2020-02-14 18:38:14--  https://s3.eu-central-1.amazonaws.com/jkan.pl/data-science/uek/otomoto.csv\n",
      "Resolving s3.eu-central-1.amazonaws.com... 52.219.73.88\n",
      "Connecting to s3.eu-central-1.amazonaws.com|52.219.73.88|:443... connected.\n",
      "HTTP request sent, awaiting response... 200 OK\n",
      "Length: 20920699 (20M) [text/csv]\n",
      "Saving to: 'otomoto.csv'\n",
      "\n",
      "otomoto.csv         100%[===================>]  19.95M  2.29MB/s    in 9.2s    \n",
      "\n",
      "2020-02-14 18:38:24 (2.18 MB/s) - 'otomoto.csv' saved [20920699/20920699]\n",
      "\n"
     ]
    }
   ],
   "source": [
    "!wget https://s3.eu-central-1.amazonaws.com/jkan.pl/data-science/uek/otomoto.csv"
   ]
  },
  {
   "cell_type": "markdown",
   "metadata": {},
   "source": [
    "#### Creating a RDD from a file\n",
    "The most common way of creating an RDD is to load it from a file. Notice that Spark's textFile can handle compressed files directly."
   ]
  },
  {
   "cell_type": "code",
   "execution_count": 18,
   "metadata": {},
   "outputs": [],
   "source": [
    "raw_data = sc.textFile('otomoto.csv')"
   ]
  },
  {
   "cell_type": "code",
   "execution_count": 19,
   "metadata": {},
   "outputs": [
    {
     "data": {
      "text/plain": [
       "51187"
      ]
     },
     "execution_count": 19,
     "metadata": {},
     "output_type": "execute_result"
    }
   ],
   "source": [
    "raw_data.count()"
   ]
  },
  {
   "cell_type": "code",
   "execution_count": 20,
   "metadata": {},
   "outputs": [
    {
     "data": {
      "text/plain": [
       "['\"id\";\"url\";\"Faktura VAT\";\"Marka pojazdu\";\"Model pojazdu\";\"Kategoria\";\"Pojemność skokowa\";\"Liczba miejsc\";\"Zarejestrowany w Polsce\";\"Wersja\";\"Typ\";\"Rok produkcji\";\"Serwisowany w ASO\";\"Leasing\";\"VIN\";\"Homologacja ciężarowa\";\"VAT marża\";\"Pierwszy właściciel\";\"Filtr cząstek stałych\";\"Rodzaj paliwa\";\"Emisja CO2\";\"Kraj pochodzenia\";\"Numer rejestracyjny pojazdu\";\"Bezwypadkowy\";\"Stan\";\"Pierwsza rejestracja\";\"title\";\"price\";\"Skrzynia biegów\";\"Perłowy\";\"Kierownica po prawej (Anglik)\";\"Liczba drzwi\";\"Metalik\";\"Przebieg\";\"Akryl (niemetalizowany)\";\"Możliwość finansowania\";\"Uszkodzony\";\"Oferta od\";\"Kod Silnika\";\"Kolor\";\"Napęd\";\"Moc\"',\n",
       " '\"6039269187\";\"https://www.otomoto.pl/oferta/renault-fluence-bezwypadkowy-instalacja-gazowa-ID6AI9Nx.html\";\"\";\"Renault\";\"Fluence\";\"Osobowe\";\"1 600 cm3\";\"5\";\"\";\"\";\"Sedan\";\"2013\";\"\";\"\";\"\";\"\";\"\";\"Tak\";\"\";\"Benzyna+LPG\";\"\";\"Czechy\";\"\";\"Tak\";\"Używane\";\"8 listopad 2013\";\"Renault Fluence\";\"25900.0\";\"Manualna\";\"\";\"\";\"4\";\"\";\"172 000 km\";\"Tak\";\"\";\"\";\"Osoby prywatnej\";\"\";\"Biały\";\"Na przednie koła\";\"110 KM\"']"
      ]
     },
     "execution_count": 20,
     "metadata": {},
     "output_type": "execute_result"
    }
   ],
   "source": [
    "raw_data.take(2)"
   ]
  },
  {
   "cell_type": "code",
   "execution_count": 21,
   "metadata": {},
   "outputs": [],
   "source": [
    "raw_data = sc.textFile('konstytucja.txt')"
   ]
  },
  {
   "cell_type": "code",
   "execution_count": 22,
   "metadata": {},
   "outputs": [
    {
     "data": {
      "text/plain": [
       "808"
      ]
     },
     "execution_count": 22,
     "metadata": {},
     "output_type": "execute_result"
    }
   ],
   "source": [
    "raw_data.count()"
   ]
  },
  {
   "cell_type": "markdown",
   "metadata": {},
   "source": [
    "#### Creating and RDD using parallelize\n",
    "Another way of creating an RDD is to parallelize an already existing list."
   ]
  },
  {
   "cell_type": "code",
   "execution_count": 23,
   "metadata": {},
   "outputs": [],
   "source": [
    "A = ((a, a*a) for a in range(1000))"
   ]
  },
  {
   "cell_type": "code",
   "execution_count": 24,
   "metadata": {},
   "outputs": [],
   "source": [
    "data = sc.parallelize(A)"
   ]
  },
  {
   "cell_type": "code",
   "execution_count": 25,
   "metadata": {},
   "outputs": [
    {
     "data": {
      "text/plain": [
       "1000"
      ]
     },
     "execution_count": 25,
     "metadata": {},
     "output_type": "execute_result"
    }
   ],
   "source": [
    "data.count()"
   ]
  },
  {
   "cell_type": "code",
   "execution_count": 26,
   "metadata": {},
   "outputs": [
    {
     "data": {
      "text/plain": [
       "[(0, 0),\n",
       " (1, 1),\n",
       " (2, 4),\n",
       " (3, 9),\n",
       " (4, 16),\n",
       " (5, 25),\n",
       " (6, 36),\n",
       " (7, 49),\n",
       " (8, 64),\n",
       " (9, 81)]"
      ]
     },
     "execution_count": 26,
     "metadata": {},
     "output_type": "execute_result"
    }
   ],
   "source": [
    "data.take(10)"
   ]
  },
  {
   "cell_type": "code",
   "execution_count": null,
   "metadata": {},
   "outputs": [],
   "source": []
  }
 ],
 "metadata": {
  "kernelspec": {
   "display_name": "Python 3",
   "language": "python",
   "name": "python3"
  },
  "language_info": {
   "codemirror_mode": {
    "name": "ipython",
    "version": 3
   },
   "file_extension": ".py",
   "mimetype": "text/x-python",
   "name": "python",
   "nbconvert_exporter": "python",
   "pygments_lexer": "ipython3",
   "version": "3.7.5"
  }
 },
 "nbformat": 4,
 "nbformat_minor": 4
}
