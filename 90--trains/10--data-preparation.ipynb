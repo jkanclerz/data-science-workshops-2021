{
 "cells": [
  {
   "cell_type": "code",
   "execution_count": 1,
   "metadata": {},
   "outputs": [
    {
     "name": "stdout",
     "output_type": "stream",
     "text": [
      "--2021-01-15 21:03:48--  http://ipa.lovethosetrains.com/ipa_17_18.7z\n",
      "Resolving ipa.lovethosetrains.com (ipa.lovethosetrains.com)... 51.255.167.155\n",
      "Connecting to ipa.lovethosetrains.com (ipa.lovethosetrains.com)|51.255.167.155|:80... connected.\n",
      "HTTP request sent, awaiting response... 200 OK\n",
      "Length: 152896489 (146M) [application/x-7z-compressed]\n",
      "Saving to: ‘ipa_17_18.7z’\n",
      "\n",
      "ipa_17_18.7z        100%[===================>] 145.81M  2.00MB/s    in 64s     \n",
      "\n",
      "2021-01-15 21:04:58 (2.27 MB/s) - ‘ipa_17_18.7z’ saved [152896489/152896489]\n",
      "\n"
     ]
    }
   ],
   "source": [
    "!wget http://ipa.lovethosetrains.com/ipa_17_18.7z"
   ]
  },
  {
   "cell_type": "code",
   "execution_count": 2,
   "metadata": {},
   "outputs": [
    {
     "name": "stdout",
     "output_type": "stream",
     "text": [
      "--2021-01-15 21:04:58--  http://ipa.lovethosetrains.com/ipa_18_19.7z\n",
      "Resolving ipa.lovethosetrains.com (ipa.lovethosetrains.com)... 51.255.167.155\n",
      "Connecting to ipa.lovethosetrains.com (ipa.lovethosetrains.com)|51.255.167.155|:80... connected.\n",
      "HTTP request sent, awaiting response... 200 OK\n",
      "Length: 168308826 (161M) [application/x-7z-compressed]\n",
      "Saving to: ‘ipa_18_19.7z’\n",
      "\n",
      "ipa_18_19.7z        100%[===================>] 160.51M  2.37MB/s    in 65s     \n",
      "\n",
      "2021-01-15 21:06:03 (2.48 MB/s) - ‘ipa_18_19.7z’ saved [168308826/168308826]\n",
      "\n"
     ]
    }
   ],
   "source": [
    "!wget http://ipa.lovethosetrains.com/ipa_18_19.7z"
   ]
  },
  {
   "cell_type": "code",
   "execution_count": 3,
   "metadata": {},
   "outputs": [
    {
     "name": "stdout",
     "output_type": "stream",
     "text": [
      "--2021-01-15 21:06:04--  http://ipa.lovethosetrains.com/ipa_19_20.7z\n",
      "Resolving ipa.lovethosetrains.com (ipa.lovethosetrains.com)... 51.255.167.155\n",
      "Connecting to ipa.lovethosetrains.com (ipa.lovethosetrains.com)|51.255.167.155|:80... connected.\n",
      "HTTP request sent, awaiting response... 200 OK\n",
      "Length: 145087196 (138M) [application/x-7z-compressed]\n",
      "Saving to: ‘ipa_19_20.7z’\n",
      "\n",
      "ipa_19_20.7z        100%[===================>] 138.37M  2.13MB/s    in 57s     \n",
      "\n",
      "2021-01-15 21:07:01 (2.42 MB/s) - ‘ipa_19_20.7z’ saved [145087196/145087196]\n",
      "\n"
     ]
    }
   ],
   "source": [
    "!wget http://ipa.lovethosetrains.com/ipa_19_20.7z"
   ]
  },
  {
   "cell_type": "code",
   "execution_count": 4,
   "metadata": {},
   "outputs": [],
   "source": [
    "from pyspark import SparkConf, SparkContext\n",
    "from pyspark.sql import SparkSession\n",
    "import os\n",
    "\n",
    "spark = SparkSession.builder \\\n",
    "    .master(\"spark://spark-master:7077\") \\\n",
    "    .appName(\"Test it 2\") \\\n",
    "    .getOrCreate()\n",
    "sc = spark.sparkContext"
   ]
  },
  {
   "cell_type": "code",
   "execution_count": 7,
   "metadata": {},
   "outputs": [],
   "source": [
    "train_sample = spark.read.json('train_dataset/train_17_18/1000_1 LEŚMIAN')"
   ]
  },
  {
   "cell_type": "code",
   "execution_count": 10,
   "metadata": {},
   "outputs": [],
   "source": [
    "trains = train_sample = spark.read.json('train_dataset/train_17_18/')"
   ]
  },
  {
   "cell_type": "code",
   "execution_count": 14,
   "metadata": {},
   "outputs": [],
   "source": [
    "sample = trains.limit(5)"
   ]
  },
  {
   "cell_type": "code",
   "execution_count": 16,
   "metadata": {},
   "outputs": [
    {
     "name": "stdout",
     "output_type": "stream",
     "text": [
      "root\n",
      " |-- schedules: array (nullable = true)\n",
      " |    |-- element: struct (containsNull = true)\n",
      " |    |    |-- info: array (nullable = true)\n",
      " |    |    |    |-- element: struct (containsNull = true)\n",
      " |    |    |    |    |-- arrival_delay: long (nullable = true)\n",
      " |    |    |    |    |-- arrival_time: timestamp (nullable = true)\n",
      " |    |    |    |    |-- departure_delay: long (nullable = true)\n",
      " |    |    |    |    |-- departure_time: timestamp (nullable = true)\n",
      " |    |    |    |    |-- station_name: string (nullable = true)\n",
      " |    |    |-- schedule_date: string (nullable = true)\n",
      " |    |    |-- schedule_id: long (nullable = true)\n",
      " |-- train_id: long (nullable = true)\n",
      " |-- train_name: string (nullable = true)\n",
      "\n"
     ]
    }
   ],
   "source": [
    "sample.printSchema()"
   ]
  },
  {
   "cell_type": "code",
   "execution_count": 15,
   "metadata": {},
   "outputs": [],
   "source": []
  },
  {
   "cell_type": "markdown",
   "metadata": {},
   "source": [
    "### docs\n",
    "https://spark.apache.org/docs/latest/api/python/pyspark.sql.html#module-pyspark.sql.functions\n",
    "https://spark.apache.org/docs/latest/api/python/pyspark.sql.html#pyspark.sql.functions.explode\n"
   ]
  },
  {
   "cell_type": "code",
   "execution_count": 20,
   "metadata": {},
   "outputs": [],
   "source": [
    "import pyspark.sql.functions as F\n",
    "from pyspark.sql.functions import explode"
   ]
  },
  {
   "cell_type": "code",
   "execution_count": 23,
   "metadata": {},
   "outputs": [
    {
     "name": "stdout",
     "output_type": "stream",
     "text": [
      "root\n",
      " |-- train_id: long (nullable = true)\n",
      " |-- train_name: string (nullable = true)\n",
      " |-- schedules: struct (nullable = true)\n",
      " |    |-- info: array (nullable = true)\n",
      " |    |    |-- element: struct (containsNull = true)\n",
      " |    |    |    |-- arrival_delay: long (nullable = true)\n",
      " |    |    |    |-- arrival_time: timestamp (nullable = true)\n",
      " |    |    |    |-- departure_delay: long (nullable = true)\n",
      " |    |    |    |-- departure_time: timestamp (nullable = true)\n",
      " |    |    |    |-- station_name: string (nullable = true)\n",
      " |    |-- schedule_date: string (nullable = true)\n",
      " |    |-- schedule_id: long (nullable = true)\n",
      "\n"
     ]
    }
   ],
   "source": [
    "sample\\\n",
    "    .select(\n",
    "        \"train_id\",\n",
    "        \"train_name\",\n",
    "        explode(\"schedules\").alias('schedules')\n",
    "    ) \\\n",
    "    .printSchema()"
   ]
  },
  {
   "cell_type": "code",
   "execution_count": 24,
   "metadata": {},
   "outputs": [],
   "source": [
    "from pyspark.sql.functions import col\n",
    "\n",
    "MODEL = sample\\\n",
    "    .select(\n",
    "        \"train_id\",\n",
    "        \"train_name\",\n",
    "        explode(\"schedules\").alias(\"schedules\")\n",
    "    ) \\\n",
    "    .select(\n",
    "        \"train_id\",\n",
    "        \"train_name\",\n",
    "        \"schedules.schedule_date\",\n",
    "        \"schedules.schedule_id\",\n",
    "        explode(\"schedules.info\").alias(\"info\")\n",
    "    ) \\\n",
    "    .select(\n",
    "        \"train_id\",\n",
    "        \"train_name\",\n",
    "        col(\"`schedules.schedule_date`\").cast(\"timestamp\").alias(\"schedule_date\"),\n",
    "        col(\"`schedules.schedule_id`\").alias(\"schedule_id\"),\n",
    "        \"info.*\"\n",
    "    ) \\\n",
    "    .select(\n",
    "        \"train_id\",\n",
    "        \"train_name\",\n",
    "        \"schedule_date\",\n",
    "        \"schedule_id\",\n",
    "        \"arrival_delay\",\n",
    "        col(\"arrival_time\").cast(\"timestamp\"),\n",
    "        \"departure_delay\",\n",
    "        col(\"departure_time\").cast(\"timestamp\"),\n",
    "        \"station_name\"\n",
    "    )\n",
    "    "
   ]
  },
  {
   "cell_type": "code",
   "execution_count": 25,
   "metadata": {},
   "outputs": [
    {
     "name": "stdout",
     "output_type": "stream",
     "text": [
      "root\n",
      " |-- train_id: long (nullable = true)\n",
      " |-- train_name: string (nullable = true)\n",
      " |-- schedule_date: timestamp (nullable = true)\n",
      " |-- schedule_id: long (nullable = true)\n",
      " |-- arrival_delay: long (nullable = true)\n",
      " |-- arrival_time: timestamp (nullable = true)\n",
      " |-- departure_delay: long (nullable = true)\n",
      " |-- departure_time: timestamp (nullable = true)\n",
      " |-- station_name: string (nullable = true)\n",
      "\n"
     ]
    }
   ],
   "source": [
    "MODEL.printSchema()"
   ]
  },
  {
   "cell_type": "code",
   "execution_count": 26,
   "metadata": {},
   "outputs": [
    {
     "data": {
      "text/plain": [
       "DataFrame[train_id: bigint, train_name: string, schedule_date: timestamp, schedule_id: bigint, arrival_delay: bigint, arrival_time: timestamp, departure_delay: bigint, departure_time: timestamp, station_name: string]"
      ]
     },
     "execution_count": 26,
     "metadata": {},
     "output_type": "execute_result"
    }
   ],
   "source": [
    "MODEL.cache()"
   ]
  },
  {
   "cell_type": "code",
   "execution_count": 27,
   "metadata": {},
   "outputs": [],
   "source": [
    "from pyspark.sql import SQLContext\n",
    "sqlContext = SQLContext(sc)\n",
    "MODEL.registerTempTable(\"trains\")"
   ]
  },
  {
   "cell_type": "code",
   "execution_count": 28,
   "metadata": {},
   "outputs": [
    {
     "name": "stdout",
     "output_type": "stream",
     "text": [
      "+--------+----------+-------------------+-----------+-------------+-------------------+---------------+-------------------+---------------+\n",
      "|train_id|train_name|      schedule_date|schedule_id|arrival_delay|       arrival_time|departure_delay|     departure_time|   station_name|\n",
      "+--------+----------+-------------------+-----------+-------------+-------------------+---------------+-------------------+---------------+\n",
      "|     261|   32314/5|2018-12-08 00:00:00|   53468349|         null|               null|              0|2018-12-08 14:07:00|  Kraków Główny|\n",
      "|     261|   32314/5|2018-12-08 00:00:00|   53468349|            0|2018-12-08 14:12:30|              0|2018-12-08 14:13:00|Kraków Batowice|\n",
      "|     261|   32314/5|2018-12-08 00:00:00|   53468349|            0|2018-12-08 14:20:30|              0|2018-12-08 14:21:00|         Zastów|\n",
      "|     261|   32314/5|2018-12-08 00:00:00|   53468349|            0|2018-12-08 14:24:18|              0|2018-12-08 14:24:48|      Baranówka|\n",
      "|     261|   32314/5|2018-12-08 00:00:00|   53468349|            0|2018-12-08 14:27:24|              0|2018-12-08 14:27:54|        Łuczyce|\n",
      "+--------+----------+-------------------+-----------+-------------+-------------------+---------------+-------------------+---------------+\n",
      "\n"
     ]
    }
   ],
   "source": [
    "sqlContext.sql(\"\"\"\n",
    "    Select * from trains LIMIT 5\n",
    "\"\"\").show()"
   ]
  },
  {
   "cell_type": "code",
   "execution_count": 29,
   "metadata": {},
   "outputs": [
    {
     "name": "stdout",
     "output_type": "stream",
     "text": [
      "+------------------+---------+\n",
      "|max(arrival_delay)|max_delay|\n",
      "+------------------+---------+\n",
      "|               217|       -7|\n",
      "+------------------+---------+\n",
      "\n"
     ]
    }
   ],
   "source": [
    "sqlContext.sql(\"\"\"\n",
    "    Select max(arrival_delay), min(arrival_delay) max_delay from trains LIMIT 5\n",
    "\"\"\").show()"
   ]
  },
  {
   "cell_type": "code",
   "execution_count": 30,
   "metadata": {},
   "outputs": [
    {
     "name": "stdout",
     "output_type": "stream",
     "text": [
      "+----------+------------------+---------------------------------+\n",
      "|train_name|      station_name|(arrival_delay - departure_delay)|\n",
      "+----------+------------------+---------------------------------+\n",
      "|   32314/5|          Słomniki|                                5|\n",
      "|   32314/5|          Słomniki|                                1|\n",
      "|   32314/5|            Kielce|                                4|\n",
      "|   32314/5|Skarżysko-Kamienna|                                1|\n",
      "|   32314/5|          Słomniki|                                5|\n",
      "+----------+------------------+---------------------------------+\n",
      "\n"
     ]
    }
   ],
   "source": [
    "sqlContext.sql(\"\"\"\n",
    "    Select train_name, station_name, (arrival_delay - departure_delay) from trains\n",
    "    WHERE (arrival_delay - departure_delay) > 0\n",
    "    LIMIT 5\n",
    "\"\"\").show()"
   ]
  },
  {
   "cell_type": "code",
   "execution_count": 65,
   "metadata": {},
   "outputs": [
    {
     "name": "stdout",
     "output_type": "stream",
     "text": [
      "+------------------+--------------------+---------------------------------+\n",
      "|        train_name|        station_name|(arrival_delay - departure_delay)|\n",
      "+------------------+--------------------+---------------------------------+\n",
      "|67900/1 KAMIEŃCZYK|          Piechowice|                                5|\n",
      "|67900/1 KAMIEŃCZYK|Wałbrzych Szczawi...|                                1|\n",
      "|67900/1 KAMIEŃCZYK|          Piechowice|                                5|\n",
      "|67900/1 KAMIEŃCZYK|Wałbrzych Szczawi...|                                2|\n",
      "|67900/1 KAMIEŃCZYK|      Wrocław Główny|                                8|\n",
      "+------------------+--------------------+---------------------------------+\n",
      "\n"
     ]
    }
   ],
   "source": [
    "sqlContext.sql(\"\"\"\n",
    "    Select train_name, station_name, (arrival_delay - departure_delay) from trains\n",
    "    WHERE (arrival_delay - departure_delay) > 0\n",
    "    LIMIT 5\n",
    "\"\"\").show()"
   ]
  },
  {
   "cell_type": "markdown",
   "metadata": {},
   "source": [
    "* opóźnienia są różne, czasem jakieś całkowicie nierealne – na przykład -520 minut (tak, minus – pociąg przyjechał za wcześnie! Kilka godzin!)\n",
    "* pociąg na danej stacji może mieć opóźniony przyjazd i opóźniony odjazd, może krócej stać na stacji i niwelować opóźnienie\n",
    "* jedno jest pewne – na stacji początkowej nie ma wartości dla arrival_delay, a na stacji końcowej – nie ma departure_delay.\n"
   ]
  },
  {
   "cell_type": "code",
   "execution_count": 31,
   "metadata": {},
   "outputs": [],
   "source": [
    "DELAYS = sqlContext.sql(\"\"\"\n",
    "    Select arrival_delay, count(train_id) as count from trains\n",
    "    WHERE \n",
    "        arrival_delay IS NOT NULL\n",
    "    GROUP BY arrival_delay\n",
    "    ORDER BY arrival_delay ASC\n",
    "    LIMIT 100\n",
    "\"\"\")"
   ]
  },
  {
   "cell_type": "code",
   "execution_count": 32,
   "metadata": {},
   "outputs": [
    {
     "name": "stdout",
     "output_type": "stream",
     "text": [
      "+-------------+-----+\n",
      "|arrival_delay|count|\n",
      "+-------------+-----+\n",
      "|           -7|    1|\n",
      "|           -6|    4|\n",
      "|           -5|    1|\n",
      "|           -4|    5|\n",
      "|           -3|   20|\n",
      "|           -2|  117|\n",
      "|           -1|  963|\n",
      "|            0|43990|\n",
      "|            1|10659|\n",
      "|            2| 6408|\n",
      "|            3| 4504|\n",
      "|            4| 3494|\n",
      "|            5| 2682|\n",
      "|            6| 1714|\n",
      "|            7| 1390|\n",
      "|            8| 1315|\n",
      "|            9|  990|\n",
      "|           10|  900|\n",
      "|           11|  768|\n",
      "|           12|  702|\n",
      "+-------------+-----+\n",
      "only showing top 20 rows\n",
      "\n"
     ]
    }
   ],
   "source": [
    "DELAYS.show()"
   ]
  },
  {
   "cell_type": "code",
   "execution_count": 33,
   "metadata": {},
   "outputs": [],
   "source": [
    "plot_data = DELAYS.toPandas()\n",
    "plot_data.index = plot_data['count']"
   ]
  },
  {
   "cell_type": "code",
   "execution_count": 34,
   "metadata": {},
   "outputs": [
    {
     "data": {
      "text/plain": [
       "<AxesSubplot:title={'center':'Opóźnienia pociągów'}, xlabel='arrival_delay'>"
      ]
     },
     "execution_count": 34,
     "metadata": {},
     "output_type": "execute_result"
    },
    {
     "data": {
      "image/png": "[encoded data removed]",
      "text/plain": [
       "<Figure size 1440x720 with 1 Axes>"
      ]
     },
     "metadata": {
      "needs_background": "light"
     },
     "output_type": "display_data"
    }
   ],
   "source": [
    "import matplotlib.pyplot as plt\n",
    "\n",
    "plt.rcParams[\"figure.figsize\"] = (20,10)\n",
    "\n",
    "plot_data.plot(kind='bar', x='arrival_delay', title=\"Opóźnienia pociągów\")"
   ]
  },
  {
   "cell_type": "code",
   "execution_count": 35,
   "metadata": {},
   "outputs": [
    {
     "data": {
      "text/html": [
       "<div>\n",
       "<style scoped>\n",
       "    .dataframe tbody tr th:only-of-type {\n",
       "        vertical-align: middle;\n",
       "    }\n",
       "\n",
       "    .dataframe tbody tr th {\n",
       "        vertical-align: top;\n",
       "    }\n",
       "\n",
       "    .dataframe thead th {\n",
       "        text-align: right;\n",
       "    }\n",
       "</style>\n",
       "<table border=\"1\" class=\"dataframe\">\n",
       "  <thead>\n",
       "    <tr style=\"text-align: right;\">\n",
       "      <th></th>\n",
       "      <th>arrival_delay</th>\n",
       "      <th>count</th>\n",
       "    </tr>\n",
       "  </thead>\n",
       "  <tbody>\n",
       "    <tr>\n",
       "      <th>count</th>\n",
       "      <td>100.000000</td>\n",
       "      <td>100.00000</td>\n",
       "    </tr>\n",
       "    <tr>\n",
       "      <th>mean</th>\n",
       "      <td>44.050000</td>\n",
       "      <td>849.53000</td>\n",
       "    </tr>\n",
       "    <tr>\n",
       "      <th>std</th>\n",
       "      <td>31.200678</td>\n",
       "      <td>4571.28877</td>\n",
       "    </tr>\n",
       "    <tr>\n",
       "      <th>min</th>\n",
       "      <td>-7.000000</td>\n",
       "      <td>1.00000</td>\n",
       "    </tr>\n",
       "    <tr>\n",
       "      <th>25%</th>\n",
       "      <td>17.750000</td>\n",
       "      <td>3.00000</td>\n",
       "    </tr>\n",
       "    <tr>\n",
       "      <th>50%</th>\n",
       "      <td>42.500000</td>\n",
       "      <td>14.00000</td>\n",
       "    </tr>\n",
       "    <tr>\n",
       "      <th>75%</th>\n",
       "      <td>70.250000</td>\n",
       "      <td>117.25000</td>\n",
       "    </tr>\n",
       "    <tr>\n",
       "      <th>max</th>\n",
       "      <td>104.000000</td>\n",
       "      <td>43990.00000</td>\n",
       "    </tr>\n",
       "  </tbody>\n",
       "</table>\n",
       "</div>"
      ],
      "text/plain": [
       "       arrival_delay        count\n",
       "count     100.000000    100.00000\n",
       "mean       44.050000    849.53000\n",
       "std        31.200678   4571.28877\n",
       "min        -7.000000      1.00000\n",
       "25%        17.750000      3.00000\n",
       "50%        42.500000     14.00000\n",
       "75%        70.250000    117.25000\n",
       "max       104.000000  43990.00000"
      ]
     },
     "execution_count": 35,
     "metadata": {},
     "output_type": "execute_result"
    }
   ],
   "source": [
    "plot_data.describe()"
   ]
  },
  {
   "cell_type": "code",
   "execution_count": 36,
   "metadata": {},
   "outputs": [],
   "source": [
    "MODEL.write.csv(\"trains_sample.csv\")"
   ]
  },
  {
   "cell_type": "code",
   "execution_count": 37,
   "metadata": {},
   "outputs": [],
   "source": [
    "sc.stop()"
   ]
  },
  {
   "cell_type": "code",
   "execution_count": null,
   "metadata": {},
   "outputs": [],
   "source": []
  }
 ],
 "metadata": {
  "kernelspec": {
   "display_name": "Python 3",
   "language": "python",
   "name": "python3"
  },
  "language_info": {
   "codemirror_mode": {
    "name": "ipython",
    "version": 3
   },
   "file_extension": ".py",
   "mimetype": "text/x-python",
   "name": "python",
   "nbconvert_exporter": "python",
   "pygments_lexer": "ipython3",
   "version": "3.7.3"
  }
 },
 "nbformat": 4,
 "nbformat_minor": 4
}
