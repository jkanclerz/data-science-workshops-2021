{
 "cells": [
  {
   "cell_type": "code",
   "execution_count": 2,
   "metadata": {},
   "outputs": [
    {
     "name": "stdout",
     "output_type": "stream",
     "text": [
      "Requirement already satisfied: pyspark==3.0.0 in /usr/local/lib/python3.7/dist-packages (3.0.0)\n",
      "Requirement already satisfied: py4j==0.10.9 in /usr/local/lib/python3.7/dist-packages (from pyspark==3.0.0) (0.10.9)\n",
      "Note: you may need to restart the kernel to use updated packages.\n"
     ]
    }
   ],
   "source": [
    "pip install pyspark==3.0.0"
   ]
  },
  {
   "cell_type": "code",
   "execution_count": 3,
   "metadata": {},
   "outputs": [],
   "source": [
    "from pyspark.sql import SparkSession\n",
    "\n",
    "working_directory = 'jars/*'\n",
    "\n",
    "spark = SparkSession.\\\n",
    "        builder.\\\n",
    "        appName(\"pyspark-with-mongo\").\\\n",
    "        master(\"spark://spark-master:7077\").\\\n",
    "        config(\"spark.executor.memory\", \"1g\").\\\n",
    "        config(\"spark.mongodb.input.uri\",\"mongodb://mongodb:27017/datascience.movies\").\\\n",
    "        config(\"spark.jars.packages\", \"org.mongodb.spark:mongo-spark-connector_2.12:3.0.0\").\\\n",
    "        config('spark.driver.extraClassPath', working_directory). \\\n",
    "        getOrCreate()\n",
    "\n",
    "sc = spark.sparkContext"
   ]
  },
  {
   "cell_type": "code",
   "execution_count": 4,
   "metadata": {},
   "outputs": [],
   "source": [
    "df = spark.read.format(\"com.mongodb.spark.sql.DefaultSource\")\\\n",
    "    .option(\"uri\", \"mongodb://mongodb:27017/datascience.movies\")\\\n",
    "    .load()"
   ]
  },
  {
   "cell_type": "markdown",
   "metadata": {},
   "source": [
    "## Który aktor wystąpił najwięcej razy"
   ]
  },
  {
   "cell_type": "code",
   "execution_count": 6,
   "metadata": {},
   "outputs": [
    {
     "name": "stdout",
     "output_type": "stream",
     "text": [
      "root\n",
      " |-- _id: struct (nullable = true)\n",
      " |    |-- oid: string (nullable = true)\n",
      " |-- actors: array (nullable = true)\n",
      " |    |-- element: string (containsNull = true)\n",
      " |-- awards: struct (nullable = true)\n",
      " |    |-- wins: integer (nullable = true)\n",
      " |    |-- nominations: integer (nullable = true)\n",
      " |    |-- text: string (nullable = true)\n",
      " |-- countries: array (nullable = true)\n",
      " |    |-- element: string (containsNull = true)\n",
      " |-- director: string (nullable = true)\n",
      " |-- genres: array (nullable = true)\n",
      " |    |-- element: string (containsNull = true)\n",
      " |-- imdb: struct (nullable = true)\n",
      " |    |-- id: string (nullable = true)\n",
      " |    |-- rating: double (nullable = true)\n",
      " |    |-- votes: integer (nullable = true)\n",
      " |-- metacritic: integer (nullable = true)\n",
      " |-- plot: string (nullable = true)\n",
      " |-- poster: string (nullable = true)\n",
      " |-- rated: string (nullable = true)\n",
      " |-- released: timestamp (nullable = true)\n",
      " |-- runtime: integer (nullable = true)\n",
      " |-- title: string (nullable = true)\n",
      " |-- tomato: struct (nullable = true)\n",
      " |    |-- meter: integer (nullable = true)\n",
      " |    |-- image: string (nullable = true)\n",
      " |    |-- rating: double (nullable = true)\n",
      " |    |-- reviews: integer (nullable = true)\n",
      " |    |-- fresh: integer (nullable = true)\n",
      " |    |-- consensus: string (nullable = true)\n",
      " |    |-- userMeter: integer (nullable = true)\n",
      " |    |-- userRating: double (nullable = true)\n",
      " |    |-- userReviews: integer (nullable = true)\n",
      " |-- type: string (nullable = true)\n",
      " |-- writers: array (nullable = true)\n",
      " |    |-- element: string (containsNull = true)\n",
      " |-- year: integer (nullable = true)\n",
      "\n"
     ]
    }
   ],
   "source": [
    "df.printSchema()"
   ]
  },
  {
   "cell_type": "code",
   "execution_count": 9,
   "metadata": {},
   "outputs": [],
   "source": [
    "from pyspark.sql.functions import *"
   ]
  },
  {
   "cell_type": "code",
   "execution_count": 24,
   "metadata": {},
   "outputs": [],
   "source": [
    "Most_popular_actors = df.select('_id', explode_outer('actors').alias('actor'))\\\n",
    "    .where(column('actor').isNotNull())\\\n",
    "    .groupBy('actor')\\\n",
    "    .agg(count(\"actor\").alias('movies_count'))\\\n",
    "    .orderBy(desc('movies_count'))\\\n",
    "    .limit(10)"
   ]
  },
  {
   "cell_type": "code",
   "execution_count": 25,
   "metadata": {},
   "outputs": [
    {
     "data": {
      "text/plain": [
       "DataFrame[actor: string, movies_count: bigint]"
      ]
     },
     "execution_count": 25,
     "metadata": {},
     "output_type": "execute_result"
    }
   ],
   "source": [
    "Most_popular_actors.cache()"
   ]
  },
  {
   "cell_type": "code",
   "execution_count": 26,
   "metadata": {},
   "outputs": [],
   "source": [
    "(df.write.format(\"orc\")\n",
    "    .save(\"most_popular_actors.orc\"))"
   ]
  },
  {
   "cell_type": "code",
   "execution_count": 27,
   "metadata": {},
   "outputs": [],
   "source": [
    "sc.stop()"
   ]
  },
  {
   "cell_type": "code",
   "execution_count": null,
   "metadata": {},
   "outputs": [],
   "source": []
  }
 ],
 "metadata": {
  "kernelspec": {
   "display_name": "Python 3",
   "language": "python",
   "name": "python3"
  },
  "language_info": {
   "codemirror_mode": {
    "name": "ipython",
    "version": 3
   },
   "file_extension": ".py",
   "mimetype": "text/x-python",
   "name": "python",
   "nbconvert_exporter": "python",
   "pygments_lexer": "ipython3",
   "version": "3.7.3"
  }
 },
 "nbformat": 4,
 "nbformat_minor": 4
}
