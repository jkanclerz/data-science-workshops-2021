{
 "cells": [
  {
   "cell_type": "code",
   "execution_count": 4,
   "metadata": {},
   "outputs": [
    {
     "name": "stdout",
     "output_type": "stream",
     "text": [
      "Requirement already satisfied: pyspark==3.0.0 in /usr/local/lib/python3.7/dist-packages (3.0.0)\n",
      "Requirement already satisfied: py4j==0.10.9 in /usr/local/lib/python3.7/dist-packages (from pyspark==3.0.0) (0.10.9)\n",
      "Note: you may need to restart the kernel to use updated packages.\n"
     ]
    }
   ],
   "source": [
    "pip install pyspark==3.0.0"
   ]
  },
  {
   "cell_type": "code",
   "execution_count": 5,
   "metadata": {},
   "outputs": [
    {
     "name": "stdout",
     "output_type": "stream",
     "text": [
      "Requirement already satisfied: psycopg2-binary in /usr/local/lib/python3.7/dist-packages (2.8.6)\n",
      "Requirement already satisfied: randomuser in /usr/local/lib/python3.7/dist-packages (1.6)\n",
      "Note: you may need to restart the kernel to use updated packages.\n"
     ]
    }
   ],
   "source": [
    "pip install psycopg2-binary randomuser"
   ]
  },
  {
   "cell_type": "code",
   "execution_count": 6,
   "metadata": {},
   "outputs": [],
   "source": [
    "import psycopg2"
   ]
  },
  {
   "cell_type": "code",
   "execution_count": 7,
   "metadata": {},
   "outputs": [],
   "source": [
    "def connect_db():\n",
    "    connection = psycopg2.connect(user=\"datascience\",\n",
    "                                  password=\"datascience\",\n",
    "                                  host=\"datascience\",\n",
    "                                  port=\"5432\",\n",
    "                                  database=\"datascience\")\n",
    "    return connection"
   ]
  },
  {
   "cell_type": "code",
   "execution_count": 8,
   "metadata": {},
   "outputs": [],
   "source": [
    "create_tables = '''\n",
    "DROP Table IF EXISTS \"ecommerce_customer\";\n",
    "CREATE TABLE \"ecommerce_customer\" (\n",
    "  \"id\" SERIAL PRIMARY KEY NOT NULL,\n",
    "  \"email\" varchar(255) NOT NULL,\n",
    "  \"email_canonical\" varchar(255) NOT NULL,\n",
    "  \"first_name\" varchar(255) DEFAULT NULL,\n",
    "  \"last_name\" varchar(255) DEFAULT NULL,\n",
    "  \"gender\" varchar(1) NOT NULL DEFAULT 'u',\n",
    "  \"created_at\" timestamp NOT NULL,\n",
    "  \"updated_at\" timestamp DEFAULT NULL,\n",
    "  \"phone_number\" varchar(255) DEFAULT NULL,\n",
    "  \"subscribed_to_newsletter\" varchar(1) NOT NULL\n",
    ");\n",
    "\n",
    "CREATE UNIQUE INDEX \"UNIQ_7E82D5E6E7927C74\" ON \"ecommerce_customer\" (\"email\");\n",
    "CREATE UNIQUE INDEX \"UNIQ_7E82D5E6A0D96FBF\" ON \"ecommerce_customer\" (\"email_canonical\");\n",
    "\n",
    "'''"
   ]
  },
  {
   "cell_type": "code",
   "execution_count": 9,
   "metadata": {},
   "outputs": [],
   "source": [
    "connection = connect_db()\n",
    "cursor = connection.cursor()\n",
    "cursor.execute(create_tables)\n",
    "connection.commit()"
   ]
  },
  {
   "cell_type": "code",
   "execution_count": 10,
   "metadata": {},
   "outputs": [],
   "source": [
    "from random import randint\n",
    "import random\n",
    "def create_account(mycursor, user):\n",
    "    sql = '''\n",
    "        INSERT INTO ecommerce_customer (email, email_canonical, first_name, last_name, gender, created_at, updated_at, phone_number, subscribed_to_newsletter)\n",
    "        VALUES\n",
    "        (%s, %s, %s, %s, %s, now(), now(), %s, %s);\n",
    "    '''\n",
    "    args = (user.get_email(), user.get_email(), user.get_first_name(), user.get_last_name(), random.choice(['m', 'f']), user.get_phone(), randint(0, 1))\n",
    "    \n",
    "    mycursor.execute(sql, args)\n"
   ]
  },
  {
   "cell_type": "code",
   "execution_count": 14,
   "metadata": {},
   "outputs": [],
   "source": [
    "from randomuser import RandomUser\n",
    "def random_user_exists(mycursor):\n",
    "    user = RandomUser()\n",
    "    create_account(mycursor, user)"
   ]
  },
  {
   "cell_type": "code",
   "execution_count": 15,
   "metadata": {},
   "outputs": [],
   "source": [
    "connection = connect_db()\n",
    "cursor = connection.cursor()\n",
    "for x in range(10):\n",
    "    random_user_exists(cursor)\n",
    "connection.commit()"
   ]
  },
  {
   "cell_type": "code",
   "execution_count": 16,
   "metadata": {},
   "outputs": [],
   "source": [
    "from pyspark.sql import SparkSession\n",
    "\n",
    "working_directory = 'jars/*'\n",
    "\n",
    "spark = SparkSession.\\\n",
    "        builder.\\\n",
    "        appName(\"pyspark-with-mongo\").\\\n",
    "        master(\"spark://spark-master:7077\").\\\n",
    "        config(\"spark.executor.memory\", \"1g\").\\\n",
    "        config(\"spark.mongodb.input.uri\",\"mongodb://mongodb:27017/ecommerce.orders\").\\\n",
    "        config(\"spark.jars.packages\", \"org.mongodb.spark:mongo-spark-connector_2.12:3.0.0,org.postgresql:postgresql:42.2.18\").\\\n",
    "        config('spark.driver.extraClassPath', working_directory). \\\n",
    "        config('spark.jars', working_directory).\\\n",
    "        getOrCreate()\n",
    "\n",
    "sc = spark.sparkContext"
   ]
  },
  {
   "cell_type": "code",
   "execution_count": 17,
   "metadata": {},
   "outputs": [
    {
     "data": {
      "text/html": [
       "\n",
       "        <div>\n",
       "            <p><b>SparkContext</b></p>\n",
       "\n",
       "            <p><a href=\"http://3a367d2ca5a9:4041\">Spark UI</a></p>\n",
       "\n",
       "            <dl>\n",
       "              <dt>Version</dt>\n",
       "                <dd><code>v3.0.0</code></dd>\n",
       "              <dt>Master</dt>\n",
       "                <dd><code>spark://spark-master:7077</code></dd>\n",
       "              <dt>AppName</dt>\n",
       "                <dd><code>pyspark-with-mongo</code></dd>\n",
       "            </dl>\n",
       "        </div>\n",
       "        "
      ],
      "text/plain": [
       "<SparkContext master=spark://spark-master:7077 appName=pyspark-with-mongo>"
      ]
     },
     "execution_count": 17,
     "metadata": {},
     "output_type": "execute_result"
    }
   ],
   "source": [
    "sc"
   ]
  },
  {
   "cell_type": "code",
   "execution_count": 18,
   "metadata": {},
   "outputs": [],
   "source": [
    "customers = spark.read.format('jdbc')\\\n",
    "    .option(\"url\", \"jdbc:postgresql://datascience:5432/datascience\")\\\n",
    "    .option(\"user\", \"datascience\")\\\n",
    "    .option(\"password\", \"datascience\")\\\n",
    "    .option(\"driver\", \"org.postgresql.Driver\") \\\n",
    "    .option(\"dbtable\", \"ecommerce_customer\")\\\n",
    "    .load()\n",
    "    \n",
    "    "
   ]
  },
  {
   "cell_type": "code",
   "execution_count": 19,
   "metadata": {},
   "outputs": [
    {
     "name": "stdout",
     "output_type": "stream",
     "text": [
      "root\n",
      " |-- id: integer (nullable = true)\n",
      " |-- email: string (nullable = true)\n",
      " |-- email_canonical: string (nullable = true)\n",
      " |-- first_name: string (nullable = true)\n",
      " |-- last_name: string (nullable = true)\n",
      " |-- gender: string (nullable = true)\n",
      " |-- created_at: timestamp (nullable = true)\n",
      " |-- updated_at: timestamp (nullable = true)\n",
      " |-- phone_number: string (nullable = true)\n",
      " |-- subscribed_to_newsletter: string (nullable = true)\n",
      "\n"
     ]
    }
   ],
   "source": [
    "customers.printSchema()"
   ]
  },
  {
   "cell_type": "code",
   "execution_count": 20,
   "metadata": {},
   "outputs": [
    {
     "name": "stdout",
     "output_type": "stream",
     "text": [
      "+--------------------+---+\n",
      "|               email| id|\n",
      "+--------------------+---+\n",
      "|enzo.jean@example...|  1|\n",
      "|hillebrand.vander...|  2|\n",
      "|isabella.freeman@...|  3|\n",
      "|louka.noel@exampl...|  4|\n",
      "|kjell.hoffmann@ex...|  5|\n",
      "|jessica.perkins@e...|  6|\n",
      "|alix.dupuis@examp...|  7|\n",
      "|miriam.barros@exa...|  8|\n",
      "|ines.gil@example.com|  9|\n",
      "|maxime.garnier@ex...| 10|\n",
      "+--------------------+---+\n",
      "\n"
     ]
    }
   ],
   "source": [
    "customers.select('email', 'id').show()"
   ]
  },
  {
   "cell_type": "code",
   "execution_count": 21,
   "metadata": {},
   "outputs": [
    {
     "name": "stdout",
     "output_type": "stream",
     "text": [
      "Requirement already satisfied: pymongo in /usr/local/lib/python3.7/dist-packages (3.11.2)\n",
      "Note: you may need to restart the kernel to use updated packages.\n"
     ]
    }
   ],
   "source": [
    "pip install pymongo"
   ]
  },
  {
   "cell_type": "code",
   "execution_count": 22,
   "metadata": {},
   "outputs": [],
   "source": [
    "from pymongo import MongoClient\n",
    "from pprint import pprint as pp\n",
    "client = MongoClient('mongodb://mongodb:27017')\n",
    "db = client.ecommerce"
   ]
  },
  {
   "cell_type": "code",
   "execution_count": 23,
   "metadata": {},
   "outputs": [],
   "source": [
    "import random\n",
    "def generate_order():\n",
    "    return {\n",
    "        \"customer_id\": random.randint(0,10),\n",
    "        \"total\": random.randint(2000, 5000),\n",
    "        \"lines\": [{\"product_id\": random.randint(1,200), \"quantity\": random.randint(1,5)} for i in range (1, random.randint(1, 10))]\n",
    "    }"
   ]
  },
  {
   "cell_type": "code",
   "execution_count": 24,
   "metadata": {},
   "outputs": [],
   "source": [
    "for x in range(10):\n",
    "    order = generate_order()\n",
    "    db.orders.insert_one(order)"
   ]
  },
  {
   "cell_type": "code",
   "execution_count": 25,
   "metadata": {},
   "outputs": [],
   "source": [
    "orders = spark.read.format(\"com.mongodb.spark.sql.DefaultSource\")\\\n",
    "    .option(\"uri\", \"mongodb://mongodb:27017/ecommerce.orders\")\\\n",
    "    .load()"
   ]
  },
  {
   "cell_type": "code",
   "execution_count": 26,
   "metadata": {},
   "outputs": [
    {
     "name": "stdout",
     "output_type": "stream",
     "text": [
      "+--------------------+-----------+--------------------+-----+\n",
      "|                 _id|customer_id|               lines|total|\n",
      "+--------------------+-----------+--------------------+-----+\n",
      "|[6001ae6e8f657fd0...|          4|[[130, 4], [133, ...| 4375|\n",
      "|[6001ae6e8f657fd0...|          8|          [[101, 4]]| 3113|\n",
      "|[6001ae6e8f657fd0...|          2|            [[5, 1]]| 4508|\n",
      "|[6001ae6e8f657fd0...|          0|[[81, 2], [177, 4...| 2171|\n",
      "|[6001ae6e8f657fd0...|          0|[[41, 3], [115, 3...| 2297|\n",
      "|[6001ae6e8f657fd0...|          1|[[186, 2], [19, 4...| 4654|\n",
      "|[6001ae6e8f657fd0...|          2| [[59, 2], [147, 5]]| 3468|\n",
      "|[6001ae6e8f657fd0...|         10|[[170, 2], [74, 5...| 3674|\n",
      "|[6001ae6e8f657fd0...|          8|[[151, 4], [175, 5]]| 4780|\n",
      "|[6001ae6e8f657fd0...|          4|[[172, 4], [60, 2...| 3271|\n",
      "+--------------------+-----------+--------------------+-----+\n",
      "\n"
     ]
    }
   ],
   "source": [
    "orders.select('*').show()"
   ]
  },
  {
   "cell_type": "markdown",
   "metadata": {},
   "source": [
    "### pytania\n",
    "* Który customer zakupił za największą kwotę\n",
    "* Czy kupujący posiadający subskrypcję do newslettera kupują więcej?"
   ]
  },
  {
   "cell_type": "code",
   "execution_count": 27,
   "metadata": {},
   "outputs": [],
   "source": [
    "from pyspark.sql import SQLContext\n",
    "sqlContext = SQLContext(sc)"
   ]
  },
  {
   "cell_type": "code",
   "execution_count": 28,
   "metadata": {},
   "outputs": [],
   "source": [
    "orders.registerTempTable(\"orders\")\n",
    "customers.registerTempTable(\"customers\")"
   ]
  },
  {
   "cell_type": "code",
   "execution_count": 32,
   "metadata": {},
   "outputs": [
    {
     "name": "stdout",
     "output_type": "stream",
     "text": [
      "+---+-----+\n",
      "| id|total|\n",
      "+---+-----+\n",
      "|  2| 7976|\n",
      "|  8| 7893|\n",
      "|  4| 7646|\n",
      "|  1| 4654|\n",
      "| 10| 3674|\n",
      "+---+-----+\n",
      "\n"
     ]
    }
   ],
   "source": [
    "top_buyers = sqlContext.sql('''\n",
    "    select c.id, sum(o.total) as total\n",
    "        from orders o\n",
    "        JOIN customers c on o.customer_id = c.id\n",
    "        group by c.id\n",
    "        order by total DESC\n",
    "''').show()"
   ]
  },
  {
   "cell_type": "code",
   "execution_count": 40,
   "metadata": {},
   "outputs": [],
   "source": [
    "toBeAwarded = sqlContext.sql('''\n",
    "    select \n",
    "        rank() over (order by total desc) as place,\n",
    "        first_name, \n",
    "        last_name,\n",
    "        total \n",
    "    from (\n",
    "        select c.id, sum(o.total) as total\n",
    "        from orders o\n",
    "        JOIN customers c on o.customer_id = c.id\n",
    "        group by c.id\n",
    "        order by total DESC\n",
    "    ) as t1 join customers c on t1.id = c.id order by total desc\n",
    "    \n",
    "''')"
   ]
  },
  {
   "cell_type": "code",
   "execution_count": 41,
   "metadata": {},
   "outputs": [
    {
     "name": "stdout",
     "output_type": "stream",
     "text": [
      "+-----+----------+-------------+-----+\n",
      "|place|first_name|    last_name|total|\n",
      "+-----+----------+-------------+-----+\n",
      "|    1|Hillebrand|Van der Weele| 7976|\n",
      "|    2|    Miriam|       Barros| 7893|\n",
      "|    3|     Louka|         Noel| 7646|\n",
      "|    4|      Enzo|         Jean| 4654|\n",
      "|    5|    Maxime|      Garnier| 3674|\n",
      "+-----+----------+-------------+-----+\n",
      "\n"
     ]
    }
   ],
   "source": [
    "toBeAwarded.show()"
   ]
  },
  {
   "cell_type": "code",
   "execution_count": 42,
   "metadata": {},
   "outputs": [],
   "source": [
    "customers = toBeAwarded.collect()"
   ]
  },
  {
   "cell_type": "code",
   "execution_count": 46,
   "metadata": {},
   "outputs": [
    {
     "data": {
      "text/plain": [
       "[Row(place=1, first_name='Hillebrand', last_name='Van der Weele', total=7976),\n",
       " Row(place=2, first_name='Miriam', last_name='Barros', total=7893),\n",
       " Row(place=3, first_name='Louka', last_name='Noel', total=7646),\n",
       " Row(place=4, first_name='Enzo', last_name='Jean', total=4654),\n",
       " Row(place=5, first_name='Maxime', last_name='Garnier', total=3674)]"
      ]
     },
     "execution_count": 46,
     "metadata": {},
     "output_type": "execute_result"
    }
   ],
   "source": [
    "customers"
   ]
  },
  {
   "cell_type": "code",
   "execution_count": 47,
   "metadata": {},
   "outputs": [],
   "source": [
    "sc.stop()"
   ]
  },
  {
   "cell_type": "code",
   "execution_count": null,
   "metadata": {},
   "outputs": [],
   "source": []
  }
 ],
 "metadata": {
  "kernelspec": {
   "display_name": "Python 3",
   "language": "python",
   "name": "python3"
  },
  "language_info": {
   "codemirror_mode": {
    "name": "ipython",
    "version": 3
   },
   "file_extension": ".py",
   "mimetype": "text/x-python",
   "name": "python",
   "nbconvert_exporter": "python",
   "pygments_lexer": "ipython3",
   "version": "3.7.3"
  }
 },
 "nbformat": 4,
 "nbformat_minor": 4
}
