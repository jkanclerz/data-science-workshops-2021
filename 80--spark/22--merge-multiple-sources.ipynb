{
 "cells": [
  {
   "cell_type": "code",
   "execution_count": null,
   "metadata": {},
   "outputs": [],
   "source": [
    "pip install pyspark==3.0.0"
   ]
  },
  {
   "cell_type": "code",
   "execution_count": null,
   "metadata": {},
   "outputs": [],
   "source": [
    "pip install psycopg2-binary randomuser"
   ]
  },
  {
   "cell_type": "code",
   "execution_count": null,
   "metadata": {},
   "outputs": [],
   "source": [
    "import psycopg2"
   ]
  },
  {
   "cell_type": "code",
   "execution_count": null,
   "metadata": {},
   "outputs": [],
   "source": [
    "def connect_db():\n",
    "    connection = psycopg2.connect(user=\"datascience\",\n",
    "                                  password=\"datascience\",\n",
    "                                  host=\"datascience\",\n",
    "                                  port=\"5432\",\n",
    "                                  database=\"datascience\")\n",
    "    return connection"
   ]
  },
  {
   "cell_type": "code",
   "execution_count": null,
   "metadata": {},
   "outputs": [],
   "source": [
    "create_tables = '''\n",
    "DROP Table IF EXISTS \"ecommerce_customer\";\n",
    "CREATE TABLE \"ecommerce_customer\" (\n",
    "  \"id\" SERIAL PRIMARY KEY NOT NULL,\n",
    "  \"email\" varchar(255) NOT NULL,\n",
    "  \"email_canonical\" varchar(255) NOT NULL,\n",
    "  \"first_name\" varchar(255) DEFAULT NULL,\n",
    "  \"last_name\" varchar(255) DEFAULT NULL,\n",
    "  \"gender\" varchar(1) NOT NULL DEFAULT 'u',\n",
    "  \"created_at\" timestamp NOT NULL,\n",
    "  \"updated_at\" timestamp DEFAULT NULL,\n",
    "  \"phone_number\" varchar(255) DEFAULT NULL,\n",
    "  \"subscribed_to_newsletter\" varchar(1) NOT NULL\n",
    ");\n",
    "\n",
    "CREATE UNIQUE INDEX \"UNIQ_7E82D5E6E7927C74\" ON \"ecommerce_customer\" (\"email\");\n",
    "CREATE UNIQUE INDEX \"UNIQ_7E82D5E6A0D96FBF\" ON \"ecommerce_customer\" (\"email_canonical\");\n",
    "\n",
    "'''"
   ]
  },
  {
   "cell_type": "code",
   "execution_count": null,
   "metadata": {},
   "outputs": [],
   "source": [
    "connection = connect_db()\n",
    "cursor = connection.cursor()\n",
    "cursor.execute(create_tables)\n",
    "connection.commit()"
   ]
  },
  {
   "cell_type": "code",
   "execution_count": null,
   "metadata": {},
   "outputs": [],
   "source": [
    "from random import randint\n",
    "import random\n",
    "def create_account(mycursor, user):\n",
    "    sql = '''\n",
    "        INSERT INTO ecommerce_customer (email, email_canonical, first_name, last_name, gender, created_at, updated_at, phone_number, subscribed_to_newsletter)\n",
    "        VALUES\n",
    "        (%s, %s, %s, %s, %s, now(), now(), %s, %s);\n",
    "    '''\n",
    "    args = (user.get_email(), user.get_email(), user.get_first_name(), user.get_last_name(), random.choice(['m', 'f']), user.get_phone(), randint(0, 1))\n",
    "    \n",
    "    mycursor.execute(sql, args)\n"
   ]
  },
  {
   "cell_type": "code",
   "execution_count": null,
   "metadata": {},
   "outputs": [],
   "source": [
    "from randomuser import RandomUser\n",
    "def random_user_exists(mycursor):\n",
    "    user = RandomUser()\n",
    "    create_account(mycursor, user)"
   ]
  },
  {
   "cell_type": "code",
   "execution_count": null,
   "metadata": {},
   "outputs": [],
   "source": [
    "connection = connect_db()\n",
    "cursor = connection.cursor()\n",
    "for x in range(10):\n",
    "    random_user_exists(cursor)\n",
    "connection.commit()"
   ]
  },
  {
   "cell_type": "code",
   "execution_count": null,
   "metadata": {},
   "outputs": [],
   "source": [
    "from pyspark.sql import SparkSession\n",
    "\n",
    "working_directory = 'jars/*'\n",
    "\n",
    "spark = SparkSession.\\\n",
    "        builder.\\\n",
    "        appName(\"pyspark-with-mongo\").\\\n",
    "        master(\"spark://spark-master:7077\").\\\n",
    "        config(\"spark.executor.memory\", \"1g\").\\\n",
    "        config(\"spark.mongodb.input.uri\",\"mongodb://mongodb:27017/datascience.movies\").\\\n",
    "        config(\"spark.jars.packages\", \"org.mongodb.spark:mongo-spark-connector_2.12:3.0.0,org.postgresql:postgresql:42.2.18\").\\\n",
    "        config('spark.driver.extraClassPath', working_directory). \\\n",
    "        config('spark.jars', working_directory).\\\n",
    "        getOrCreate()\n",
    "\n",
    "sc = spark.sparkContext"
   ]
  },
  {
   "cell_type": "code",
   "execution_count": null,
   "metadata": {},
   "outputs": [],
   "source": [
    "sc.stop()"
   ]
  },
  {
   "cell_type": "code",
   "execution_count": null,
   "metadata": {},
   "outputs": [],
   "source": [
    "customers = spark.read.format('jdbc')\\\n",
    "    .option(\"url\", \"jdbc:postgresql://datascience:5432/datascience\")\\\n",
    "    .option(\"user\", \"datascience\")\\\n",
    "    .option(\"password\", \"datascience\")\\\n",
    "    .option(\"driver\", \"org.postgresql.Driver\") \\\n",
    "    .option(\"dbtable\", \"ecommerce_customer\")\\\n",
    "    .load()\n",
    "    \n",
    "    "
   ]
  },
  {
   "cell_type": "code",
   "execution_count": null,
   "metadata": {},
   "outputs": [],
   "source": [
    "customers.printSchema()"
   ]
  },
  {
   "cell_type": "code",
   "execution_count": null,
   "metadata": {},
   "outputs": [],
   "source": [
    "from pymongo import MongoClient\n",
    "from pprint import pprint as pp\n",
    "client = MongoClient('mongodb://mongodb:27017')\n",
    "db = client.ecommerce"
   ]
  },
  {
   "cell_type": "code",
   "execution_count": null,
   "metadata": {},
   "outputs": [],
   "source": [
    "import random\n",
    "def generate_order():\n",
    "    return {\n",
    "        \"customer_id\": random.randint(0,10),\n",
    "        \"total\": random.randint(2000, 5000),\n",
    "        \"lines\": [{\"product_id\": random.randint(1,200), \"quantity\": random.randint(1,5)} for i in range (1, random.randint(1, 10))]\n",
    "    }"
   ]
  },
  {
   "cell_type": "code",
   "execution_count": null,
   "metadata": {},
   "outputs": [],
   "source": [
    "for x in range(10):\n",
    "    order = generate_order()\n",
    "    db.orders.insert_one(order)"
   ]
  },
  {
   "cell_type": "code",
   "execution_count": null,
   "metadata": {},
   "outputs": [],
   "source": [
    "orders = spark.read.format(\"com.mongodb.spark.sql.DefaultSource\")\\\n",
    "    .option(\"uri\", \"mongodb://mongodb:27017/ecommerce.orders\")\\\n",
    "    .load()"
   ]
  },
  {
   "cell_type": "code",
   "execution_count": null,
   "metadata": {},
   "outputs": [],
   "source": [
    "orders.select('*').show()"
   ]
  },
  {
   "cell_type": "markdown",
   "metadata": {},
   "source": [
    "###\n",
    "* Który customer zakupił za największą kwotę\n",
    "* Czy kupujący posiadający subskrypcję do newslettera kupują więcej?"
   ]
  },
  {
   "cell_type": "code",
   "execution_count": 1,
   "metadata": {},
   "outputs": [
    {
     "ename": "NameError",
     "evalue": "name 'sc' is not defined",
     "output_type": "error",
     "traceback": [
      "\u001b[0;31m---------------------------------------------------------------------------\u001b[0m",
      "\u001b[0;31mNameError\u001b[0m                                 Traceback (most recent call last)",
      "\u001b[0;32m<ipython-input-1-8d3513b7698b>\u001b[0m in \u001b[0;36m<module>\u001b[0;34m\u001b[0m\n\u001b[0;32m----> 1\u001b[0;31m \u001b[0msc\u001b[0m\u001b[0;34m.\u001b[0m\u001b[0mstop\u001b[0m\u001b[0;34m(\u001b[0m\u001b[0;34m)\u001b[0m\u001b[0;34m\u001b[0m\u001b[0;34m\u001b[0m\u001b[0m\n\u001b[0m",
      "\u001b[0;31mNameError\u001b[0m: name 'sc' is not defined"
     ]
    }
   ],
   "source": [
    "sc.stop()"
   ]
  },
  {
   "cell_type": "code",
   "execution_count": null,
   "metadata": {},
   "outputs": [],
   "source": []
  }
 ],
 "metadata": {
  "kernelspec": {
   "display_name": "Python 3",
   "language": "python",
   "name": "python3"
  },
  "language_info": {
   "codemirror_mode": {
    "name": "ipython",
    "version": 3
   },
   "file_extension": ".py",
   "mimetype": "text/x-python",
   "name": "python",
   "nbconvert_exporter": "python",
   "pygments_lexer": "ipython3",
   "version": "3.7.3"
  }
 },
 "nbformat": 4,
 "nbformat_minor": 4
}
